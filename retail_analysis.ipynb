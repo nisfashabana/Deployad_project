{
 "cells": [
  {
   "cell_type": "markdown",
   "id": "67be80e4-559c-483d-a3c5-742022d5a22f",
   "metadata": {},
   "source": [
    "## Data Collection & Preparing"
   ]
  },
  {
   "cell_type": "code",
   "execution_count": 5,
   "id": "6b8f1dfc-a10c-4f2a-88b3-4d6af34f168c",
   "metadata": {},
   "outputs": [],
   "source": [
    "import pandas as pd\n",
    "import pandas as pd # data processing, CSV file I/O (e.g. pd.read_csv)\n",
    "import matplotlib.pyplot as plt\n",
    "import seaborn as sns\n",
    "import warnings\n",
    "warnings.filterwarnings('ignore')"
   ]
  },
  {
   "cell_type": "code",
   "execution_count": 7,
   "id": "1e4860f5-08cd-4941-bc53-50031c6a6f7b",
   "metadata": {},
   "outputs": [],
   "source": [
    "data=pd.read_csv(r\"C:\\Users\\nisfa\\Downloads\\new_retail_data.csv\\new_retail_data.csv\")"
   ]
  },
  {
   "cell_type": "code",
   "execution_count": 8,
   "id": "0271f81b-7e47-49ee-b8f5-11d6a1bfc9f8",
   "metadata": {},
   "outputs": [
    {
     "data": {
      "text/html": [
       "<div>\n",
       "<style scoped>\n",
       "    .dataframe tbody tr th:only-of-type {\n",
       "        vertical-align: middle;\n",
       "    }\n",
       "\n",
       "    .dataframe tbody tr th {\n",
       "        vertical-align: top;\n",
       "    }\n",
       "\n",
       "    .dataframe thead th {\n",
       "        text-align: right;\n",
       "    }\n",
       "</style>\n",
       "<table border=\"1\" class=\"dataframe\">\n",
       "  <thead>\n",
       "    <tr style=\"text-align: right;\">\n",
       "      <th></th>\n",
       "      <th>Transaction_ID</th>\n",
       "      <th>Customer_ID</th>\n",
       "      <th>Name</th>\n",
       "      <th>Email</th>\n",
       "      <th>Phone</th>\n",
       "      <th>Address</th>\n",
       "      <th>City</th>\n",
       "      <th>State</th>\n",
       "      <th>Zipcode</th>\n",
       "      <th>Country</th>\n",
       "      <th>...</th>\n",
       "      <th>Total_Amount</th>\n",
       "      <th>Product_Category</th>\n",
       "      <th>Product_Brand</th>\n",
       "      <th>Product_Type</th>\n",
       "      <th>Feedback</th>\n",
       "      <th>Shipping_Method</th>\n",
       "      <th>Payment_Method</th>\n",
       "      <th>Order_Status</th>\n",
       "      <th>Ratings</th>\n",
       "      <th>products</th>\n",
       "    </tr>\n",
       "  </thead>\n",
       "  <tbody>\n",
       "    <tr>\n",
       "      <th>0</th>\n",
       "      <td>8691788.0</td>\n",
       "      <td>37249.0</td>\n",
       "      <td>Michelle Harrington</td>\n",
       "      <td>Ebony39@gmail.com</td>\n",
       "      <td>1.414787e+09</td>\n",
       "      <td>3959 Amanda Burgs</td>\n",
       "      <td>Dortmund</td>\n",
       "      <td>Berlin</td>\n",
       "      <td>77985.0</td>\n",
       "      <td>Germany</td>\n",
       "      <td>...</td>\n",
       "      <td>324.086270</td>\n",
       "      <td>Clothing</td>\n",
       "      <td>Nike</td>\n",
       "      <td>Shorts</td>\n",
       "      <td>Excellent</td>\n",
       "      <td>Same-Day</td>\n",
       "      <td>Debit Card</td>\n",
       "      <td>Shipped</td>\n",
       "      <td>5.0</td>\n",
       "      <td>Cycling shorts</td>\n",
       "    </tr>\n",
       "    <tr>\n",
       "      <th>1</th>\n",
       "      <td>2174773.0</td>\n",
       "      <td>69749.0</td>\n",
       "      <td>Kelsey Hill</td>\n",
       "      <td>Mark36@gmail.com</td>\n",
       "      <td>6.852900e+09</td>\n",
       "      <td>82072 Dawn Centers</td>\n",
       "      <td>Nottingham</td>\n",
       "      <td>England</td>\n",
       "      <td>99071.0</td>\n",
       "      <td>UK</td>\n",
       "      <td>...</td>\n",
       "      <td>806.707815</td>\n",
       "      <td>Electronics</td>\n",
       "      <td>Samsung</td>\n",
       "      <td>Tablet</td>\n",
       "      <td>Excellent</td>\n",
       "      <td>Standard</td>\n",
       "      <td>Credit Card</td>\n",
       "      <td>Processing</td>\n",
       "      <td>4.0</td>\n",
       "      <td>Lenovo Tab</td>\n",
       "    </tr>\n",
       "    <tr>\n",
       "      <th>2</th>\n",
       "      <td>6679610.0</td>\n",
       "      <td>30192.0</td>\n",
       "      <td>Scott Jensen</td>\n",
       "      <td>Shane85@gmail.com</td>\n",
       "      <td>8.362160e+09</td>\n",
       "      <td>4133 Young Canyon</td>\n",
       "      <td>Geelong</td>\n",
       "      <td>New South Wales</td>\n",
       "      <td>75929.0</td>\n",
       "      <td>Australia</td>\n",
       "      <td>...</td>\n",
       "      <td>1063.432799</td>\n",
       "      <td>Books</td>\n",
       "      <td>Penguin Books</td>\n",
       "      <td>Children's</td>\n",
       "      <td>Average</td>\n",
       "      <td>Same-Day</td>\n",
       "      <td>Credit Card</td>\n",
       "      <td>Processing</td>\n",
       "      <td>2.0</td>\n",
       "      <td>Sports equipment</td>\n",
       "    </tr>\n",
       "    <tr>\n",
       "      <th>3</th>\n",
       "      <td>7232460.0</td>\n",
       "      <td>62101.0</td>\n",
       "      <td>Joseph Miller</td>\n",
       "      <td>Mary34@gmail.com</td>\n",
       "      <td>2.776752e+09</td>\n",
       "      <td>8148 Thomas Creek Suite 100</td>\n",
       "      <td>Edmonton</td>\n",
       "      <td>Ontario</td>\n",
       "      <td>88420.0</td>\n",
       "      <td>Canada</td>\n",
       "      <td>...</td>\n",
       "      <td>2466.854021</td>\n",
       "      <td>Home Decor</td>\n",
       "      <td>Home Depot</td>\n",
       "      <td>Tools</td>\n",
       "      <td>Excellent</td>\n",
       "      <td>Standard</td>\n",
       "      <td>PayPal</td>\n",
       "      <td>Processing</td>\n",
       "      <td>4.0</td>\n",
       "      <td>Utility knife</td>\n",
       "    </tr>\n",
       "    <tr>\n",
       "      <th>4</th>\n",
       "      <td>4983775.0</td>\n",
       "      <td>27901.0</td>\n",
       "      <td>Debra Coleman</td>\n",
       "      <td>Charles30@gmail.com</td>\n",
       "      <td>9.098268e+09</td>\n",
       "      <td>5813 Lori Ports Suite 269</td>\n",
       "      <td>Bristol</td>\n",
       "      <td>England</td>\n",
       "      <td>48704.0</td>\n",
       "      <td>UK</td>\n",
       "      <td>...</td>\n",
       "      <td>248.553049</td>\n",
       "      <td>Grocery</td>\n",
       "      <td>Nestle</td>\n",
       "      <td>Chocolate</td>\n",
       "      <td>Bad</td>\n",
       "      <td>Standard</td>\n",
       "      <td>Cash</td>\n",
       "      <td>Shipped</td>\n",
       "      <td>1.0</td>\n",
       "      <td>Chocolate cookies</td>\n",
       "    </tr>\n",
       "  </tbody>\n",
       "</table>\n",
       "<p>5 rows × 30 columns</p>\n",
       "</div>"
      ],
      "text/plain": [
       "   Transaction_ID  Customer_ID                 Name                Email  \\\n",
       "0       8691788.0      37249.0  Michelle Harrington    Ebony39@gmail.com   \n",
       "1       2174773.0      69749.0          Kelsey Hill     Mark36@gmail.com   \n",
       "2       6679610.0      30192.0         Scott Jensen    Shane85@gmail.com   \n",
       "3       7232460.0      62101.0        Joseph Miller     Mary34@gmail.com   \n",
       "4       4983775.0      27901.0        Debra Coleman  Charles30@gmail.com   \n",
       "\n",
       "          Phone                      Address        City            State  \\\n",
       "0  1.414787e+09            3959 Amanda Burgs    Dortmund           Berlin   \n",
       "1  6.852900e+09           82072 Dawn Centers  Nottingham          England   \n",
       "2  8.362160e+09            4133 Young Canyon     Geelong  New South Wales   \n",
       "3  2.776752e+09  8148 Thomas Creek Suite 100    Edmonton          Ontario   \n",
       "4  9.098268e+09    5813 Lori Ports Suite 269     Bristol          England   \n",
       "\n",
       "   Zipcode    Country  ...  Total_Amount Product_Category  Product_Brand  \\\n",
       "0  77985.0    Germany  ...    324.086270         Clothing           Nike   \n",
       "1  99071.0         UK  ...    806.707815      Electronics        Samsung   \n",
       "2  75929.0  Australia  ...   1063.432799            Books  Penguin Books   \n",
       "3  88420.0     Canada  ...   2466.854021       Home Decor     Home Depot   \n",
       "4  48704.0         UK  ...    248.553049          Grocery         Nestle   \n",
       "\n",
       "  Product_Type   Feedback  Shipping_Method Payment_Method Order_Status  \\\n",
       "0       Shorts  Excellent         Same-Day     Debit Card      Shipped   \n",
       "1       Tablet  Excellent         Standard    Credit Card   Processing   \n",
       "2   Children's    Average         Same-Day    Credit Card   Processing   \n",
       "3        Tools  Excellent         Standard         PayPal   Processing   \n",
       "4    Chocolate        Bad         Standard           Cash      Shipped   \n",
       "\n",
       "   Ratings           products  \n",
       "0      5.0     Cycling shorts  \n",
       "1      4.0         Lenovo Tab  \n",
       "2      2.0   Sports equipment  \n",
       "3      4.0      Utility knife  \n",
       "4      1.0  Chocolate cookies  \n",
       "\n",
       "[5 rows x 30 columns]"
      ]
     },
     "execution_count": 8,
     "metadata": {},
     "output_type": "execute_result"
    }
   ],
   "source": [
    "data.head()"
   ]
  },
  {
   "cell_type": "code",
   "execution_count": 9,
   "id": "609c8dc9-8697-4b77-88fa-642d38c53a9c",
   "metadata": {},
   "outputs": [
    {
     "name": "stdout",
     "output_type": "stream",
     "text": [
      "<class 'pandas.core.frame.DataFrame'>\n",
      "RangeIndex: 302010 entries, 0 to 302009\n",
      "Data columns (total 30 columns):\n",
      " #   Column            Non-Null Count   Dtype  \n",
      "---  ------            --------------   -----  \n",
      " 0   Transaction_ID    301677 non-null  float64\n",
      " 1   Customer_ID       301702 non-null  float64\n",
      " 2   Name              301628 non-null  object \n",
      " 3   Email             301663 non-null  object \n",
      " 4   Phone             301648 non-null  float64\n",
      " 5   Address           301695 non-null  object \n",
      " 6   City              301762 non-null  object \n",
      " 7   State             301729 non-null  object \n",
      " 8   Zipcode           301670 non-null  float64\n",
      " 9   Country           301739 non-null  object \n",
      " 10  Age               301837 non-null  float64\n",
      " 11  Gender            301693 non-null  object \n",
      " 12  Income            301720 non-null  object \n",
      " 13  Customer_Segment  301795 non-null  object \n",
      " 14  Date              301651 non-null  object \n",
      " 15  Year              301660 non-null  float64\n",
      " 16  Month             301737 non-null  object \n",
      " 17  Time              301660 non-null  object \n",
      " 18  Total_Purchases   301649 non-null  float64\n",
      " 19  Amount            301653 non-null  float64\n",
      " 20  Total_Amount      301660 non-null  float64\n",
      " 21  Product_Category  301727 non-null  object \n",
      " 22  Product_Brand     301729 non-null  object \n",
      " 23  Product_Type      302010 non-null  object \n",
      " 24  Feedback          301826 non-null  object \n",
      " 25  Shipping_Method   301673 non-null  object \n",
      " 26  Payment_Method    301713 non-null  object \n",
      " 27  Order_Status      301775 non-null  object \n",
      " 28  Ratings           301826 non-null  float64\n",
      " 29  products          302010 non-null  object \n",
      "dtypes: float64(10), object(20)\n",
      "memory usage: 69.1+ MB\n"
     ]
    }
   ],
   "source": [
    "data.info()"
   ]
  },
  {
   "cell_type": "markdown",
   "id": "47705f1c-43a8-4523-873e-b05dde094fae",
   "metadata": {},
   "source": [
    "#### Removing and handling null values"
   ]
  },
  {
   "cell_type": "code",
   "execution_count": 14,
   "id": "010f390c-4583-4f58-b1e7-3ec8f011dbf1",
   "metadata": {},
   "outputs": [
    {
     "data": {
      "text/plain": [
       "Transaction_ID      333\n",
       "Customer_ID         308\n",
       "Name                382\n",
       "Email               347\n",
       "Phone               362\n",
       "Address             315\n",
       "City                248\n",
       "State               281\n",
       "Zipcode             340\n",
       "Country             271\n",
       "Age                 173\n",
       "Gender              317\n",
       "Income              290\n",
       "Customer_Segment    215\n",
       "Date                359\n",
       "Year                350\n",
       "Month               273\n",
       "Time                350\n",
       "Total_Purchases     361\n",
       "Amount              357\n",
       "Total_Amount        350\n",
       "Product_Category    283\n",
       "Product_Brand       281\n",
       "Product_Type          0\n",
       "Feedback            184\n",
       "Shipping_Method     337\n",
       "Payment_Method      297\n",
       "Order_Status        235\n",
       "Ratings             184\n",
       "products              0\n",
       "dtype: int64"
      ]
     },
     "execution_count": 14,
     "metadata": {},
     "output_type": "execute_result"
    }
   ],
   "source": [
    "data.isnull().sum()\n"
   ]
  },
  {
   "cell_type": "code",
   "execution_count": 16,
   "id": "f6ea6eeb-cd32-4996-b5cf-91d27aba0859",
   "metadata": {},
   "outputs": [],
   "source": [
    "#drop rows with missing essential IDs\n",
    "data=data.dropna(subset=['Transaction_ID','Customer_ID','Feedback'])\n",
    "# fill categorical columns with mode\n",
    "categorical_cols=['Product_Category','Gender','Customer_Segment','Product_Brand','Shipping_Method','Payment_Method','Order_Status']\n",
    "for col in categorical_cols:\n",
    "    data[col].fillna(data[col].mode()[0],inplace=True)\n",
    "\n",
    "# fill numerical columns with median\n",
    "numerical_columns=['Age','Total_Purchases','Amount','Total_Amount','Ratings']\n",
    "for col in numerical_columns:\n",
    "    data[col].fillna(data[col].median(),inplace=True)\n"
   ]
  },
  {
   "cell_type": "code",
   "execution_count": 18,
   "id": "592eee43-2ce3-4bf2-8b71-ce7392547db8",
   "metadata": {},
   "outputs": [
    {
     "data": {
      "text/plain": [
       "Transaction_ID        0\n",
       "Customer_ID           0\n",
       "Name                380\n",
       "Email               345\n",
       "Phone               361\n",
       "Address             313\n",
       "City                248\n",
       "State               279\n",
       "Zipcode             340\n",
       "Country             270\n",
       "Age                   0\n",
       "Gender                0\n",
       "Income              290\n",
       "Customer_Segment      0\n",
       "Date                359\n",
       "Year                348\n",
       "Month               272\n",
       "Time                350\n",
       "Total_Purchases       0\n",
       "Amount                0\n",
       "Total_Amount          0\n",
       "Product_Category      0\n",
       "Product_Brand         0\n",
       "Product_Type          0\n",
       "Feedback              0\n",
       "Shipping_Method       0\n",
       "Payment_Method        0\n",
       "Order_Status          0\n",
       "Ratings               0\n",
       "products              0\n",
       "dtype: int64"
      ]
     },
     "execution_count": 18,
     "metadata": {},
     "output_type": "execute_result"
    }
   ],
   "source": [
    "data.isnull().sum()"
   ]
  },
  {
   "cell_type": "code",
   "execution_count": 20,
   "id": "9d0cc63d-a0f6-4489-89bd-f24290dbc44f",
   "metadata": {},
   "outputs": [],
   "source": [
    "data=data.dropna(subset=['Name','Email','Phone','Address','City','State','Zipcode','Country']) # drop missing values the unnecessary text columns"
   ]
  },
  {
   "cell_type": "code",
   "execution_count": 22,
   "id": "d1f30932-0c61-4a59-84c0-fd4042527516",
   "metadata": {},
   "outputs": [],
   "source": [
    "#print(data['Income'].unique())\n",
    "data=data.dropna(subset=['Income'])"
   ]
  },
  {
   "cell_type": "code",
   "execution_count": 24,
   "id": "4bbb866e-4791-4df3-bcd9-3fbfb24345eb",
   "metadata": {},
   "outputs": [
    {
     "data": {
      "text/html": [
       "<div>\n",
       "<style scoped>\n",
       "    .dataframe tbody tr th:only-of-type {\n",
       "        vertical-align: middle;\n",
       "    }\n",
       "\n",
       "    .dataframe tbody tr th {\n",
       "        vertical-align: top;\n",
       "    }\n",
       "\n",
       "    .dataframe thead th {\n",
       "        text-align: right;\n",
       "    }\n",
       "</style>\n",
       "<table border=\"1\" class=\"dataframe\">\n",
       "  <thead>\n",
       "    <tr style=\"text-align: right;\">\n",
       "      <th></th>\n",
       "      <th>Month</th>\n",
       "      <th>Year</th>\n",
       "      <th>Time</th>\n",
       "    </tr>\n",
       "  </thead>\n",
       "  <tbody>\n",
       "    <tr>\n",
       "      <th>0</th>\n",
       "      <td>September</td>\n",
       "      <td>2023.0</td>\n",
       "      <td>22:03:55</td>\n",
       "    </tr>\n",
       "    <tr>\n",
       "      <th>1</th>\n",
       "      <td>December</td>\n",
       "      <td>2023.0</td>\n",
       "      <td>8:42:04</td>\n",
       "    </tr>\n",
       "    <tr>\n",
       "      <th>2</th>\n",
       "      <td>April</td>\n",
       "      <td>2023.0</td>\n",
       "      <td>4:06:29</td>\n",
       "    </tr>\n",
       "    <tr>\n",
       "      <th>3</th>\n",
       "      <td>May</td>\n",
       "      <td>2023.0</td>\n",
       "      <td>14:55:17</td>\n",
       "    </tr>\n",
       "    <tr>\n",
       "      <th>4</th>\n",
       "      <td>January</td>\n",
       "      <td>2024.0</td>\n",
       "      <td>16:54:07</td>\n",
       "    </tr>\n",
       "    <tr>\n",
       "      <th>...</th>\n",
       "      <td>...</td>\n",
       "      <td>...</td>\n",
       "      <td>...</td>\n",
       "    </tr>\n",
       "    <tr>\n",
       "      <th>302005</th>\n",
       "      <td>January</td>\n",
       "      <td>2024.0</td>\n",
       "      <td>23:40:29</td>\n",
       "    </tr>\n",
       "    <tr>\n",
       "      <th>302006</th>\n",
       "      <td>December</td>\n",
       "      <td>2023.0</td>\n",
       "      <td>2:55:45</td>\n",
       "    </tr>\n",
       "    <tr>\n",
       "      <th>302007</th>\n",
       "      <td>February</td>\n",
       "      <td>2024.0</td>\n",
       "      <td>2:43:49</td>\n",
       "    </tr>\n",
       "    <tr>\n",
       "      <th>302008</th>\n",
       "      <td>September</td>\n",
       "      <td>2023.0</td>\n",
       "      <td>11:20:31</td>\n",
       "    </tr>\n",
       "    <tr>\n",
       "      <th>302009</th>\n",
       "      <td>January</td>\n",
       "      <td>2024.0</td>\n",
       "      <td>11:44:36</td>\n",
       "    </tr>\n",
       "  </tbody>\n",
       "</table>\n",
       "<p>298371 rows × 3 columns</p>\n",
       "</div>"
      ],
      "text/plain": [
       "            Month    Year      Time\n",
       "0       September  2023.0  22:03:55\n",
       "1        December  2023.0   8:42:04\n",
       "2           April  2023.0   4:06:29\n",
       "3             May  2023.0  14:55:17\n",
       "4         January  2024.0  16:54:07\n",
       "...           ...     ...       ...\n",
       "302005    January  2024.0  23:40:29\n",
       "302006   December  2023.0   2:55:45\n",
       "302007   February  2024.0   2:43:49\n",
       "302008  September  2023.0  11:20:31\n",
       "302009    January  2024.0  11:44:36\n",
       "\n",
       "[298371 rows x 3 columns]"
      ]
     },
     "execution_count": 24,
     "metadata": {},
     "output_type": "execute_result"
    }
   ],
   "source": [
    "data[['Month','Year','Time']]"
   ]
  },
  {
   "cell_type": "code",
   "execution_count": 26,
   "id": "779131ad-471e-4ef7-bede-a987c6a65c86",
   "metadata": {},
   "outputs": [],
   "source": [
    "# convert date to datetime format\n",
    "data['Date']=pd.to_datetime(data['Date'],errors='coerce')\n",
    "# Convert time to time format\n",
    "data['Time']=pd.to_datetime(data['Time'],format='%H:%M:%S',errors='coerce').dt.time"
   ]
  },
  {
   "cell_type": "code",
   "execution_count": 27,
   "id": "87017f1f-da6e-47bd-8bf1-2ecca5f62650",
   "metadata": {},
   "outputs": [
    {
     "data": {
      "text/plain": [
       "Transaction_ID             float64\n",
       "Customer_ID                float64\n",
       "Name                        object\n",
       "Email                       object\n",
       "Phone                      float64\n",
       "Address                     object\n",
       "City                        object\n",
       "State                       object\n",
       "Zipcode                    float64\n",
       "Country                     object\n",
       "Age                        float64\n",
       "Gender                      object\n",
       "Income                      object\n",
       "Customer_Segment            object\n",
       "Date                datetime64[ns]\n",
       "Year                       float64\n",
       "Month                       object\n",
       "Time                        object\n",
       "Total_Purchases            float64\n",
       "Amount                     float64\n",
       "Total_Amount               float64\n",
       "Product_Category            object\n",
       "Product_Brand               object\n",
       "Product_Type                object\n",
       "Feedback                    object\n",
       "Shipping_Method             object\n",
       "Payment_Method              object\n",
       "Order_Status                object\n",
       "Ratings                    float64\n",
       "products                    object\n",
       "dtype: object"
      ]
     },
     "execution_count": 27,
     "metadata": {},
     "output_type": "execute_result"
    }
   ],
   "source": [
    "data.dtypes"
   ]
  },
  {
   "cell_type": "code",
   "execution_count": 28,
   "id": "6831a4c3-105c-469d-a7c5-aee78a15bcc9",
   "metadata": {},
   "outputs": [
    {
     "data": {
      "text/plain": [
       "Transaction_ID        0\n",
       "Customer_ID           0\n",
       "Name                  0\n",
       "Email                 0\n",
       "Phone                 0\n",
       "Address               0\n",
       "City                  0\n",
       "State                 0\n",
       "Zipcode               0\n",
       "Country               0\n",
       "Age                   0\n",
       "Gender                0\n",
       "Income                0\n",
       "Customer_Segment      0\n",
       "Date                354\n",
       "Year                347\n",
       "Month               270\n",
       "Time                347\n",
       "Total_Purchases       0\n",
       "Amount                0\n",
       "Total_Amount          0\n",
       "Product_Category      0\n",
       "Product_Brand         0\n",
       "Product_Type          0\n",
       "Feedback              0\n",
       "Shipping_Method       0\n",
       "Payment_Method        0\n",
       "Order_Status          0\n",
       "Ratings               0\n",
       "products              0\n",
       "dtype: int64"
      ]
     },
     "execution_count": 28,
     "metadata": {},
     "output_type": "execute_result"
    }
   ],
   "source": [
    "data.isnull().sum()"
   ]
  },
  {
   "cell_type": "code",
   "execution_count": 32,
   "id": "9016fa2a-5be0-41f5-a0b1-76178411caeb",
   "metadata": {},
   "outputs": [],
   "source": [
    "data=data.dropna(subset=['Date','Year','Month','Time'])"
   ]
  },
  {
   "cell_type": "code",
   "execution_count": 34,
   "id": "77dc2a92-ccde-4042-9a76-4aca38edf708",
   "metadata": {},
   "outputs": [
    {
     "name": "stdout",
     "output_type": "stream",
     "text": [
      "<class 'pandas.core.frame.DataFrame'>\n",
      "Index: 297055 entries, 0 to 302009\n",
      "Data columns (total 30 columns):\n",
      " #   Column            Non-Null Count   Dtype         \n",
      "---  ------            --------------   -----         \n",
      " 0   Transaction_ID    297055 non-null  float64       \n",
      " 1   Customer_ID       297055 non-null  float64       \n",
      " 2   Name              297055 non-null  object        \n",
      " 3   Email             297055 non-null  object        \n",
      " 4   Phone             297055 non-null  float64       \n",
      " 5   Address           297055 non-null  object        \n",
      " 6   City              297055 non-null  object        \n",
      " 7   State             297055 non-null  object        \n",
      " 8   Zipcode           297055 non-null  float64       \n",
      " 9   Country           297055 non-null  object        \n",
      " 10  Age               297055 non-null  float64       \n",
      " 11  Gender            297055 non-null  object        \n",
      " 12  Income            297055 non-null  object        \n",
      " 13  Customer_Segment  297055 non-null  object        \n",
      " 14  Date              297055 non-null  datetime64[ns]\n",
      " 15  Year              297055 non-null  float64       \n",
      " 16  Month             297055 non-null  object        \n",
      " 17  Time              297055 non-null  object        \n",
      " 18  Total_Purchases   297055 non-null  float64       \n",
      " 19  Amount            297055 non-null  float64       \n",
      " 20  Total_Amount      297055 non-null  float64       \n",
      " 21  Product_Category  297055 non-null  object        \n",
      " 22  Product_Brand     297055 non-null  object        \n",
      " 23  Product_Type      297055 non-null  object        \n",
      " 24  Feedback          297055 non-null  object        \n",
      " 25  Shipping_Method   297055 non-null  object        \n",
      " 26  Payment_Method    297055 non-null  object        \n",
      " 27  Order_Status      297055 non-null  object        \n",
      " 28  Ratings           297055 non-null  float64       \n",
      " 29  products          297055 non-null  object        \n",
      "dtypes: datetime64[ns](1), float64(10), object(19)\n",
      "memory usage: 70.3+ MB\n"
     ]
    }
   ],
   "source": [
    "data.info()"
   ]
  },
  {
   "cell_type": "markdown",
   "id": "2b8e5839-9222-4cb9-b96f-ef47bd4839e2",
   "metadata": {},
   "source": [
    " our data is cleaned and formatted ,now we need to figure it out  there is any duplicates"
   ]
  },
  {
   "cell_type": "code",
   "execution_count": 37,
   "id": "b871c26f-b88c-4320-a656-65a0b5c3b1f0",
   "metadata": {},
   "outputs": [
    {
     "data": {
      "text/plain": [
       "4"
      ]
     },
     "execution_count": 37,
     "metadata": {},
     "output_type": "execute_result"
    }
   ],
   "source": [
    "data.duplicated().sum()"
   ]
  },
  {
   "cell_type": "code",
   "execution_count": 39,
   "id": "bb7db61d-b62f-46e7-918c-d825a0778daf",
   "metadata": {},
   "outputs": [],
   "source": [
    "# we need to remove these duplicates\n",
    "data.drop_duplicates(inplace=True)"
   ]
  },
  {
   "cell_type": "markdown",
   "id": "82726dd6-5679-44e7-b27e-d98d8f2afc18",
   "metadata": {},
   "source": [
    "Outlier Detection"
   ]
  },
  {
   "cell_type": "code",
   "execution_count": 38,
   "id": "113ba283-cf5d-44b7-9373-403619eda8ae",
   "metadata": {},
   "outputs": [
    {
     "data": {
      "text/plain": [
       "pandas.core.frame.DataFrame"
      ]
     },
     "execution_count": 38,
     "metadata": {},
     "output_type": "execute_result"
    }
   ],
   "source": [
    "type(data)"
   ]
  },
  {
   "cell_type": "code",
   "execution_count": 40,
   "id": "be17200a-5a7c-4688-8ad0-66ee18a12ad7",
   "metadata": {},
   "outputs": [
    {
     "data": {
      "image/png": "[encoded data removed]",
      "text/plain": [
       "<Figure size 640x480 with 1 Axes>"
      ]
     },
     "metadata": {},
     "output_type": "display_data"
    },
    {
     "data": {
      "image/png": "[encoded data removed]",
      "text/plain": [
       "<Figure size 640x480 with 1 Axes>"
      ]
     },
     "metadata": {},
     "output_type": "display_data"
    },
    {
     "data": {
      "image/png": "[encoded data removed]",
      "text/plain": [
       "<Figure size 640x480 with 1 Axes>"
      ]
     },
     "metadata": {},
     "output_type": "display_data"
    },
    {
     "data": {
      "image/png": "[encoded data removed]",
      "text/plain": [
       "<Figure size 640x480 with 1 Axes>"
      ]
     },
     "metadata": {},
     "output_type": "display_data"
    },
    {
     "data": {
      "image/png": "[encoded data removed]",
      "text/plain": [
       "<Figure size 640x480 with 1 Axes>"
      ]
     },
     "metadata": {},
     "output_type": "display_data"
    }
   ],
   "source": [
    "numerical_cols=['Age','Total_Purchases','Amount','Total_Amount','Ratings']\n",
    "\n",
    "for col in numerical_cols:\n",
    "    sns.boxplot(data[col])\n",
    "    plt.title(f'Boxplot for {col}')\n",
    "    plt.show()"
   ]
  },
  {
   "cell_type": "markdown",
   "id": "ffc6fedc-ac2e-48b1-b37c-a2df4d252ece",
   "metadata": {},
   "source": [
    "In the total amount distribution found that the amount values significantly higher than the typical range.\n",
    "\n",
    "Possibilities:\n",
    "1.Possible Fraudulent transaction (abnormally high purchases)\n",
    "\n",
    "2.Other Possible Causes: it could be legitimate,like bulk purchases or high value products."
   ]
  },
  {
   "cell_type": "markdown",
   "id": "dd11b824-7865-4344-9263-dfaf15541a42",
   "metadata": {},
   "source": [
    "#### Detecting Outliers"
   ]
  },
  {
   "cell_type": "code",
   "execution_count": 44,
   "id": "663073ad-888e-43b9-8673-a62568270632",
   "metadata": {},
   "outputs": [
    {
     "name": "stdout",
     "output_type": "stream",
     "text": [
      "Potential Fraudulent transactions(IQR METHOD):3907\n",
      "        Transaction_ID  Customer_ID                 Name  \\\n",
      "150          4613625.0      72950.0        Gregory Bates   \n",
      "159          8093529.0      45413.0       Lauren Johnson   \n",
      "395          5777205.0      20280.0       Patrick Joseph   \n",
      "400          4669285.0      64275.0    Mrs. Taylor Dixon   \n",
      "484          9627400.0      97549.0        Brady Stanley   \n",
      "...                ...          ...                  ...   \n",
      "301721       5518811.0      61956.0     Elizabeth Gaines   \n",
      "301723       7612722.0      91060.0      Michael Sherman   \n",
      "301766       2173333.0      31082.0  Mr. Martin Williams   \n",
      "301904       8626872.0      62191.0         Chad Stewart   \n",
      "301960       3711781.0      84277.0   Jennifer Rodriguez   \n",
      "\n",
      "                        Email         Phone                        Address  \\\n",
      "150        Gerald65@gmail.com  7.785500e+09   3720 Matthew Ville Suite 453   \n",
      "159          Lisa82@gmail.com  1.816017e+09  0288 Jennifer Spurs Suite 207   \n",
      "395           Mary8@gmail.com  5.713763e+09      5914 Vargas Loop Apt. 416   \n",
      "400     Alexandra85@gmail.com  4.173398e+09             7386 Delacruz Lock   \n",
      "484        Jordan16@gmail.com  6.532213e+09     9574 Heath Points Apt. 765   \n",
      "...                       ...           ...                            ...   \n",
      "301721     Bradley4@gmail.com  4.366713e+09              44193 Shane Field   \n",
      "301723        Zoe36@gmail.com  3.115345e+09      923 Eric Mission Apt. 706   \n",
      "301766       Karen4@gmail.com  1.097862e+09         95272 Castillo Islands   \n",
      "301904      Jesus15@gmail.com  5.251720e+09              5608 Ariana Roads   \n",
      "301960   Patricia23@gmail.com  6.226376e+09              33202 Travis Pass   \n",
      "\n",
      "               City    State  Zipcode  Country  ...  Total_Amount  \\\n",
      "150      Portsmouth  England  42573.0       UK  ...   4885.287161   \n",
      "159      Portsmouth  England  24786.0       UK  ...   4850.773617   \n",
      "395      Portsmouth  England   4681.0       UK  ...   4487.127690   \n",
      "400      Portsmouth  England  47009.0       UK  ...   4518.677874   \n",
      "484      Portsmouth  England  10616.0       UK  ...   4755.346608   \n",
      "...             ...      ...      ...      ...  ...           ...   \n",
      "301721    Liverpool  England  24996.0       UK  ...   4640.315599   \n",
      "301723       Berlin   Berlin  96496.0  Germany  ...   4773.836796   \n",
      "301766     Plymouth  England  86920.0       UK  ...   4802.759630   \n",
      "301904  Southampton  England  30775.0       UK  ...   4884.033570   \n",
      "301960  Minneapolis  Alabama  36039.0      USA  ...   4934.155150   \n",
      "\n",
      "       Product_Category      Product_Brand Product_Type   Feedback  \\\n",
      "150         Electronics            Samsung   Television    Average   \n",
      "159               Books      Penguin Books   Children's        Bad   \n",
      "395            Clothing               Zara        Jeans    Average   \n",
      "400             Grocery              Pepsi        Juice       Good   \n",
      "484               Books      Penguin Books  Non-Fiction        Bad   \n",
      "...                 ...                ...          ...        ...   \n",
      "301721         Clothing             Adidas       Jacket        Bad   \n",
      "301723          Grocery          Coca-Cola        Water    Average   \n",
      "301766       Home Decor               IKEA     Lighting  Excellent   \n",
      "301904       Home Decor  Bed Bath & Beyond      Bedding    Average   \n",
      "301960      Electronics               Sony   Headphones       Good   \n",
      "\n",
      "        Shipping_Method Payment_Method Order_Status  Ratings  \\\n",
      "150            Same-Day     Debit Card      Pending      2.0   \n",
      "159            Standard     Debit Card    Delivered      1.0   \n",
      "395            Same-Day     Debit Card    Delivered      2.0   \n",
      "400            Standard    Credit Card   Processing      3.0   \n",
      "484            Same-Day           Cash    Delivered      1.0   \n",
      "...                 ...            ...          ...      ...   \n",
      "301721         Standard           Cash      Pending      1.0   \n",
      "301723         Same-Day           Cash      Pending      2.0   \n",
      "301766         Same-Day           Cash      Pending      5.0   \n",
      "301904         Standard           Cash    Delivered      2.0   \n",
      "301960          Express           Cash      Shipped      4.0   \n",
      "\n",
      "                 products  \n",
      "150            Android TV  \n",
      "159          Art supplies  \n",
      "395      Distressed jeans  \n",
      "400      Grapefruit juice  \n",
      "484               History  \n",
      "...                   ...  \n",
      "301721             Blazer  \n",
      "301723      Mineral water  \n",
      "301766        Floor lamps  \n",
      "301904          Comforter  \n",
      "301960  In-ear headphones  \n",
      "\n",
      "[3907 rows x 30 columns]\n"
     ]
    }
   ],
   "source": [
    "# IQR Method\n",
    "Q1=data['Total_Amount'].quantile(0.25)\n",
    "Q3=data['Total_Amount'].quantile(0.75)\n",
    "\n",
    "IQR=Q3-Q1\n",
    "lower_bound=Q1-1.5*IQR\n",
    "upper_bound=Q3+1.5*IQR\n",
    "\n",
    "# fILTER OUTLIER TRANSACTION\n",
    "outliers_iqr=data[(data['Total_Amount']<lower_bound)|(data['Total_Amount']>upper_bound)]\n",
    "\n",
    "# Display potential fraud cases\n",
    "print(f\"Potential Fraudulent transactions(IQR METHOD):{len(outliers_iqr)}\")\n",
    "print(outliers_iqr)"
   ]
  },
  {
   "cell_type": "code",
   "execution_count": 46,
   "id": "17432a81-83aa-4491-b111-084d60b56eb5",
   "metadata": {},
   "outputs": [
    {
     "data": {
      "text/plain": [
       "<Axes: xlabel='Total_Amount', ylabel='Count'>"
      ]
     },
     "execution_count": 46,
     "metadata": {},
     "output_type": "execute_result"
    },
    {
     "data": {
      "image/png": "[encoded data removed]",
      "text/plain": [
       "<Figure size 640x480 with 1 Axes>"
      ]
     },
     "metadata": {},
     "output_type": "display_data"
    }
   ],
   "source": [
    "sns.histplot(data['Total_Amount'])"
   ]
  },
  {
   "cell_type": "markdown",
   "id": "fe603e9e-fa3f-4756-8aa1-9546e8ac0b23",
   "metadata": {},
   "source": [
    "Some times these abnormalites shows because of pricing errors,So lets figure it out"
   ]
  },
  {
   "cell_type": "markdown",
   "id": "4750acbf-4de8-46e1-8dc4-ae764ec3d0ac",
   "metadata": {},
   "source": [
    "#### Detect negative or Zero prices"
   ]
  },
  {
   "cell_type": "markdown",
   "id": "f5852845-1fff-48fc-86ab-7b58ca77c0df",
   "metadata": {},
   "source": [
    "Some times  errors occur when prices are entered incorrectly"
   ]
  },
  {
   "cell_type": "code",
   "execution_count": 48,
   "id": "29496314-4b76-4550-84c8-daefebcde5ae",
   "metadata": {},
   "outputs": [
    {
     "name": "stdout",
     "output_type": "stream",
     "text": [
      "Pricing Errors (Negative or Zero prices):0\n",
      "Empty DataFrame\n",
      "Columns: [Transaction_ID, Customer_ID, Name, Email, Phone, Address, City, State, Zipcode, Country, Age, Gender, Income, Customer_Segment, Date, Year, Month, Time, Total_Purchases, Amount, Total_Amount, Product_Category, Product_Brand, Product_Type, Feedback, Shipping_Method, Payment_Method, Order_Status, Ratings, products]\n",
      "Index: []\n",
      "\n",
      "[0 rows x 30 columns]\n"
     ]
    }
   ],
   "source": [
    "pricing_errors=data[data['Total_Amount']<=0]\n",
    "print(f'Pricing Errors (Negative or Zero prices):{len(pricing_errors)}')\n",
    "print(pricing_errors)"
   ]
  },
  {
   "cell_type": "markdown",
   "id": "b687bf70-9504-4ccc-a475-aae119920528",
   "metadata": {},
   "source": [
    "#### Check  for inconsistent pricing of the same product"
   ]
  },
  {
   "cell_type": "code",
   "execution_count": 51,
   "id": "89045831-ad36-4b62-905a-1e6140b5272d",
   "metadata": {},
   "outputs": [
    {
     "name": "stdout",
     "output_type": "stream",
     "text": [
      "products with inconsistent pricing:1\n",
      "  Product_Category  Total_Amount\n",
      "2      Electronics   1131.890541\n"
     ]
    }
   ],
   "source": [
    "price_variation=data.groupby('Product_Category')['Total_Amount'].std().reset_index()\n",
    "\n",
    "#set a threshold for usually high variations\n",
    "threshold=price_variation['Total_Amount'].quantile(0.95)\n",
    "\n",
    "# find products with high price variation\n",
    "inconsistent_prices=price_variation[price_variation['Total_Amount']>threshold]\n",
    "print(f'products with inconsistent pricing:{len(inconsistent_prices)}')\n",
    "print(inconsistent_prices)"
   ]
  },
  {
   "cell_type": "markdown",
   "id": "4bf6a6af-cf4b-41a7-832a-83c01dcb4782",
   "metadata": {},
   "source": [
    "Keeping these anomalies for further study"
   ]
  },
  {
   "cell_type": "code",
   "execution_count": null,
   "id": "922885c4-3f19-442a-8931-dddf924d2660",
   "metadata": {},
   "outputs": [],
   "source": [
    "retail_analysis_cleaned=data.to_excel(\"retail_analysis_cleand.xlsx\",index=False)"
   ]
  },
  {
   "cell_type": "code",
   "execution_count": 42,
   "id": "69585a41-36e2-467f-8f85-c75e7215d345",
   "metadata": {},
   "outputs": [],
   "source": [
    "original=data.copy() # for a backup"
   ]
  },
  {
   "cell_type": "markdown",
   "id": "437bfd6f-0e9a-492d-a4fd-83ebc46dd3e1",
   "metadata": {},
   "source": [
    "## EDA-Exploratory Data analysis"
   ]
  },
  {
   "cell_type": "markdown",
   "id": "a8e3c450-f97b-49dc-a47f-b0da76fcaf7c",
   "metadata": {},
   "source": [
    "#### Overview of the Dataset"
   ]
  },
  {
   "cell_type": "code",
   "execution_count": 55,
   "id": "b1f0897d-e3ec-4e0c-ac38-691cb6beaf2e",
   "metadata": {},
   "outputs": [
    {
     "data": {
      "text/html": [
       "<div>\n",
       "<style scoped>\n",
       "    .dataframe tbody tr th:only-of-type {\n",
       "        vertical-align: middle;\n",
       "    }\n",
       "\n",
       "    .dataframe tbody tr th {\n",
       "        vertical-align: top;\n",
       "    }\n",
       "\n",
       "    .dataframe thead th {\n",
       "        text-align: right;\n",
       "    }\n",
       "</style>\n",
       "<table border=\"1\" class=\"dataframe\">\n",
       "  <thead>\n",
       "    <tr style=\"text-align: right;\">\n",
       "      <th></th>\n",
       "      <th>Transaction_ID</th>\n",
       "      <th>Customer_ID</th>\n",
       "      <th>Name</th>\n",
       "      <th>Email</th>\n",
       "      <th>Phone</th>\n",
       "      <th>Address</th>\n",
       "      <th>City</th>\n",
       "      <th>State</th>\n",
       "      <th>Zipcode</th>\n",
       "      <th>Country</th>\n",
       "      <th>...</th>\n",
       "      <th>Total_Amount</th>\n",
       "      <th>Product_Category</th>\n",
       "      <th>Product_Brand</th>\n",
       "      <th>Product_Type</th>\n",
       "      <th>Feedback</th>\n",
       "      <th>Shipping_Method</th>\n",
       "      <th>Payment_Method</th>\n",
       "      <th>Order_Status</th>\n",
       "      <th>Ratings</th>\n",
       "      <th>products</th>\n",
       "    </tr>\n",
       "  </thead>\n",
       "  <tbody>\n",
       "    <tr>\n",
       "      <th>0</th>\n",
       "      <td>8691788.0</td>\n",
       "      <td>37249.0</td>\n",
       "      <td>Michelle Harrington</td>\n",
       "      <td>Ebony39@gmail.com</td>\n",
       "      <td>1.414787e+09</td>\n",
       "      <td>3959 Amanda Burgs</td>\n",
       "      <td>Dortmund</td>\n",
       "      <td>Berlin</td>\n",
       "      <td>77985.0</td>\n",
       "      <td>Germany</td>\n",
       "      <td>...</td>\n",
       "      <td>324.086270</td>\n",
       "      <td>Clothing</td>\n",
       "      <td>Nike</td>\n",
       "      <td>Shorts</td>\n",
       "      <td>Excellent</td>\n",
       "      <td>Same-Day</td>\n",
       "      <td>Debit Card</td>\n",
       "      <td>Shipped</td>\n",
       "      <td>5.0</td>\n",
       "      <td>Cycling shorts</td>\n",
       "    </tr>\n",
       "    <tr>\n",
       "      <th>1</th>\n",
       "      <td>2174773.0</td>\n",
       "      <td>69749.0</td>\n",
       "      <td>Kelsey Hill</td>\n",
       "      <td>Mark36@gmail.com</td>\n",
       "      <td>6.852900e+09</td>\n",
       "      <td>82072 Dawn Centers</td>\n",
       "      <td>Nottingham</td>\n",
       "      <td>England</td>\n",
       "      <td>99071.0</td>\n",
       "      <td>UK</td>\n",
       "      <td>...</td>\n",
       "      <td>806.707815</td>\n",
       "      <td>Electronics</td>\n",
       "      <td>Samsung</td>\n",
       "      <td>Tablet</td>\n",
       "      <td>Excellent</td>\n",
       "      <td>Standard</td>\n",
       "      <td>Credit Card</td>\n",
       "      <td>Processing</td>\n",
       "      <td>4.0</td>\n",
       "      <td>Lenovo Tab</td>\n",
       "    </tr>\n",
       "    <tr>\n",
       "      <th>2</th>\n",
       "      <td>6679610.0</td>\n",
       "      <td>30192.0</td>\n",
       "      <td>Scott Jensen</td>\n",
       "      <td>Shane85@gmail.com</td>\n",
       "      <td>8.362160e+09</td>\n",
       "      <td>4133 Young Canyon</td>\n",
       "      <td>Geelong</td>\n",
       "      <td>New South Wales</td>\n",
       "      <td>75929.0</td>\n",
       "      <td>Australia</td>\n",
       "      <td>...</td>\n",
       "      <td>1063.432799</td>\n",
       "      <td>Books</td>\n",
       "      <td>Penguin Books</td>\n",
       "      <td>Children's</td>\n",
       "      <td>Average</td>\n",
       "      <td>Same-Day</td>\n",
       "      <td>Credit Card</td>\n",
       "      <td>Processing</td>\n",
       "      <td>2.0</td>\n",
       "      <td>Sports equipment</td>\n",
       "    </tr>\n",
       "    <tr>\n",
       "      <th>3</th>\n",
       "      <td>7232460.0</td>\n",
       "      <td>62101.0</td>\n",
       "      <td>Joseph Miller</td>\n",
       "      <td>Mary34@gmail.com</td>\n",
       "      <td>2.776752e+09</td>\n",
       "      <td>8148 Thomas Creek Suite 100</td>\n",
       "      <td>Edmonton</td>\n",
       "      <td>Ontario</td>\n",
       "      <td>88420.0</td>\n",
       "      <td>Canada</td>\n",
       "      <td>...</td>\n",
       "      <td>2466.854021</td>\n",
       "      <td>Home Decor</td>\n",
       "      <td>Home Depot</td>\n",
       "      <td>Tools</td>\n",
       "      <td>Excellent</td>\n",
       "      <td>Standard</td>\n",
       "      <td>PayPal</td>\n",
       "      <td>Processing</td>\n",
       "      <td>4.0</td>\n",
       "      <td>Utility knife</td>\n",
       "    </tr>\n",
       "    <tr>\n",
       "      <th>4</th>\n",
       "      <td>4983775.0</td>\n",
       "      <td>27901.0</td>\n",
       "      <td>Debra Coleman</td>\n",
       "      <td>Charles30@gmail.com</td>\n",
       "      <td>9.098268e+09</td>\n",
       "      <td>5813 Lori Ports Suite 269</td>\n",
       "      <td>Bristol</td>\n",
       "      <td>England</td>\n",
       "      <td>48704.0</td>\n",
       "      <td>UK</td>\n",
       "      <td>...</td>\n",
       "      <td>248.553049</td>\n",
       "      <td>Grocery</td>\n",
       "      <td>Nestle</td>\n",
       "      <td>Chocolate</td>\n",
       "      <td>Bad</td>\n",
       "      <td>Standard</td>\n",
       "      <td>Cash</td>\n",
       "      <td>Shipped</td>\n",
       "      <td>1.0</td>\n",
       "      <td>Chocolate cookies</td>\n",
       "    </tr>\n",
       "  </tbody>\n",
       "</table>\n",
       "<p>5 rows × 30 columns</p>\n",
       "</div>"
      ],
      "text/plain": [
       "   Transaction_ID  Customer_ID                 Name                Email  \\\n",
       "0       8691788.0      37249.0  Michelle Harrington    Ebony39@gmail.com   \n",
       "1       2174773.0      69749.0          Kelsey Hill     Mark36@gmail.com   \n",
       "2       6679610.0      30192.0         Scott Jensen    Shane85@gmail.com   \n",
       "3       7232460.0      62101.0        Joseph Miller     Mary34@gmail.com   \n",
       "4       4983775.0      27901.0        Debra Coleman  Charles30@gmail.com   \n",
       "\n",
       "          Phone                      Address        City            State  \\\n",
       "0  1.414787e+09            3959 Amanda Burgs    Dortmund           Berlin   \n",
       "1  6.852900e+09           82072 Dawn Centers  Nottingham          England   \n",
       "2  8.362160e+09            4133 Young Canyon     Geelong  New South Wales   \n",
       "3  2.776752e+09  8148 Thomas Creek Suite 100    Edmonton          Ontario   \n",
       "4  9.098268e+09    5813 Lori Ports Suite 269     Bristol          England   \n",
       "\n",
       "   Zipcode    Country  ...  Total_Amount Product_Category  Product_Brand  \\\n",
       "0  77985.0    Germany  ...    324.086270         Clothing           Nike   \n",
       "1  99071.0         UK  ...    806.707815      Electronics        Samsung   \n",
       "2  75929.0  Australia  ...   1063.432799            Books  Penguin Books   \n",
       "3  88420.0     Canada  ...   2466.854021       Home Decor     Home Depot   \n",
       "4  48704.0         UK  ...    248.553049          Grocery         Nestle   \n",
       "\n",
       "  Product_Type   Feedback  Shipping_Method Payment_Method Order_Status  \\\n",
       "0       Shorts  Excellent         Same-Day     Debit Card      Shipped   \n",
       "1       Tablet  Excellent         Standard    Credit Card   Processing   \n",
       "2   Children's    Average         Same-Day    Credit Card   Processing   \n",
       "3        Tools  Excellent         Standard         PayPal   Processing   \n",
       "4    Chocolate        Bad         Standard           Cash      Shipped   \n",
       "\n",
       "   Ratings           products  \n",
       "0      5.0     Cycling shorts  \n",
       "1      4.0         Lenovo Tab  \n",
       "2      2.0   Sports equipment  \n",
       "3      4.0      Utility knife  \n",
       "4      1.0  Chocolate cookies  \n",
       "\n",
       "[5 rows x 30 columns]"
      ]
     },
     "execution_count": 55,
     "metadata": {},
     "output_type": "execute_result"
    }
   ],
   "source": [
    "data.head()"
   ]
  },
  {
   "cell_type": "code",
   "execution_count": 57,
   "id": "6831e4a7-852c-447b-accb-8bf3214e5193",
   "metadata": {},
   "outputs": [
    {
     "data": {
      "text/plain": [
       "(297051, 30)"
      ]
     },
     "execution_count": 57,
     "metadata": {},
     "output_type": "execute_result"
    }
   ],
   "source": [
    "data.shape"
   ]
  },
  {
   "cell_type": "code",
   "execution_count": 59,
   "id": "b35159eb-3527-46fc-9c7d-891378ccd9cc",
   "metadata": {},
   "outputs": [
    {
     "data": {
      "text/html": [
       "<div>\n",
       "<style scoped>\n",
       "    .dataframe tbody tr th:only-of-type {\n",
       "        vertical-align: middle;\n",
       "    }\n",
       "\n",
       "    .dataframe tbody tr th {\n",
       "        vertical-align: top;\n",
       "    }\n",
       "\n",
       "    .dataframe thead th {\n",
       "        text-align: right;\n",
       "    }\n",
       "</style>\n",
       "<table border=\"1\" class=\"dataframe\">\n",
       "  <thead>\n",
       "    <tr style=\"text-align: right;\">\n",
       "      <th></th>\n",
       "      <th>Transaction_ID</th>\n",
       "      <th>Customer_ID</th>\n",
       "      <th>Phone</th>\n",
       "      <th>Zipcode</th>\n",
       "      <th>Age</th>\n",
       "      <th>Date</th>\n",
       "      <th>Year</th>\n",
       "      <th>Total_Purchases</th>\n",
       "      <th>Amount</th>\n",
       "      <th>Total_Amount</th>\n",
       "      <th>Ratings</th>\n",
       "    </tr>\n",
       "  </thead>\n",
       "  <tbody>\n",
       "    <tr>\n",
       "      <th>count</th>\n",
       "      <td>2.970510e+05</td>\n",
       "      <td>297051.000000</td>\n",
       "      <td>2.970510e+05</td>\n",
       "      <td>297051.000000</td>\n",
       "      <td>297051.000000</td>\n",
       "      <td>297051</td>\n",
       "      <td>297051.000000</td>\n",
       "      <td>297051.000000</td>\n",
       "      <td>297051.000000</td>\n",
       "      <td>297051.000000</td>\n",
       "      <td>297051.000000</td>\n",
       "    </tr>\n",
       "    <tr>\n",
       "      <th>mean</th>\n",
       "      <td>5.494800e+06</td>\n",
       "      <td>55008.764172</td>\n",
       "      <td>5.500640e+09</td>\n",
       "      <td>50298.897075</td>\n",
       "      <td>35.471384</td>\n",
       "      <td>2023-08-30 15:58:55.720128768</td>\n",
       "      <td>2023.165046</td>\n",
       "      <td>5.359386</td>\n",
       "      <td>255.216661</td>\n",
       "      <td>1367.613633</td>\n",
       "      <td>3.162332</td>\n",
       "    </tr>\n",
       "    <tr>\n",
       "      <th>min</th>\n",
       "      <td>1.000007e+06</td>\n",
       "      <td>10000.000000</td>\n",
       "      <td>1.000049e+09</td>\n",
       "      <td>501.000000</td>\n",
       "      <td>18.000000</td>\n",
       "      <td>2023-03-01 00:00:00</td>\n",
       "      <td>2023.000000</td>\n",
       "      <td>1.000000</td>\n",
       "      <td>10.000219</td>\n",
       "      <td>10.003750</td>\n",
       "      <td>1.000000</td>\n",
       "    </tr>\n",
       "    <tr>\n",
       "      <th>25%</th>\n",
       "      <td>3.246920e+06</td>\n",
       "      <td>32468.500000</td>\n",
       "      <td>3.253857e+09</td>\n",
       "      <td>25422.000000</td>\n",
       "      <td>22.000000</td>\n",
       "      <td>2023-05-31 00:00:00</td>\n",
       "      <td>2023.000000</td>\n",
       "      <td>3.000000</td>\n",
       "      <td>133.036764</td>\n",
       "      <td>439.343912</td>\n",
       "      <td>2.000000</td>\n",
       "    </tr>\n",
       "    <tr>\n",
       "      <th>50%</th>\n",
       "      <td>5.497883e+06</td>\n",
       "      <td>55018.000000</td>\n",
       "      <td>5.504494e+09</td>\n",
       "      <td>50597.000000</td>\n",
       "      <td>32.000000</td>\n",
       "      <td>2023-08-31 00:00:00</td>\n",
       "      <td>2023.000000</td>\n",
       "      <td>5.000000</td>\n",
       "      <td>255.484850</td>\n",
       "      <td>1041.221519</td>\n",
       "      <td>3.000000</td>\n",
       "    </tr>\n",
       "    <tr>\n",
       "      <th>75%</th>\n",
       "      <td>7.739098e+06</td>\n",
       "      <td>77508.000000</td>\n",
       "      <td>7.749351e+09</td>\n",
       "      <td>75265.500000</td>\n",
       "      <td>46.000000</td>\n",
       "      <td>2023-11-30 00:00:00</td>\n",
       "      <td>2023.000000</td>\n",
       "      <td>8.000000</td>\n",
       "      <td>377.577069</td>\n",
       "      <td>2027.744035</td>\n",
       "      <td>4.000000</td>\n",
       "    </tr>\n",
       "    <tr>\n",
       "      <th>max</th>\n",
       "      <td>9.999995e+06</td>\n",
       "      <td>99999.000000</td>\n",
       "      <td>9.999996e+09</td>\n",
       "      <td>99949.000000</td>\n",
       "      <td>70.000000</td>\n",
       "      <td>2024-02-29 00:00:00</td>\n",
       "      <td>2024.000000</td>\n",
       "      <td>10.000000</td>\n",
       "      <td>499.997911</td>\n",
       "      <td>4999.625796</td>\n",
       "      <td>5.000000</td>\n",
       "    </tr>\n",
       "    <tr>\n",
       "      <th>std</th>\n",
       "      <td>2.596006e+06</td>\n",
       "      <td>26006.327225</td>\n",
       "      <td>2.595887e+09</td>\n",
       "      <td>28974.573906</td>\n",
       "      <td>15.015065</td>\n",
       "      <td>NaN</td>\n",
       "      <td>0.371222</td>\n",
       "      <td>2.866857</td>\n",
       "      <td>141.315561</td>\n",
       "      <td>1128.594824</td>\n",
       "      <td>1.320777</td>\n",
       "    </tr>\n",
       "  </tbody>\n",
       "</table>\n",
       "</div>"
      ],
      "text/plain": [
       "       Transaction_ID    Customer_ID         Phone        Zipcode  \\\n",
       "count    2.970510e+05  297051.000000  2.970510e+05  297051.000000   \n",
       "mean     5.494800e+06   55008.764172  5.500640e+09   50298.897075   \n",
       "min      1.000007e+06   10000.000000  1.000049e+09     501.000000   \n",
       "25%      3.246920e+06   32468.500000  3.253857e+09   25422.000000   \n",
       "50%      5.497883e+06   55018.000000  5.504494e+09   50597.000000   \n",
       "75%      7.739098e+06   77508.000000  7.749351e+09   75265.500000   \n",
       "max      9.999995e+06   99999.000000  9.999996e+09   99949.000000   \n",
       "std      2.596006e+06   26006.327225  2.595887e+09   28974.573906   \n",
       "\n",
       "                 Age                           Date           Year  \\\n",
       "count  297051.000000                         297051  297051.000000   \n",
       "mean       35.471384  2023-08-30 15:58:55.720128768    2023.165046   \n",
       "min        18.000000            2023-03-01 00:00:00    2023.000000   \n",
       "25%        22.000000            2023-05-31 00:00:00    2023.000000   \n",
       "50%        32.000000            2023-08-31 00:00:00    2023.000000   \n",
       "75%        46.000000            2023-11-30 00:00:00    2023.000000   \n",
       "max        70.000000            2024-02-29 00:00:00    2024.000000   \n",
       "std        15.015065                            NaN       0.371222   \n",
       "\n",
       "       Total_Purchases         Amount   Total_Amount        Ratings  \n",
       "count    297051.000000  297051.000000  297051.000000  297051.000000  \n",
       "mean          5.359386     255.216661    1367.613633       3.162332  \n",
       "min           1.000000      10.000219      10.003750       1.000000  \n",
       "25%           3.000000     133.036764     439.343912       2.000000  \n",
       "50%           5.000000     255.484850    1041.221519       3.000000  \n",
       "75%           8.000000     377.577069    2027.744035       4.000000  \n",
       "max          10.000000     499.997911    4999.625796       5.000000  \n",
       "std           2.866857     141.315561    1128.594824       1.320777  "
      ]
     },
     "execution_count": 59,
     "metadata": {},
     "output_type": "execute_result"
    }
   ],
   "source": [
    "# summary statistics\n",
    "\n",
    "data.describe()"
   ]
  },
  {
   "cell_type": "code",
   "execution_count": 61,
   "id": "33857915-f90d-4883-a24f-abdc590b38ce",
   "metadata": {},
   "outputs": [
    {
     "data": {
      "text/html": [
       "<div>\n",
       "<style scoped>\n",
       "    .dataframe tbody tr th:only-of-type {\n",
       "        vertical-align: middle;\n",
       "    }\n",
       "\n",
       "    .dataframe tbody tr th {\n",
       "        vertical-align: top;\n",
       "    }\n",
       "\n",
       "    .dataframe thead th {\n",
       "        text-align: right;\n",
       "    }\n",
       "</style>\n",
       "<table border=\"1\" class=\"dataframe\">\n",
       "  <thead>\n",
       "    <tr style=\"text-align: right;\">\n",
       "      <th></th>\n",
       "      <th>Name</th>\n",
       "      <th>Email</th>\n",
       "      <th>Address</th>\n",
       "      <th>City</th>\n",
       "      <th>State</th>\n",
       "      <th>Country</th>\n",
       "      <th>Gender</th>\n",
       "      <th>Income</th>\n",
       "      <th>Customer_Segment</th>\n",
       "      <th>Month</th>\n",
       "      <th>Time</th>\n",
       "      <th>Product_Category</th>\n",
       "      <th>Product_Brand</th>\n",
       "      <th>Product_Type</th>\n",
       "      <th>Feedback</th>\n",
       "      <th>Shipping_Method</th>\n",
       "      <th>Payment_Method</th>\n",
       "      <th>Order_Status</th>\n",
       "      <th>products</th>\n",
       "    </tr>\n",
       "  </thead>\n",
       "  <tbody>\n",
       "    <tr>\n",
       "      <th>count</th>\n",
       "      <td>297051</td>\n",
       "      <td>297051</td>\n",
       "      <td>297051</td>\n",
       "      <td>297051</td>\n",
       "      <td>297051</td>\n",
       "      <td>297051</td>\n",
       "      <td>297051</td>\n",
       "      <td>297051</td>\n",
       "      <td>297051</td>\n",
       "      <td>297051</td>\n",
       "      <td>297051</td>\n",
       "      <td>297051</td>\n",
       "      <td>297051</td>\n",
       "      <td>297051</td>\n",
       "      <td>297051</td>\n",
       "      <td>297051</td>\n",
       "      <td>297051</td>\n",
       "      <td>297051</td>\n",
       "      <td>297051</td>\n",
       "    </tr>\n",
       "    <tr>\n",
       "      <th>unique</th>\n",
       "      <td>157749</td>\n",
       "      <td>52673</td>\n",
       "      <td>294729</td>\n",
       "      <td>130</td>\n",
       "      <td>54</td>\n",
       "      <td>5</td>\n",
       "      <td>2</td>\n",
       "      <td>3</td>\n",
       "      <td>3</td>\n",
       "      <td>12</td>\n",
       "      <td>83542</td>\n",
       "      <td>5</td>\n",
       "      <td>18</td>\n",
       "      <td>33</td>\n",
       "      <td>4</td>\n",
       "      <td>3</td>\n",
       "      <td>4</td>\n",
       "      <td>4</td>\n",
       "      <td>318</td>\n",
       "    </tr>\n",
       "    <tr>\n",
       "      <th>top</th>\n",
       "      <td>Michael Smith</td>\n",
       "      <td>Michael59@gmail.com</td>\n",
       "      <td>68488 Brandy Stream</td>\n",
       "      <td>Chicago</td>\n",
       "      <td>England</td>\n",
       "      <td>USA</td>\n",
       "      <td>Male</td>\n",
       "      <td>Medium</td>\n",
       "      <td>Regular</td>\n",
       "      <td>April</td>\n",
       "      <td>02:55:36</td>\n",
       "      <td>Electronics</td>\n",
       "      <td>Pepsi</td>\n",
       "      <td>Water</td>\n",
       "      <td>Excellent</td>\n",
       "      <td>Same-Day</td>\n",
       "      <td>Credit Card</td>\n",
       "      <td>Delivered</td>\n",
       "      <td>Spring water</td>\n",
       "    </tr>\n",
       "    <tr>\n",
       "      <th>freq</th>\n",
       "      <td>142</td>\n",
       "      <td>92</td>\n",
       "      <td>2</td>\n",
       "      <td>21344</td>\n",
       "      <td>62078</td>\n",
       "      <td>93762</td>\n",
       "      <td>184856</td>\n",
       "      <td>128261</td>\n",
       "      <td>144162</td>\n",
       "      <td>40661</td>\n",
       "      <td>14</td>\n",
       "      <td>70296</td>\n",
       "      <td>30086</td>\n",
       "      <td>24093</td>\n",
       "      <td>99091</td>\n",
       "      <td>102852</td>\n",
       "      <td>88897</td>\n",
       "      <td>128648</td>\n",
       "      <td>2467</td>\n",
       "    </tr>\n",
       "  </tbody>\n",
       "</table>\n",
       "</div>"
      ],
      "text/plain": [
       "                 Name                Email              Address     City  \\\n",
       "count          297051               297051               297051   297051   \n",
       "unique         157749                52673               294729      130   \n",
       "top     Michael Smith  Michael59@gmail.com  68488 Brandy Stream  Chicago   \n",
       "freq              142                   92                    2    21344   \n",
       "\n",
       "          State Country  Gender  Income Customer_Segment   Month      Time  \\\n",
       "count    297051  297051  297051  297051           297051  297051    297051   \n",
       "unique       54       5       2       3                3      12     83542   \n",
       "top     England     USA    Male  Medium          Regular   April  02:55:36   \n",
       "freq      62078   93762  184856  128261           144162   40661        14   \n",
       "\n",
       "       Product_Category Product_Brand Product_Type   Feedback Shipping_Method  \\\n",
       "count            297051        297051       297051     297051          297051   \n",
       "unique                5            18           33          4               3   \n",
       "top         Electronics         Pepsi        Water  Excellent        Same-Day   \n",
       "freq              70296         30086        24093      99091          102852   \n",
       "\n",
       "       Payment_Method Order_Status      products  \n",
       "count          297051       297051        297051  \n",
       "unique              4            4           318  \n",
       "top       Credit Card    Delivered  Spring water  \n",
       "freq            88897       128648          2467  "
      ]
     },
     "execution_count": 61,
     "metadata": {},
     "output_type": "execute_result"
    }
   ],
   "source": [
    "# summary for Categorical columns\n",
    "data.describe(include='object')"
   ]
  },
  {
   "cell_type": "code",
   "execution_count": 62,
   "id": "c1793d25-039d-4f0c-87f6-424c7f0f845f",
   "metadata": {},
   "outputs": [
    {
     "data": {
      "text/plain": [
       "Transaction_ID      0\n",
       "Customer_ID         0\n",
       "Name                0\n",
       "Email               0\n",
       "Phone               0\n",
       "Address             0\n",
       "City                0\n",
       "State               0\n",
       "Zipcode             0\n",
       "Country             0\n",
       "Age                 0\n",
       "Gender              0\n",
       "Income              0\n",
       "Customer_Segment    0\n",
       "Date                0\n",
       "Year                0\n",
       "Month               0\n",
       "Time                0\n",
       "Total_Purchases     0\n",
       "Amount              0\n",
       "Total_Amount        0\n",
       "Product_Category    0\n",
       "Product_Brand       0\n",
       "Product_Type        0\n",
       "Feedback            0\n",
       "Shipping_Method     0\n",
       "Payment_Method      0\n",
       "Order_Status        0\n",
       "Ratings             0\n",
       "products            0\n",
       "dtype: int64"
      ]
     },
     "execution_count": 62,
     "metadata": {},
     "output_type": "execute_result"
    }
   ],
   "source": [
    "data.isnull().sum()"
   ]
  },
  {
   "cell_type": "markdown",
   "id": "70370fe8-c8d6-4b8b-b143-3ff5015ad47d",
   "metadata": {},
   "source": [
    "#### Analysing Sales Trends"
   ]
  },
  {
   "cell_type": "markdown",
   "id": "0133a959-cf14-4b0d-bba2-706498152397",
   "metadata": {},
   "source": [
    "Sales over a time(Daily,Monthly,seasonal trends)"
   ]
  },
  {
   "cell_type": "code",
   "execution_count": 67,
   "id": "58c274b5-73b1-44a7-9aae-10dbc4a8bdbd",
   "metadata": {},
   "outputs": [
    {
     "data": {
      "image/png": "[encoded data removed]",
      "text/plain": [
       "<Figure size 1200x500 with 1 Axes>"
      ]
     },
     "metadata": {},
     "output_type": "display_data"
    }
   ],
   "source": [
    "import matplotlib.pyplot as plt\n",
    "\n",
    "# Aggregate sales by data\n",
    "daily_sales=data.groupby('Date')['Total_Amount'].sum()\n",
    "\n",
    "# plot sales trend\n",
    "plt.figure(figsize=(12,5))\n",
    "plt.plot(daily_sales,marker='o',linestyle='-')\n",
    "plt.xlabel('Date')\n",
    "plt.ylabel('Total sales')\n",
    "plt.title('Daily Sales Trend')\n",
    "plt.xticks(rotation=45)\n",
    "plt.grid()\n",
    "plt.show()"
   ]
  },
  {
   "cell_type": "markdown",
   "id": "e78f42d3-1419-42ba-a35d-ecaeabf54997",
   "metadata": {},
   "source": [
    "Monthly sales Trend"
   ]
  },
  {
   "cell_type": "code",
   "execution_count": 70,
   "id": "8fae0e96-e29b-48ea-b4d8-c24a324f7002",
   "metadata": {},
   "outputs": [
    {
     "data": {
      "image/png": "[encoded data removed]",
      "text/plain": [
       "<Figure size 1000x500 with 1 Axes>"
      ]
     },
     "metadata": {},
     "output_type": "display_data"
    }
   ],
   "source": [
    "data['Month']=data['Date'].dt.month\n",
    "monthly_sales=data.groupby('Month')['Total_Amount'].sum()\n",
    "\n",
    "plt.figure(figsize=(10,5))\n",
    "plt.bar(monthly_sales.index,monthly_sales.values,color='skyblue')\n",
    "plt.xlabel('Month')\n",
    "plt.ylabel('Total sales')\n",
    "plt.title('Monthly Sales Trend')\n",
    "plt.xticks(range(1,13))\n",
    "plt.show()"
   ]
  },
  {
   "cell_type": "markdown",
   "id": "16f01353-34e8-473f-94e3-a0d9a78bad25",
   "metadata": {},
   "source": [
    "#### Top Selling Products & Categories"
   ]
  },
  {
   "cell_type": "code",
   "execution_count": 73,
   "id": "05966163-b125-42c4-9908-932e2b1b3628",
   "metadata": {},
   "outputs": [
    {
     "data": {
      "image/png": "[encoded data removed]",
      "text/plain": [
       "<Figure size 1200x500 with 1 Axes>"
      ]
     },
     "metadata": {},
     "output_type": "display_data"
    }
   ],
   "source": [
    "# Top 5 best-selling products\n",
    "top_products=data.groupby('Product_Category')['Total_Purchases'].sum().nlargest(10)\n",
    "\n",
    "plt.figure(figsize=(12,5))\n",
    "top_products.plot(kind='bar',color='coral')\n",
    "plt.xlabel('Product category')\n",
    "plt.ylabel('Total purchases')\n",
    "plt.title('Top 5 Best-selling product categories')\n",
    "plt.xticks(rotation=45)\n",
    "plt.show()"
   ]
  },
  {
   "cell_type": "code",
   "execution_count": 75,
   "id": "88df8fd9-3fd5-4f06-8bf3-11c304889322",
   "metadata": {},
   "outputs": [
    {
     "data": {
      "image/png": "[encoded data removed]",
      "text/plain": [
       "<Figure size 1200x500 with 1 Axes>"
      ]
     },
     "metadata": {},
     "output_type": "display_data"
    }
   ],
   "source": [
    "top_products=data.groupby('products')['Total_Purchases'].sum().nlargest(10)\n",
    "\n",
    "plt.figure(figsize=(12,5))\n",
    "top_products.plot(kind='bar',color='coral')\n",
    "plt.xlabel('products')\n",
    "plt.ylabel('Total purchases')\n",
    "plt.title('Top 10 Best-selling product categories')\n",
    "plt.xticks(rotation=45)\n",
    "plt.show()"
   ]
  },
  {
   "cell_type": "markdown",
   "id": "f4c11063-4b03-43b4-988e-c5ee6e89a750",
   "metadata": {},
   "source": [
    "#### Customer Demographics & Buying patterns"
   ]
  },
  {
   "cell_type": "markdown",
   "id": "6104e24b-03fd-444e-bff7-6221c3bc8d5f",
   "metadata": {},
   "source": [
    "Gender-based purchase Behaviour"
   ]
  },
  {
   "cell_type": "code",
   "execution_count": 79,
   "id": "b89618fd-f131-4ba1-9a54-b453dd791b77",
   "metadata": {},
   "outputs": [
    {
     "data": {
      "image/png": "[encoded data removed]",
      "text/plain": [
       "<Figure size 800x600 with 1 Axes>"
      ]
     },
     "metadata": {},
     "output_type": "display_data"
    }
   ],
   "source": [
    "import numpy as np\n",
    "\n",
    "plt.figure(figsize=(8,6))\n",
    "sns.barplot(x='Gender',y='Total_Amount',data=data,estimator=np.median)\n",
    "plt.title('Purchase Behaviour by Gender(Median)')\n",
    "plt.show();"
   ]
  },
  {
   "cell_type": "code",
   "execution_count": 80,
   "id": "0bb65b59-65b6-4794-88b6-ae8f910c77c6",
   "metadata": {},
   "outputs": [
    {
     "data": {
      "text/html": [
       "<div>\n",
       "<style scoped>\n",
       "    .dataframe tbody tr th:only-of-type {\n",
       "        vertical-align: middle;\n",
       "    }\n",
       "\n",
       "    .dataframe tbody tr th {\n",
       "        vertical-align: top;\n",
       "    }\n",
       "\n",
       "    .dataframe thead th {\n",
       "        text-align: right;\n",
       "    }\n",
       "</style>\n",
       "<table border=\"1\" class=\"dataframe\">\n",
       "  <thead>\n",
       "    <tr style=\"text-align: right;\">\n",
       "      <th></th>\n",
       "      <th>count</th>\n",
       "      <th>mean</th>\n",
       "      <th>std</th>\n",
       "      <th>min</th>\n",
       "      <th>25%</th>\n",
       "      <th>50%</th>\n",
       "      <th>75%</th>\n",
       "      <th>max</th>\n",
       "    </tr>\n",
       "    <tr>\n",
       "      <th>Gender</th>\n",
       "      <th></th>\n",
       "      <th></th>\n",
       "      <th></th>\n",
       "      <th></th>\n",
       "      <th></th>\n",
       "      <th></th>\n",
       "      <th></th>\n",
       "      <th></th>\n",
       "    </tr>\n",
       "  </thead>\n",
       "  <tbody>\n",
       "    <tr>\n",
       "      <th>Female</th>\n",
       "      <td>112195.0</td>\n",
       "      <td>1368.383251</td>\n",
       "      <td>1128.538040</td>\n",
       "      <td>10.056353</td>\n",
       "      <td>438.133560</td>\n",
       "      <td>1041.221519</td>\n",
       "      <td>2028.012306</td>\n",
       "      <td>4999.625796</td>\n",
       "    </tr>\n",
       "    <tr>\n",
       "      <th>Male</th>\n",
       "      <td>184856.0</td>\n",
       "      <td>1367.146528</td>\n",
       "      <td>1128.632083</td>\n",
       "      <td>10.003750</td>\n",
       "      <td>439.955718</td>\n",
       "      <td>1041.221519</td>\n",
       "      <td>2027.402902</td>\n",
       "      <td>4999.171428</td>\n",
       "    </tr>\n",
       "  </tbody>\n",
       "</table>\n",
       "</div>"
      ],
      "text/plain": [
       "           count         mean          std        min         25%  \\\n",
       "Gender                                                              \n",
       "Female  112195.0  1368.383251  1128.538040  10.056353  438.133560   \n",
       "Male    184856.0  1367.146528  1128.632083  10.003750  439.955718   \n",
       "\n",
       "                50%          75%          max  \n",
       "Gender                                         \n",
       "Female  1041.221519  2028.012306  4999.625796  \n",
       "Male    1041.221519  2027.402902  4999.171428  "
      ]
     },
     "execution_count": 80,
     "metadata": {},
     "output_type": "execute_result"
    }
   ],
   "source": [
    "data.groupby('Gender')['Total_Amount'].describe()"
   ]
  },
  {
   "cell_type": "code",
   "execution_count": 83,
   "id": "3b5134d3-469d-4865-b9a3-f00afcdcfc00",
   "metadata": {},
   "outputs": [
    {
     "data": {
      "image/png": "[encoded data removed]",
      "text/plain": [
       "<Figure size 800x600 with 1 Axes>"
      ]
     },
     "metadata": {},
     "output_type": "display_data"
    }
   ],
   "source": [
    "plt.figure(figsize=(8,6))\n",
    "sns.boxplot(x='Gender',y='Total_Amount',data=data)\n",
    "plt.title('Distribution of Purchase amount by Gender(Median)')\n",
    "plt.show();"
   ]
  },
  {
   "cell_type": "markdown",
   "id": "22c32c08-b830-4d9a-b0ba-8758e175ca8c",
   "metadata": {},
   "source": [
    "Age Group Analysis"
   ]
  },
  {
   "cell_type": "code",
   "execution_count": 44,
   "id": "096bc728-e478-471f-9cbc-c216183516a1",
   "metadata": {},
   "outputs": [
    {
     "data": {
      "image/png": "[encoded data removed]",
      "text/plain": [
       "<Figure size 1000x500 with 1 Axes>"
      ]
     },
     "metadata": {},
     "output_type": "display_data"
    }
   ],
   "source": [
    "bins=[18,25,35,45,55,65,75,100]\n",
    "labels=['18-25','26-35','36-45','46-55','56-65','66-75','76+']\n",
    "data['Age_group']=pd.cut(data['Age'],bins=bins,labels=labels,right=False)\n",
    "\n",
    "age_sales=data.groupby('Age_group')['Total_Amount'].sum()\n",
    "\n",
    "plt.figure(figsize=(10,5))\n",
    "age_sales.plot(kind='bar',color='green')\n",
    "plt.xlabel('Age category')\n",
    "plt.ylabel('Total sales')\n",
    "plt.title('Sales Distribution by Age Group')\n",
    "plt.xticks(rotation=45)\n",
    "plt.show()"
   ]
  },
  {
   "cell_type": "markdown",
   "id": "44f57915-e2d4-48c2-b47e-8441957006d4",
   "metadata": {},
   "source": [
    "#### Product Return Rates"
   ]
  },
  {
   "cell_type": "code",
   "execution_count": 89,
   "id": "0b6651c9-dcec-4b8f-81c1-a8449d60ad8e",
   "metadata": {},
   "outputs": [
    {
     "data": {
      "text/plain": [
       "Order_Status\n",
       "Delivered     128648\n",
       "Shipped        63933\n",
       "Processing     56224\n",
       "Pending        48246\n",
       "Name: count, dtype: int64"
      ]
     },
     "execution_count": 89,
     "metadata": {},
     "output_type": "execute_result"
    }
   ],
   "source": [
    "data['Order_Status'].value_counts()"
   ]
  },
  {
   "cell_type": "markdown",
   "id": "a65a1e98-750f-4b2c-9426-1975e8def556",
   "metadata": {},
   "source": [
    "Fortunaley no returns,So we couldn't find the return rates."
   ]
  },
  {
   "cell_type": "markdown",
   "id": "4a874eda-8e27-4ed6-9af7-70ef8fed8162",
   "metadata": {},
   "source": [
    "#### Payment Method Analysis"
   ]
  },
  {
   "cell_type": "code",
   "execution_count": 93,
   "id": "a50b7894-d05f-4c3f-9891-fbbfedee9f45",
   "metadata": {},
   "outputs": [
    {
     "data": {
      "text/plain": [
       "Payment_Method\n",
       "Credit Card    88897\n",
       "Debit Card     75500\n",
       "Cash           72632\n",
       "PayPal         60022\n",
       "Name: count, dtype: int64"
      ]
     },
     "execution_count": 93,
     "metadata": {},
     "output_type": "execute_result"
    }
   ],
   "source": [
    "Payment_counts=data['Payment_Method'].value_counts()\n",
    "Payment_counts"
   ]
  },
  {
   "cell_type": "code",
   "execution_count": 95,
   "id": "8036f358-c6ac-48ae-80cc-8bb683e49fec",
   "metadata": {},
   "outputs": [
    {
     "data": {
      "image/png": "[encoded data removed]",
      "text/plain": [
       "<Figure size 800x500 with 1 Axes>"
      ]
     },
     "metadata": {},
     "output_type": "display_data"
    }
   ],
   "source": [
    "plt.figure(figsize=(8,5))\n",
    "Payment_counts.plot(kind='pie',autopct='%1.1f%%')\n",
    "plt.title('Distribution of payment methods')\n",
    "plt.ylabel('')\n",
    "plt.show()"
   ]
  },
  {
   "cell_type": "markdown",
   "id": "cbaaadf5-8daf-4090-bc70-2b74599773c2",
   "metadata": {},
   "source": [
    "### RFM Analysis"
   ]
  },
  {
   "cell_type": "code",
   "execution_count": 98,
   "id": "ca4f06d5-aed6-403d-ab4b-59c0400b763f",
   "metadata": {},
   "outputs": [
    {
     "data": {
      "text/html": [
       "<div>\n",
       "<style scoped>\n",
       "    .dataframe tbody tr th:only-of-type {\n",
       "        vertical-align: middle;\n",
       "    }\n",
       "\n",
       "    .dataframe tbody tr th {\n",
       "        vertical-align: top;\n",
       "    }\n",
       "\n",
       "    .dataframe thead th {\n",
       "        text-align: right;\n",
       "    }\n",
       "</style>\n",
       "<table border=\"1\" class=\"dataframe\">\n",
       "  <thead>\n",
       "    <tr style=\"text-align: right;\">\n",
       "      <th></th>\n",
       "      <th>Customer_ID</th>\n",
       "      <th>Recency</th>\n",
       "      <th>Frequency</th>\n",
       "      <th>Monetary</th>\n",
       "    </tr>\n",
       "  </thead>\n",
       "  <tbody>\n",
       "    <tr>\n",
       "      <th>0</th>\n",
       "      <td>10000.0</td>\n",
       "      <td>102</td>\n",
       "      <td>4</td>\n",
       "      <td>5007.566357</td>\n",
       "    </tr>\n",
       "    <tr>\n",
       "      <th>1</th>\n",
       "      <td>10001.0</td>\n",
       "      <td>104</td>\n",
       "      <td>5</td>\n",
       "      <td>8136.462824</td>\n",
       "    </tr>\n",
       "    <tr>\n",
       "      <th>2</th>\n",
       "      <td>10002.0</td>\n",
       "      <td>94</td>\n",
       "      <td>5</td>\n",
       "      <td>4104.013951</td>\n",
       "    </tr>\n",
       "    <tr>\n",
       "      <th>3</th>\n",
       "      <td>10003.0</td>\n",
       "      <td>227</td>\n",
       "      <td>2</td>\n",
       "      <td>2340.496447</td>\n",
       "    </tr>\n",
       "    <tr>\n",
       "      <th>4</th>\n",
       "      <td>10004.0</td>\n",
       "      <td>30</td>\n",
       "      <td>2</td>\n",
       "      <td>2356.516683</td>\n",
       "    </tr>\n",
       "  </tbody>\n",
       "</table>\n",
       "</div>"
      ],
      "text/plain": [
       "   Customer_ID  Recency  Frequency     Monetary\n",
       "0      10000.0      102          4  5007.566357\n",
       "1      10001.0      104          5  8136.462824\n",
       "2      10002.0       94          5  4104.013951\n",
       "3      10003.0      227          2  2340.496447\n",
       "4      10004.0       30          2  2356.516683"
      ]
     },
     "execution_count": 98,
     "metadata": {},
     "output_type": "execute_result"
    }
   ],
   "source": [
    "reference_date=data['Date'].max()\n",
    "\n",
    "rfm_df=data.groupby('Customer_ID').agg({'Date':lambda x:(reference_date-x.max()).days,'Transaction_ID':'nunique','Total_Amount':'sum'}).reset_index()\n",
    "\n",
    "rfm_df.columns=['Customer_ID','Recency','Frequency','Monetary']\n",
    "rfm_df.head()\n",
    "                                        "
   ]
  },
  {
   "cell_type": "markdown",
   "id": "9fae395d-aa22-47e1-8e79-58bd45315198",
   "metadata": {},
   "source": [
    "#### Assign RFM score"
   ]
  },
  {
   "cell_type": "code",
   "execution_count": 101,
   "id": "8bae9e3e-9052-4a00-bb8a-d8bb12b695ef",
   "metadata": {},
   "outputs": [
    {
     "data": {
      "text/html": [
       "<div>\n",
       "<style scoped>\n",
       "    .dataframe tbody tr th:only-of-type {\n",
       "        vertical-align: middle;\n",
       "    }\n",
       "\n",
       "    .dataframe tbody tr th {\n",
       "        vertical-align: top;\n",
       "    }\n",
       "\n",
       "    .dataframe thead th {\n",
       "        text-align: right;\n",
       "    }\n",
       "</style>\n",
       "<table border=\"1\" class=\"dataframe\">\n",
       "  <thead>\n",
       "    <tr style=\"text-align: right;\">\n",
       "      <th></th>\n",
       "      <th>Customer_ID</th>\n",
       "      <th>Recency</th>\n",
       "      <th>Frequency</th>\n",
       "      <th>Monetary</th>\n",
       "      <th>R_score</th>\n",
       "      <th>F_score</th>\n",
       "      <th>M_score</th>\n",
       "      <th>RFM_score</th>\n",
       "    </tr>\n",
       "  </thead>\n",
       "  <tbody>\n",
       "    <tr>\n",
       "      <th>0</th>\n",
       "      <td>10000.0</td>\n",
       "      <td>102</td>\n",
       "      <td>4</td>\n",
       "      <td>5007.566357</td>\n",
       "      <td>2</td>\n",
       "      <td>3</td>\n",
       "      <td>3</td>\n",
       "      <td>233</td>\n",
       "    </tr>\n",
       "    <tr>\n",
       "      <th>1</th>\n",
       "      <td>10001.0</td>\n",
       "      <td>104</td>\n",
       "      <td>5</td>\n",
       "      <td>8136.462824</td>\n",
       "      <td>2</td>\n",
       "      <td>4</td>\n",
       "      <td>4</td>\n",
       "      <td>244</td>\n",
       "    </tr>\n",
       "    <tr>\n",
       "      <th>2</th>\n",
       "      <td>10002.0</td>\n",
       "      <td>94</td>\n",
       "      <td>5</td>\n",
       "      <td>4104.013951</td>\n",
       "      <td>2</td>\n",
       "      <td>4</td>\n",
       "      <td>2</td>\n",
       "      <td>242</td>\n",
       "    </tr>\n",
       "    <tr>\n",
       "      <th>3</th>\n",
       "      <td>10003.0</td>\n",
       "      <td>227</td>\n",
       "      <td>2</td>\n",
       "      <td>2340.496447</td>\n",
       "      <td>1</td>\n",
       "      <td>1</td>\n",
       "      <td>2</td>\n",
       "      <td>112</td>\n",
       "    </tr>\n",
       "    <tr>\n",
       "      <th>4</th>\n",
       "      <td>10004.0</td>\n",
       "      <td>30</td>\n",
       "      <td>2</td>\n",
       "      <td>2356.516683</td>\n",
       "      <td>4</td>\n",
       "      <td>1</td>\n",
       "      <td>2</td>\n",
       "      <td>412</td>\n",
       "    </tr>\n",
       "  </tbody>\n",
       "</table>\n",
       "</div>"
      ],
      "text/plain": [
       "   Customer_ID  Recency  Frequency     Monetary R_score F_score M_score  \\\n",
       "0      10000.0      102          4  5007.566357       2       3       3   \n",
       "1      10001.0      104          5  8136.462824       2       4       4   \n",
       "2      10002.0       94          5  4104.013951       2       4       2   \n",
       "3      10003.0      227          2  2340.496447       1       1       2   \n",
       "4      10004.0       30          2  2356.516683       4       1       2   \n",
       "\n",
       "  RFM_score  \n",
       "0       233  \n",
       "1       244  \n",
       "2       242  \n",
       "3       112  \n",
       "4       412  "
      ]
     },
     "execution_count": 101,
     "metadata": {},
     "output_type": "execute_result"
    }
   ],
   "source": [
    "rfm_df['R_score']=pd.qcut(rfm_df['Recency'],4,labels=[4,3,2,1])\n",
    "rfm_df['F_score']=pd.qcut(rfm_df['Frequency'],4,labels=[1,2,3,4])\n",
    "rfm_df['M_score']=pd.qcut(rfm_df['Monetary'],4,labels=[1,2,3,4])\n",
    "\n",
    "# Combine RFM scores into a single score\n",
    "rfm_df['RFM_score']=rfm_df['R_score'].astype(str)+rfm_df['F_score'].astype(str)+rfm_df['M_score'].astype(str)\n",
    "\n",
    "rfm_df.head()"
   ]
  },
  {
   "cell_type": "markdown",
   "id": "b17c6fa9-b435-4c47-8c24-58402c941deb",
   "metadata": {},
   "source": [
    "#### Customer Segmentation"
   ]
  },
  {
   "cell_type": "code",
   "execution_count": 104,
   "id": "9116aa9d-38e0-42fe-a1bd-f1231e3ec44e",
   "metadata": {},
   "outputs": [
    {
     "data": {
      "text/html": [
       "<div>\n",
       "<style scoped>\n",
       "    .dataframe tbody tr th:only-of-type {\n",
       "        vertical-align: middle;\n",
       "    }\n",
       "\n",
       "    .dataframe tbody tr th {\n",
       "        vertical-align: top;\n",
       "    }\n",
       "\n",
       "    .dataframe thead th {\n",
       "        text-align: right;\n",
       "    }\n",
       "</style>\n",
       "<table border=\"1\" class=\"dataframe\">\n",
       "  <thead>\n",
       "    <tr style=\"text-align: right;\">\n",
       "      <th></th>\n",
       "      <th>Customer_ID</th>\n",
       "      <th>Recency</th>\n",
       "      <th>Frequency</th>\n",
       "      <th>Monetary</th>\n",
       "      <th>R_score</th>\n",
       "      <th>F_score</th>\n",
       "      <th>M_score</th>\n",
       "      <th>RFM_score</th>\n",
       "      <th>Segment</th>\n",
       "    </tr>\n",
       "  </thead>\n",
       "  <tbody>\n",
       "    <tr>\n",
       "      <th>0</th>\n",
       "      <td>10000.0</td>\n",
       "      <td>102</td>\n",
       "      <td>4</td>\n",
       "      <td>5007.566357</td>\n",
       "      <td>2</td>\n",
       "      <td>3</td>\n",
       "      <td>3</td>\n",
       "      <td>233</td>\n",
       "      <td>Other</td>\n",
       "    </tr>\n",
       "    <tr>\n",
       "      <th>1</th>\n",
       "      <td>10001.0</td>\n",
       "      <td>104</td>\n",
       "      <td>5</td>\n",
       "      <td>8136.462824</td>\n",
       "      <td>2</td>\n",
       "      <td>4</td>\n",
       "      <td>4</td>\n",
       "      <td>244</td>\n",
       "      <td>Other</td>\n",
       "    </tr>\n",
       "    <tr>\n",
       "      <th>2</th>\n",
       "      <td>10002.0</td>\n",
       "      <td>94</td>\n",
       "      <td>5</td>\n",
       "      <td>4104.013951</td>\n",
       "      <td>2</td>\n",
       "      <td>4</td>\n",
       "      <td>2</td>\n",
       "      <td>242</td>\n",
       "      <td>Other</td>\n",
       "    </tr>\n",
       "    <tr>\n",
       "      <th>3</th>\n",
       "      <td>10003.0</td>\n",
       "      <td>227</td>\n",
       "      <td>2</td>\n",
       "      <td>2340.496447</td>\n",
       "      <td>1</td>\n",
       "      <td>1</td>\n",
       "      <td>2</td>\n",
       "      <td>112</td>\n",
       "      <td>Lost Customers</td>\n",
       "    </tr>\n",
       "    <tr>\n",
       "      <th>4</th>\n",
       "      <td>10004.0</td>\n",
       "      <td>30</td>\n",
       "      <td>2</td>\n",
       "      <td>2356.516683</td>\n",
       "      <td>4</td>\n",
       "      <td>1</td>\n",
       "      <td>2</td>\n",
       "      <td>412</td>\n",
       "      <td>Other</td>\n",
       "    </tr>\n",
       "  </tbody>\n",
       "</table>\n",
       "</div>"
      ],
      "text/plain": [
       "   Customer_ID  Recency  Frequency     Monetary R_score F_score M_score  \\\n",
       "0      10000.0      102          4  5007.566357       2       3       3   \n",
       "1      10001.0      104          5  8136.462824       2       4       4   \n",
       "2      10002.0       94          5  4104.013951       2       4       2   \n",
       "3      10003.0      227          2  2340.496447       1       1       2   \n",
       "4      10004.0       30          2  2356.516683       4       1       2   \n",
       "\n",
       "  RFM_score         Segment  \n",
       "0       233           Other  \n",
       "1       244           Other  \n",
       "2       242           Other  \n",
       "3       112  Lost Customers  \n",
       "4       412           Other  "
      ]
     },
     "execution_count": 104,
     "metadata": {},
     "output_type": "execute_result"
    }
   ],
   "source": [
    "def assign_segment(row):\n",
    "    if row['RFM_score'] in ['444','443','434','433']:\n",
    "        return 'Best Customers'\n",
    "    elif row['RFM_score'] in ['344','343','334','333']:\n",
    "        return 'Loyal Customers'\n",
    "    elif row['RFM_score'] in ['144','143','134','133']:\n",
    "        return 'New Customers'\n",
    "    elif row['RFM_score'] in ['111','112','121','122']:\n",
    "        return 'Lost Customers'\n",
    "    else:\n",
    "        return 'Other'\n",
    "rfm_df['Segment']=rfm_df.apply(assign_segment,axis=1)\n",
    "rfm_df.head()"
   ]
  },
  {
   "cell_type": "code",
   "execution_count": 45,
   "id": "4a231fef-3915-42f4-acea-140766b0556f",
   "metadata": {},
   "outputs": [],
   "source": [
    "# save RFM analysis results\n",
    "rfm_df.to_csv(\"rfm_analysis.csv\",index=False)"
   ]
  },
  {
   "cell_type": "code",
   "execution_count": 106,
   "id": "1773fa81-d335-4b57-ac6f-222ff0e59d86",
   "metadata": {},
   "outputs": [
    {
     "data": {
      "text/plain": [
       "Segment\n",
       "Other              48725\n",
       "Lost Customers     14495\n",
       "Best Customers     11182\n",
       "Loyal Customers     9455\n",
       "New Customers       2740\n",
       "Name: count, dtype: int64"
      ]
     },
     "execution_count": 106,
     "metadata": {},
     "output_type": "execute_result"
    }
   ],
   "source": [
    "Segment=rfm_df['Segment'].value_counts()\n",
    "Segment"
   ]
  },
  {
   "cell_type": "code",
   "execution_count": 49,
   "id": "f2079a7b-44ad-4e6b-be8a-b442a328ed05",
   "metadata": {},
   "outputs": [
    {
     "data": {
      "image/png": "[encoded data removed]",
      "text/plain": [
       "<Figure size 800x500 with 1 Axes>"
      ]
     },
     "metadata": {},
     "output_type": "display_data"
    }
   ],
   "source": [
    "plt.figure(figsize=(8,5))\n",
    "Segment.plot(kind='pie',autopct='%1.1f%%')\n",
    "plt.title('Distribution of Cusiomers')\n",
    "plt.ylabel('')\n",
    "plt.show()"
   ]
  },
  {
   "cell_type": "markdown",
   "id": "224bf226-8618-42ec-b134-a667a48132d2",
   "metadata": {},
   "source": [
    "### Data Preprocessing For Machine learning"
   ]
  },
  {
   "cell_type": "code",
   "execution_count": 46,
   "id": "0c39145d-f6d8-49b1-bd10-afec07a90fb9",
   "metadata": {},
   "outputs": [],
   "source": [
    "# drop the columns not needed for machine learning process\n",
    "data.drop(columns=['Transaction_ID', 'Customer_ID', 'Name', 'Email', 'Phone', 'Address','Zipcode', 'Country','Age_group','Time','Month','Year'],\n",
    "                            inplace=True)"
   ]
  },
  {
   "cell_type": "markdown",
   "id": "e073e567-38ac-4182-8329-c4b4bf41e566",
   "metadata": {},
   "source": [
    "#### Feature Engineering"
   ]
  },
  {
   "cell_type": "code",
   "execution_count": 48,
   "id": "e22e99fd-ca8d-4800-bc9a-0bb362bf6bb4",
   "metadata": {},
   "outputs": [],
   "source": [
    "data['DayOfWeek']=data['Date'].dt.dayofweek #Monday=0,sunday=6\n",
    "data['Quarter']=data['Date'].dt.quarter\n",
    "data['Year']=data['Date'].dt.year\n",
    "data['Month']=data['Date'].dt.month\n",
    "data['Weekday']=data['Date'].dt.weekday\n",
    "data['DayofYear']=data['Date'].dt.dayofyear"
   ]
  },
  {
   "cell_type": "code",
   "execution_count": 50,
   "id": "14bb00f2-8ae0-497c-ab41-3878d997dce5",
   "metadata": {},
   "outputs": [
    {
     "data": {
      "text/plain": [
       "Index(['City', 'State', 'Age', 'Gender', 'Income', 'Customer_Segment', 'Date',\n",
       "       'Total_Purchases', 'Amount', 'Total_Amount', 'Product_Category',\n",
       "       'Product_Brand', 'Product_Type', 'Feedback', 'Shipping_Method',\n",
       "       'Payment_Method', 'Order_Status', 'Ratings', 'products', 'DayOfWeek',\n",
       "       'Quarter', 'Year', 'Month', 'Weekday', 'DayofYear'],\n",
       "      dtype='object')"
      ]
     },
     "execution_count": 50,
     "metadata": {},
     "output_type": "execute_result"
    }
   ],
   "source": [
    "data.columns"
   ]
  },
  {
   "cell_type": "code",
   "execution_count": 52,
   "id": "0bdf29bc-6e50-4aa8-8cf3-e8475eaea8f5",
   "metadata": {},
   "outputs": [
    {
     "data": {
      "text/plain": [
       "Feedback\n",
       "Excellent    99091\n",
       "Good         93641\n",
       "Average      61700\n",
       "Bad          42619\n",
       "Name: count, dtype: int64"
      ]
     },
     "execution_count": 52,
     "metadata": {},
     "output_type": "execute_result"
    }
   ],
   "source": [
    "data['Feedback'].value_counts()"
   ]
  },
  {
   "cell_type": "code",
   "execution_count": 54,
   "id": "dd5a47be-abed-46d4-a012-dfa30bed4faa",
   "metadata": {},
   "outputs": [],
   "source": [
    "# Lets convert feedback into numerical values\n",
    "feedback_mapping={'Excellent':5,'Good':4,'Average':3,'Bad':1}\n",
    "data['Feedback']=data['Feedback'].map(feedback_mapping)"
   ]
  },
  {
   "cell_type": "markdown",
   "id": "8e5701b8-0720-42d9-a3e9-9a9e87d142a3",
   "metadata": {},
   "source": [
    "#### Categorical Encoding"
   ]
  },
  {
   "cell_type": "code",
   "execution_count": 56,
   "id": "2f5c4647-8c05-487d-8be0-7c7e38b6c4de",
   "metadata": {},
   "outputs": [],
   "source": [
    "# Encode Categorical Variables using onehot encoding\n",
    "categorical_cols=['Gender','Income','Customer_Segment',\n",
    "       'Product_Brand', 'Product_Category','Shipping_Method',\n",
    "       'Payment_Method', 'Order_Status']\n",
    "data=pd.get_dummies(data,columns=categorical_cols,drop_first=True)"
   ]
  },
  {
   "cell_type": "code",
   "execution_count": 58,
   "id": "f65a0646-1c26-41aa-846d-dee414bfe2fa",
   "metadata": {},
   "outputs": [],
   "source": [
    "# Encode categories(For large number of categories) using label encoding\n",
    "from sklearn.preprocessing import LabelEncoder\n",
    "le=LabelEncoder()\n",
    "data['State']=le.fit_transform(data['State'])\n",
    "data['City']=le.fit_transform(data['City'])\n",
    "data['Product_Type']=le.fit_transform(data['Product_Type'])\n",
    "data['products']=le.fit_transform(data['products'])"
   ]
  },
  {
   "cell_type": "code",
   "execution_count": 60,
   "id": "21d9687a-cdfa-4b00-8ef5-d1649e9e6d5c",
   "metadata": {},
   "outputs": [
    {
     "name": "stdout",
     "output_type": "stream",
     "text": [
      "<class 'pandas.core.frame.DataFrame'>\n",
      "Index: 297051 entries, 0 to 302009\n",
      "Data columns (total 51 columns):\n",
      " #   Column                           Non-Null Count   Dtype         \n",
      "---  ------                           --------------   -----         \n",
      " 0   City                             297051 non-null  int32         \n",
      " 1   State                            297051 non-null  int32         \n",
      " 2   Age                              297051 non-null  float64       \n",
      " 3   Date                             297051 non-null  datetime64[ns]\n",
      " 4   Total_Purchases                  297051 non-null  float64       \n",
      " 5   Amount                           297051 non-null  float64       \n",
      " 6   Total_Amount                     297051 non-null  float64       \n",
      " 7   Product_Type                     297051 non-null  int32         \n",
      " 8   Feedback                         297051 non-null  int64         \n",
      " 9   Ratings                          297051 non-null  float64       \n",
      " 10  products                         297051 non-null  int32         \n",
      " 11  DayOfWeek                        297051 non-null  int32         \n",
      " 12  Quarter                          297051 non-null  int32         \n",
      " 13  Year                             297051 non-null  int32         \n",
      " 14  Month                            297051 non-null  int32         \n",
      " 15  Weekday                          297051 non-null  int32         \n",
      " 16  DayofYear                        297051 non-null  int32         \n",
      " 17  Gender_Male                      297051 non-null  bool          \n",
      " 18  Income_Low                       297051 non-null  bool          \n",
      " 19  Income_Medium                    297051 non-null  bool          \n",
      " 20  Customer_Segment_Premium         297051 non-null  bool          \n",
      " 21  Customer_Segment_Regular         297051 non-null  bool          \n",
      " 22  Product_Brand_Apple              297051 non-null  bool          \n",
      " 23  Product_Brand_Bed Bath & Beyond  297051 non-null  bool          \n",
      " 24  Product_Brand_BlueStar           297051 non-null  bool          \n",
      " 25  Product_Brand_Coca-Cola          297051 non-null  bool          \n",
      " 26  Product_Brand_HarperCollins      297051 non-null  bool          \n",
      " 27  Product_Brand_Home Depot         297051 non-null  bool          \n",
      " 28  Product_Brand_IKEA               297051 non-null  bool          \n",
      " 29  Product_Brand_Mitsubhisi         297051 non-null  bool          \n",
      " 30  Product_Brand_Nestle             297051 non-null  bool          \n",
      " 31  Product_Brand_Nike               297051 non-null  bool          \n",
      " 32  Product_Brand_Penguin Books      297051 non-null  bool          \n",
      " 33  Product_Brand_Pepsi              297051 non-null  bool          \n",
      " 34  Product_Brand_Random House       297051 non-null  bool          \n",
      " 35  Product_Brand_Samsung            297051 non-null  bool          \n",
      " 36  Product_Brand_Sony               297051 non-null  bool          \n",
      " 37  Product_Brand_Whirepool          297051 non-null  bool          \n",
      " 38  Product_Brand_Zara               297051 non-null  bool          \n",
      " 39  Product_Category_Clothing        297051 non-null  bool          \n",
      " 40  Product_Category_Electronics     297051 non-null  bool          \n",
      " 41  Product_Category_Grocery         297051 non-null  bool          \n",
      " 42  Product_Category_Home Decor      297051 non-null  bool          \n",
      " 43  Shipping_Method_Same-Day         297051 non-null  bool          \n",
      " 44  Shipping_Method_Standard         297051 non-null  bool          \n",
      " 45  Payment_Method_Credit Card       297051 non-null  bool          \n",
      " 46  Payment_Method_Debit Card        297051 non-null  bool          \n",
      " 47  Payment_Method_PayPal            297051 non-null  bool          \n",
      " 48  Order_Status_Pending             297051 non-null  bool          \n",
      " 49  Order_Status_Processing          297051 non-null  bool          \n",
      " 50  Order_Status_Shipped             297051 non-null  bool          \n",
      "dtypes: bool(34), datetime64[ns](1), float64(5), int32(10), int64(1)\n",
      "memory usage: 39.1 MB\n"
     ]
    }
   ],
   "source": [
    "data.info()"
   ]
  },
  {
   "cell_type": "code",
   "execution_count": 62,
   "id": "4cf41454-56d4-49fd-952f-13e2359a19a9",
   "metadata": {},
   "outputs": [
    {
     "data": {
      "text/plain": [
       "Date\n",
       "7 days       848\n",
       "0 days       837\n",
       "12 days      836\n",
       "-12 days     836\n",
       "11 days      827\n",
       "            ... \n",
       "363 days       4\n",
       "-364 days      4\n",
       "364 days       4\n",
       "-365 days      3\n",
       "365 days       2\n",
       "Name: count, Length: 731, dtype: int64"
      ]
     },
     "execution_count": 62,
     "metadata": {},
     "output_type": "execute_result"
    }
   ],
   "source": [
    "data['Date'].diff().value_counts() # data looks like irregular time gaps.this suggest that the time stamps are not evenly spaced"
   ]
  },
  {
   "cell_type": "code",
   "execution_count": 127,
   "id": "04517ddb-30e4-43e2-b47f-36717992b819",
   "metadata": {},
   "outputs": [
    {
     "data": {
      "text/plain": [
       "City                                        int32\n",
       "State                                       int32\n",
       "Age                                       float64\n",
       "Date                               datetime64[ns]\n",
       "Total_Purchases                           float64\n",
       "Amount                                    float64\n",
       "Total_Amount                              float64\n",
       "Product_Type                                int32\n",
       "Feedback                                    int64\n",
       "Ratings                                   float64\n",
       "products                                    int32\n",
       "DayOfWeek                                   int32\n",
       "Quarter                                     int32\n",
       "Year                                        int32\n",
       "Month                                       int32\n",
       "Weekday                                     int32\n",
       "DayofYear                                   int32\n",
       "Gender_Male                                  bool\n",
       "Income_Low                                   bool\n",
       "Income_Medium                                bool\n",
       "Customer_Segment_Premium                     bool\n",
       "Customer_Segment_Regular                     bool\n",
       "Product_Brand_Apple                          bool\n",
       "Product_Brand_Bed Bath & Beyond              bool\n",
       "Product_Brand_BlueStar                       bool\n",
       "Product_Brand_Coca-Cola                      bool\n",
       "Product_Brand_HarperCollins                  bool\n",
       "Product_Brand_Home Depot                     bool\n",
       "Product_Brand_IKEA                           bool\n",
       "Product_Brand_Mitsubhisi                     bool\n",
       "Product_Brand_Nestle                         bool\n",
       "Product_Brand_Nike                           bool\n",
       "Product_Brand_Penguin Books                  bool\n",
       "Product_Brand_Pepsi                          bool\n",
       "Product_Brand_Random House                   bool\n",
       "Product_Brand_Samsung                        bool\n",
       "Product_Brand_Sony                           bool\n",
       "Product_Brand_Whirepool                      bool\n",
       "Product_Brand_Zara                           bool\n",
       "Product_Category_Clothing                    bool\n",
       "Product_Category_Electronics                 bool\n",
       "Product_Category_Grocery                     bool\n",
       "Product_Category_Home Decor                  bool\n",
       "Shipping_Method_Same-Day                     bool\n",
       "Shipping_Method_Standard                     bool\n",
       "Payment_Method_Credit Card                   bool\n",
       "Payment_Method_Debit Card                    bool\n",
       "Payment_Method_PayPal                        bool\n",
       "Order_Status_Pending                         bool\n",
       "Order_Status_Processing                      bool\n",
       "Order_Status_Shipped                         bool\n",
       "dtype: object"
      ]
     },
     "execution_count": 127,
     "metadata": {},
     "output_type": "execute_result"
    }
   ],
   "source": [
    "data.dtypes"
   ]
  },
  {
   "cell_type": "code",
   "execution_count": 64,
   "id": "83339635-688c-4e75-9253-3ef40371b548",
   "metadata": {},
   "outputs": [],
   "source": [
    "preprocessed=data.copy()"
   ]
  },
  {
   "cell_type": "markdown",
   "id": "59fadc9f-0da4-4157-8379-128408f0d7e2",
   "metadata": {},
   "source": [
    "## Sales Forecasting"
   ]
  },
  {
   "cell_type": "code",
   "execution_count": 129,
   "id": "1cfd45d1-3894-4f17-8a8d-ee1786318cb0",
   "metadata": {},
   "outputs": [],
   "source": [
    "#Lag Features(to capture previous sales trends)\n",
    "data['Sales_Lag_1']=data['Total_Amount'].shift(1) \n",
    "data['Sales_Lag_7']=data['Total_Amount'].shift(7)"
   ]
  },
  {
   "cell_type": "code",
   "execution_count": 131,
   "id": "ea0e033b-48ea-4fbd-b0b5-0f304f8d15d2",
   "metadata": {},
   "outputs": [
    {
     "name": "stdout",
     "output_type": "stream",
     "text": [
      "0                 NaN\n",
      "1          324.086270\n",
      "2          806.707815\n",
      "3         1063.432799\n",
      "4         2466.854021\n",
      "             ...     \n",
      "302005    2362.120301\n",
      "302006     973.962984\n",
      "302007     285.137301\n",
      "302008     182.105285\n",
      "302009     120.834784\n",
      "Name: Sales_Lag_1, Length: 297051, dtype: float64\n",
      "0                 NaN\n",
      "1                 NaN\n",
      "2                 NaN\n",
      "3                 NaN\n",
      "4                 NaN\n",
      "             ...     \n",
      "302005     501.674654\n",
      "302006     413.734856\n",
      "302007     151.805498\n",
      "302008    2401.466964\n",
      "302009    2659.976987\n",
      "Name: Sales_Lag_7, Length: 297051, dtype: float64\n"
     ]
    }
   ],
   "source": [
    "print(data['Sales_Lag_1'])\n",
    "print(data['Sales_Lag_7'])"
   ]
  },
  {
   "cell_type": "code",
   "execution_count": 133,
   "id": "9d9801e9-360f-4883-9594-bcccb7e3e358",
   "metadata": {},
   "outputs": [],
   "source": [
    "# Moving averages\n",
    "data['Sales_MA_7']=data['Total_Amount'].rolling(window=7).mean()\n",
    "data['Sales_MA_30']=data['Total_Amount'].rolling(window=30).mean()"
   ]
  },
  {
   "cell_type": "code",
   "execution_count": 135,
   "id": "34d9d28e-8127-4b51-87cb-e37cd3b9aca0",
   "metadata": {},
   "outputs": [
    {
     "data": {
      "text/plain": [
       "0                 NaN\n",
       "1                 NaN\n",
       "2                 NaN\n",
       "3                 NaN\n",
       "4                 NaN\n",
       "             ...     \n",
       "302005    1199.726835\n",
       "302006    1188.289894\n",
       "302007    1162.168971\n",
       "302008    1059.268988\n",
       "302009    1100.497464\n",
       "Name: Sales_MA_30, Length: 297051, dtype: float64"
      ]
     },
     "execution_count": 135,
     "metadata": {},
     "output_type": "execute_result"
    }
   ],
   "source": [
    "data['Sales_MA_30']"
   ]
  },
  {
   "cell_type": "code",
   "execution_count": 133,
   "id": "a52ac015-ecdf-46f6-8006-740d13999ee3",
   "metadata": {},
   "outputs": [
    {
     "name": "stdout",
     "output_type": "stream",
     "text": [
      "ADF Statistic:-546.7609280895791,p-value:0.0\n"
     ]
    }
   ],
   "source": [
    "# check stationary(Dicky fuller test)\n",
    "from statsmodels.tsa.stattools import adfuller\n",
    "result=adfuller(data['Total_Amount'])\n",
    "print(f'ADF Statistic:{result[0]},p-value:{result[1]}')\n"
   ]
  },
  {
   "cell_type": "markdown",
   "id": "91650e9f-38d7-42d1-9735-144f828a3732",
   "metadata": {},
   "source": [
    "ADF statistics shows a very negative value suggests strong evidence for stationarity.\n",
    "p-value indicates the null hypothesis is rejected,meaning the Total_Amount time series is stationary.Now we can proceed with Modeling."
   ]
  },
  {
   "cell_type": "code",
   "execution_count": 139,
   "id": "588bb037-df58-4241-b4da-3113c2e1ad37",
   "metadata": {},
   "outputs": [
    {
     "name": "stdout",
     "output_type": "stream",
     "text": [
      "             City  State      Age  Total_Purchases         Amount  \\\n",
      "Date                                                                \n",
      "2023-03-01  52234  15673  28106.0           4200.0  204773.858026   \n",
      "2023-03-02  49288  15412  28293.0           4288.0  205300.412791   \n",
      "2023-03-03  47308  14858  26764.0           4127.0  202915.155878   \n",
      "2023-03-04  49739  15767  27063.0           4274.0  193774.217855   \n",
      "2023-03-05  51242  15551  28303.0           4341.0  211177.579945   \n",
      "\n",
      "            Total_Amount  Product_Type  Feedback  Ratings  products  ...  \\\n",
      "Date                                                                 ...   \n",
      "2023-03-01  1.089183e+06         14200      2984   2561.0    123386  ...   \n",
      "2023-03-02  1.115221e+06         14460      2874   2455.0    125880  ...   \n",
      "2023-03-03  1.084951e+06         14341      2802   2424.0    122719  ...   \n",
      "2023-03-04  1.070825e+06         13901      2905   2485.0    122719  ...   \n",
      "2023-03-05  1.140212e+06         14409      2957   2519.0    125305  ...   \n",
      "\n",
      "            Payment_Method_Credit Card  Payment_Method_Debit Card  \\\n",
      "Date                                                                \n",
      "2023-03-01                         234                        188   \n",
      "2023-03-02                         252                        208   \n",
      "2023-03-03                         253                        180   \n",
      "2023-03-04                         204                        203   \n",
      "2023-03-05                         244                        195   \n",
      "\n",
      "            Payment_Method_PayPal  Order_Status_Pending  \\\n",
      "Date                                                      \n",
      "2023-03-01                    169                   122   \n",
      "2023-03-02                    147                   129   \n",
      "2023-03-03                    158                   125   \n",
      "2023-03-04                    167                   131   \n",
      "2023-03-05                    156                   142   \n",
      "\n",
      "            Order_Status_Processing  Order_Status_Shipped   Sales_Lag_1  \\\n",
      "Date                                                                      \n",
      "2023-03-01                      143                   164  1.115166e+06   \n",
      "2023-03-02                      159                   164  1.072514e+06   \n",
      "2023-03-03                      140                   182  1.088759e+06   \n",
      "2023-03-04                      150                   161  1.062955e+06   \n",
      "2023-03-05                      148                   180  1.123063e+06   \n",
      "\n",
      "             Sales_Lag_7    Sales_MA_7   Sales_MA_30  \n",
      "Date                                                  \n",
      "2023-03-01  1.109922e+06  1.098895e+06  1.091456e+06  \n",
      "2023-03-02  1.038824e+06  1.093040e+06  1.079268e+06  \n",
      "2023-03-03  1.092591e+06  1.074123e+06  1.074208e+06  \n",
      "2023-03-04  1.012339e+06  1.069906e+06  1.052633e+06  \n",
      "2023-03-05  1.060733e+06  1.097465e+06  1.105705e+06  \n",
      "\n",
      "[5 rows x 54 columns]\n"
     ]
    }
   ],
   "source": [
    "#  need resampling,we should resample the data to fixed frequency\n",
    "data.set_index('Date',inplace=True)\n",
    "# Resample to daily frequency and fill missing values with Zero\n",
    "data_resampled=data.resample('D').sum().fillna(0)\n",
    "print(data_resampled.head())"
   ]
  },
  {
   "cell_type": "code",
   "execution_count": 141,
   "id": "308e3158-8044-4fa4-9e01-761aab730878",
   "metadata": {},
   "outputs": [
    {
     "data": {
      "text/plain": [
       "0"
      ]
     },
     "execution_count": 141,
     "metadata": {},
     "output_type": "execute_result"
    }
   ],
   "source": [
    "data_resampled.index.duplicated().sum()"
   ]
  },
  {
   "cell_type": "code",
   "execution_count": 143,
   "id": "b9554c1f-d503-4452-ba94-8c8413221524",
   "metadata": {},
   "outputs": [],
   "source": [
    "data.reset_index(inplace=True)"
   ]
  },
  {
   "cell_type": "code",
   "execution_count": 145,
   "id": "a34d39ae-e34a-49cf-a6ea-6e9dbec0dadd",
   "metadata": {},
   "outputs": [
    {
     "name": "stdout",
     "output_type": "stream",
     "text": [
      "<class 'pandas.core.frame.DataFrame'>\n",
      "RangeIndex: 297051 entries, 0 to 297050\n",
      "Data columns (total 55 columns):\n",
      " #   Column                           Non-Null Count   Dtype         \n",
      "---  ------                           --------------   -----         \n",
      " 0   Date                             297051 non-null  datetime64[ns]\n",
      " 1   City                             297051 non-null  int32         \n",
      " 2   State                            297051 non-null  int32         \n",
      " 3   Age                              297051 non-null  float64       \n",
      " 4   Total_Purchases                  297051 non-null  float64       \n",
      " 5   Amount                           297051 non-null  float64       \n",
      " 6   Total_Amount                     297051 non-null  float64       \n",
      " 7   Product_Type                     297051 non-null  int32         \n",
      " 8   Feedback                         297051 non-null  int64         \n",
      " 9   Ratings                          297051 non-null  float64       \n",
      " 10  products                         297051 non-null  int32         \n",
      " 11  DayOfWeek                        297051 non-null  int32         \n",
      " 12  Quarter                          297051 non-null  int32         \n",
      " 13  Year                             297051 non-null  int32         \n",
      " 14  Month                            297051 non-null  int32         \n",
      " 15  Weekday                          297051 non-null  int32         \n",
      " 16  DayofYear                        297051 non-null  int32         \n",
      " 17  Gender_Male                      297051 non-null  bool          \n",
      " 18  Income_Low                       297051 non-null  bool          \n",
      " 19  Income_Medium                    297051 non-null  bool          \n",
      " 20  Customer_Segment_Premium         297051 non-null  bool          \n",
      " 21  Customer_Segment_Regular         297051 non-null  bool          \n",
      " 22  Product_Brand_Apple              297051 non-null  bool          \n",
      " 23  Product_Brand_Bed Bath & Beyond  297051 non-null  bool          \n",
      " 24  Product_Brand_BlueStar           297051 non-null  bool          \n",
      " 25  Product_Brand_Coca-Cola          297051 non-null  bool          \n",
      " 26  Product_Brand_HarperCollins      297051 non-null  bool          \n",
      " 27  Product_Brand_Home Depot         297051 non-null  bool          \n",
      " 28  Product_Brand_IKEA               297051 non-null  bool          \n",
      " 29  Product_Brand_Mitsubhisi         297051 non-null  bool          \n",
      " 30  Product_Brand_Nestle             297051 non-null  bool          \n",
      " 31  Product_Brand_Nike               297051 non-null  bool          \n",
      " 32  Product_Brand_Penguin Books      297051 non-null  bool          \n",
      " 33  Product_Brand_Pepsi              297051 non-null  bool          \n",
      " 34  Product_Brand_Random House       297051 non-null  bool          \n",
      " 35  Product_Brand_Samsung            297051 non-null  bool          \n",
      " 36  Product_Brand_Sony               297051 non-null  bool          \n",
      " 37  Product_Brand_Whirepool          297051 non-null  bool          \n",
      " 38  Product_Brand_Zara               297051 non-null  bool          \n",
      " 39  Product_Category_Clothing        297051 non-null  bool          \n",
      " 40  Product_Category_Electronics     297051 non-null  bool          \n",
      " 41  Product_Category_Grocery         297051 non-null  bool          \n",
      " 42  Product_Category_Home Decor      297051 non-null  bool          \n",
      " 43  Shipping_Method_Same-Day         297051 non-null  bool          \n",
      " 44  Shipping_Method_Standard         297051 non-null  bool          \n",
      " 45  Payment_Method_Credit Card       297051 non-null  bool          \n",
      " 46  Payment_Method_Debit Card        297051 non-null  bool          \n",
      " 47  Payment_Method_PayPal            297051 non-null  bool          \n",
      " 48  Order_Status_Pending             297051 non-null  bool          \n",
      " 49  Order_Status_Processing          297051 non-null  bool          \n",
      " 50  Order_Status_Shipped             297051 non-null  bool          \n",
      " 51  Sales_Lag_1                      297050 non-null  float64       \n",
      " 52  Sales_Lag_7                      297044 non-null  float64       \n",
      " 53  Sales_MA_7                       297045 non-null  float64       \n",
      " 54  Sales_MA_30                      297022 non-null  float64       \n",
      "dtypes: bool(34), datetime64[ns](1), float64(9), int32(10), int64(1)\n",
      "memory usage: 45.9 MB\n"
     ]
    }
   ],
   "source": [
    "data.info()"
   ]
  },
  {
   "cell_type": "code",
   "execution_count": 147,
   "id": "0a569199-b55c-4a05-b087-e90cb6bab202",
   "metadata": {},
   "outputs": [
    {
     "data": {
      "image/png": "[encoded data removed]",
      "text/plain": [
       "<Figure size 640x480 with 4 Axes>"
      ]
     },
     "metadata": {},
     "output_type": "display_data"
    }
   ],
   "source": [
    "# check Decompose Time series(Trend,Seasonality,Residuals)\n",
    "from statsmodels.tsa.seasonal import seasonal_decompose\n",
    "decomp=seasonal_decompose(data_resampled['Total_Amount'],model='additive',period=7)\n",
    "decomp.plot()\n",
    "plt.show()"
   ]
  },
  {
   "cell_type": "markdown",
   "id": "f4624a1e-1e80-42cf-a7f9-21ca23d1acb3",
   "metadata": {},
   "source": [
    "Data has a clear trend and seasonality.The seasonal pattern suggests that your data follows a repeating cycle every 7 observations.\n",
    "The residuals appear mostly random,meaning the decomposition has effectively extracted the patterns."
   ]
  },
  {
   "cell_type": "markdown",
   "id": "b19d542c-9024-4939-a59a-2016a011a5be",
   "metadata": {},
   "source": [
    "#### Model Selection and Training"
   ]
  },
  {
   "cell_type": "markdown",
   "id": "7c4ab380-b433-4ae2-9745-94b0749002f6",
   "metadata": {},
   "source": [
    "There is a memory error while using the ARIMA model from Statsmodels.The error occurs due to insufficient RAM when  allocating large array.\n",
    "So i used Smaller subset of my Dataset."
   ]
  },
  {
   "cell_type": "code",
   "execution_count": 121,
   "id": "b143e3b0-309c-48eb-a6f8-b124d9485165",
   "metadata": {},
   "outputs": [],
   "source": [
    "from sklearn.model_selection import train_test_split\n",
    "data=data[['Total_Amount']]\n",
    "df_sample=data.sample(frac=0.5,random_state=42)# use 50% data\n",
    "df_sample.dropna(inplace=True)\n"
   ]
  },
  {
   "cell_type": "code",
   "execution_count": 123,
   "id": "442e6149-6ac0-46fb-903c-f310f1a18b91",
   "metadata": {},
   "outputs": [],
   "source": [
    "train_size=int(len(df_sample)*0.8)\n",
    "train,test=df_sample[:train_size],df_sample[train_size:]"
   ]
  },
  {
   "cell_type": "code",
   "execution_count": 125,
   "id": "0cdf65a4-3232-4d27-a970-244df94f7be6",
   "metadata": {},
   "outputs": [
    {
     "data": {
      "text/plain": [
       "Total_Amount    0\n",
       "dtype: int64"
      ]
     },
     "execution_count": 125,
     "metadata": {},
     "output_type": "execute_result"
    }
   ],
   "source": [
    "df_sample.isnull().sum()"
   ]
  },
  {
   "cell_type": "code",
   "execution_count": 127,
   "id": "90efbb88-2d99-4f70-84e2-c955ecdf20cb",
   "metadata": {},
   "outputs": [
    {
     "data": {
      "text/plain": [
       "Total_Amount    0\n",
       "dtype: int64"
      ]
     },
     "execution_count": 127,
     "metadata": {},
     "output_type": "execute_result"
    }
   ],
   "source": [
    "train.isnull().sum()"
   ]
  },
  {
   "cell_type": "markdown",
   "id": "ced8c4ea-29d1-4ee6-90f6-33009ce0393c",
   "metadata": {},
   "source": [
    "### ARIMA(Auto-Regressive Integrated Moving Average)"
   ]
  },
  {
   "cell_type": "markdown",
   "id": "ce64ae69-6f08-40c4-b22b-66ae3ed8ff0f",
   "metadata": {},
   "source": [
    "Use pmdarima for automatic order Selection"
   ]
  },
  {
   "cell_type": "code",
   "execution_count": 131,
   "id": "2e12d0bd-cad0-461d-b100-b700834a55e4",
   "metadata": {},
   "outputs": [
    {
     "ename": "KeyboardInterrupt",
     "evalue": "",
     "output_type": "error",
     "traceback": [
      "\u001b[1;31m---------------------------------------------------------------------------\u001b[0m",
      "\u001b[1;31mKeyboardInterrupt\u001b[0m                         Traceback (most recent call last)",
      "Cell \u001b[1;32mIn[131], line 2\u001b[0m\n\u001b[0;32m      1\u001b[0m \u001b[38;5;28;01mfrom\u001b[39;00m \u001b[38;5;21;01mpmdarima\u001b[39;00m \u001b[38;5;28;01mimport\u001b[39;00m auto_arima\n\u001b[1;32m----> 2\u001b[0m arima_model\u001b[38;5;241m=\u001b[39mauto_arima(train,seasonal\u001b[38;5;241m=\u001b[39m\u001b[38;5;28;01mTrue\u001b[39;00m,m\u001b[38;5;241m=\u001b[39m\u001b[38;5;241m7\u001b[39m,\n\u001b[0;32m      3\u001b[0m                        max_p\u001b[38;5;241m=\u001b[39m\u001b[38;5;241m3\u001b[39m,max_q\u001b[38;5;241m=\u001b[39m\u001b[38;5;241m3\u001b[39m,\n\u001b[0;32m      4\u001b[0m                        max_P\u001b[38;5;241m=\u001b[39m\u001b[38;5;241m2\u001b[39m,maq_Q\u001b[38;5;241m=\u001b[39m\u001b[38;5;241m2\u001b[39m,\n\u001b[0;32m      5\u001b[0m                        max_d\u001b[38;5;241m=\u001b[39m\u001b[38;5;241m1\u001b[39m,max_D\u001b[38;5;241m=\u001b[39m\u001b[38;5;241m1\u001b[39m,stepwise\u001b[38;5;241m=\u001b[39m\u001b[38;5;28;01mTrue\u001b[39;00m,suppress_warnings\u001b[38;5;241m=\u001b[39m\u001b[38;5;28;01mTrue\u001b[39;00m)\n",
      "File \u001b[1;32m~\\anaconda3\\Lib\\site-packages\\pmdarima\\arima\\auto.py:701\u001b[0m, in \u001b[0;36mauto_arima\u001b[1;34m(y, X, start_p, d, start_q, max_p, max_d, max_q, start_P, D, start_Q, max_P, max_D, max_Q, max_order, m, seasonal, stationary, information_criterion, alpha, test, seasonal_test, stepwise, n_jobs, start_params, trend, method, maxiter, offset_test_args, seasonal_test_args, suppress_warnings, error_action, trace, random, random_state, n_fits, return_valid_fits, out_of_sample_size, scoring, scoring_args, with_intercept, sarimax_kwargs, **fit_args)\u001b[0m\n\u001b[0;32m    669\u001b[0m     \u001b[38;5;66;03m# init the stepwise model wrapper\u001b[39;00m\n\u001b[0;32m    670\u001b[0m     search \u001b[38;5;241m=\u001b[39m solvers\u001b[38;5;241m.\u001b[39m_StepwiseFitWrapper(\n\u001b[0;32m    671\u001b[0m         y,\n\u001b[0;32m    672\u001b[0m         X\u001b[38;5;241m=\u001b[39mX,\n\u001b[1;32m   (...)\u001b[0m\n\u001b[0;32m    698\u001b[0m         \u001b[38;5;241m*\u001b[39m\u001b[38;5;241m*\u001b[39msarimax_kwargs,\n\u001b[0;32m    699\u001b[0m     )\n\u001b[1;32m--> 701\u001b[0m sorted_res \u001b[38;5;241m=\u001b[39m search\u001b[38;5;241m.\u001b[39msolve()\n\u001b[0;32m    702\u001b[0m \u001b[38;5;28;01mreturn\u001b[39;00m _return_wrapper(sorted_res, return_valid_fits, start, trace)\n",
      "File \u001b[1;32m~\\anaconda3\\Lib\\site-packages\\pmdarima\\arima\\_auto_solvers.py:288\u001b[0m, in \u001b[0;36m_StepwiseFitWrapper.solve\u001b[1;34m(self)\u001b[0m\n\u001b[0;32m    284\u001b[0m     \u001b[38;5;28mprint\u001b[39m(\u001b[38;5;124m\"\u001b[39m\u001b[38;5;124mPerforming stepwise search to minimize \u001b[39m\u001b[38;5;132;01m%s\u001b[39;00m\u001b[38;5;124m\"\u001b[39m\n\u001b[0;32m    285\u001b[0m           \u001b[38;5;241m%\u001b[39m \u001b[38;5;28mself\u001b[39m\u001b[38;5;241m.\u001b[39minformation_criterion)\n\u001b[0;32m    287\u001b[0m \u001b[38;5;66;03m# fit a baseline p, d, q model\u001b[39;00m\n\u001b[1;32m--> 288\u001b[0m \u001b[38;5;28mself\u001b[39m\u001b[38;5;241m.\u001b[39m_do_fit((p, d, q), (P, D, Q, m))\n\u001b[0;32m    290\u001b[0m \u001b[38;5;66;03m# null model with possible constant\u001b[39;00m\n\u001b[0;32m    291\u001b[0m \u001b[38;5;28;01mif\u001b[39;00m \u001b[38;5;28mself\u001b[39m\u001b[38;5;241m.\u001b[39m_do_fit((\u001b[38;5;241m0\u001b[39m, d, \u001b[38;5;241m0\u001b[39m), (\u001b[38;5;241m0\u001b[39m, D, \u001b[38;5;241m0\u001b[39m, m)):\n",
      "File \u001b[1;32m~\\anaconda3\\Lib\\site-packages\\pmdarima\\arima\\_auto_solvers.py:235\u001b[0m, in \u001b[0;36m_StepwiseFitWrapper._do_fit\u001b[1;34m(self, order, seasonal_order, constant)\u001b[0m\n\u001b[0;32m    230\u001b[0m \u001b[38;5;28;01mif\u001b[39;00m (order, seasonal_order, constant) \u001b[38;5;129;01mnot\u001b[39;00m \u001b[38;5;129;01min\u001b[39;00m \u001b[38;5;28mself\u001b[39m\u001b[38;5;241m.\u001b[39mresults_dict:\n\u001b[0;32m    231\u001b[0m \n\u001b[0;32m    232\u001b[0m     \u001b[38;5;66;03m# increment the number of fits\u001b[39;00m\n\u001b[0;32m    233\u001b[0m     \u001b[38;5;28mself\u001b[39m\u001b[38;5;241m.\u001b[39mk \u001b[38;5;241m+\u001b[39m\u001b[38;5;241m=\u001b[39m \u001b[38;5;241m1\u001b[39m\n\u001b[1;32m--> 235\u001b[0m     fit, fit_time, new_ic \u001b[38;5;241m=\u001b[39m \u001b[38;5;28mself\u001b[39m\u001b[38;5;241m.\u001b[39m_fit_arima(\n\u001b[0;32m    236\u001b[0m         order\u001b[38;5;241m=\u001b[39morder,\n\u001b[0;32m    237\u001b[0m         seasonal_order\u001b[38;5;241m=\u001b[39mseasonal_order,\n\u001b[0;32m    238\u001b[0m         with_intercept\u001b[38;5;241m=\u001b[39mconstant)\n\u001b[0;32m    240\u001b[0m     \u001b[38;5;66;03m# use the orders as a key to be hashed for\u001b[39;00m\n\u001b[0;32m    241\u001b[0m     \u001b[38;5;66;03m# the dictionary (pointing to fit)\u001b[39;00m\n\u001b[0;32m    242\u001b[0m     \u001b[38;5;28mself\u001b[39m\u001b[38;5;241m.\u001b[39mresults_dict[(order, seasonal_order, constant)] \u001b[38;5;241m=\u001b[39m fit\n",
      "File \u001b[1;32m~\\anaconda3\\Lib\\site-packages\\pmdarima\\arima\\_auto_solvers.py:508\u001b[0m, in \u001b[0;36m_fit_candidate_model\u001b[1;34m(y, X, order, seasonal_order, start_params, trend, method, maxiter, fit_params, suppress_warnings, trace, error_action, out_of_sample_size, scoring, scoring_args, with_intercept, information_criterion, **kwargs)\u001b[0m\n\u001b[0;32m    500\u001b[0m fit \u001b[38;5;241m=\u001b[39m ARIMA(order\u001b[38;5;241m=\u001b[39morder, seasonal_order\u001b[38;5;241m=\u001b[39mseasonal_order,\n\u001b[0;32m    501\u001b[0m             start_params\u001b[38;5;241m=\u001b[39mstart_params, trend\u001b[38;5;241m=\u001b[39mtrend, method\u001b[38;5;241m=\u001b[39mmethod,\n\u001b[0;32m    502\u001b[0m             maxiter\u001b[38;5;241m=\u001b[39mmaxiter, suppress_warnings\u001b[38;5;241m=\u001b[39msuppress_warnings,\n\u001b[0;32m    503\u001b[0m             out_of_sample_size\u001b[38;5;241m=\u001b[39mout_of_sample_size, scoring\u001b[38;5;241m=\u001b[39mscoring,\n\u001b[0;32m    504\u001b[0m             scoring_args\u001b[38;5;241m=\u001b[39mscoring_args,\n\u001b[0;32m    505\u001b[0m             with_intercept\u001b[38;5;241m=\u001b[39mwith_intercept, \u001b[38;5;241m*\u001b[39m\u001b[38;5;241m*\u001b[39mkwargs)\n\u001b[0;32m    507\u001b[0m \u001b[38;5;28;01mtry\u001b[39;00m:\n\u001b[1;32m--> 508\u001b[0m     fit\u001b[38;5;241m.\u001b[39mfit(y, X\u001b[38;5;241m=\u001b[39mX, \u001b[38;5;241m*\u001b[39m\u001b[38;5;241m*\u001b[39mfit_params)\n\u001b[0;32m    510\u001b[0m \u001b[38;5;66;03m# for non-stationarity errors or singular matrices, return None\u001b[39;00m\n\u001b[0;32m    511\u001b[0m \u001b[38;5;28;01mexcept\u001b[39;00m (LinAlgError, \u001b[38;5;167;01mValueError\u001b[39;00m) \u001b[38;5;28;01mas\u001b[39;00m v:\n",
      "File \u001b[1;32m~\\anaconda3\\Lib\\site-packages\\pmdarima\\arima\\arima.py:603\u001b[0m, in \u001b[0;36mARIMA.fit\u001b[1;34m(self, y, X, **fit_args)\u001b[0m\n\u001b[0;32m    600\u001b[0m         X \u001b[38;5;241m=\u001b[39m safe_indexing(X, \u001b[38;5;28mslice\u001b[39m(\u001b[38;5;241m0\u001b[39m, n_exog \u001b[38;5;241m-\u001b[39m cv))\n\u001b[0;32m    602\u001b[0m \u001b[38;5;66;03m# Internal call\u001b[39;00m\n\u001b[1;32m--> 603\u001b[0m \u001b[38;5;28mself\u001b[39m\u001b[38;5;241m.\u001b[39m_fit(y, X, \u001b[38;5;241m*\u001b[39m\u001b[38;5;241m*\u001b[39mfit_args)\n\u001b[0;32m    605\u001b[0m \u001b[38;5;66;03m# now make a forecast if we're validating to compute the\u001b[39;00m\n\u001b[0;32m    606\u001b[0m \u001b[38;5;66;03m# out-of-sample score\u001b[39;00m\n\u001b[0;32m    607\u001b[0m \u001b[38;5;28;01mif\u001b[39;00m cv_samples \u001b[38;5;129;01mis\u001b[39;00m \u001b[38;5;129;01mnot\u001b[39;00m \u001b[38;5;28;01mNone\u001b[39;00m:\n\u001b[0;32m    608\u001b[0m     \u001b[38;5;66;03m# get the predictions (use self.predict, which calls forecast\u001b[39;00m\n\u001b[0;32m    609\u001b[0m     \u001b[38;5;66;03m# from statsmodels internally)\u001b[39;00m\n",
      "File \u001b[1;32m~\\anaconda3\\Lib\\site-packages\\pmdarima\\arima\\arima.py:524\u001b[0m, in \u001b[0;36mARIMA._fit\u001b[1;34m(self, y, X, **fit_args)\u001b[0m\n\u001b[0;32m    522\u001b[0m     \u001b[38;5;28;01mwith\u001b[39;00m warnings\u001b[38;5;241m.\u001b[39mcatch_warnings(record\u001b[38;5;241m=\u001b[39m\u001b[38;5;28;01mFalse\u001b[39;00m):\n\u001b[0;32m    523\u001b[0m         warnings\u001b[38;5;241m.\u001b[39msimplefilter(\u001b[38;5;124m'\u001b[39m\u001b[38;5;124mignore\u001b[39m\u001b[38;5;124m'\u001b[39m)\n\u001b[1;32m--> 524\u001b[0m         fit, \u001b[38;5;28mself\u001b[39m\u001b[38;5;241m.\u001b[39marima_res_ \u001b[38;5;241m=\u001b[39m _fit_wrapper()\n\u001b[0;32m    525\u001b[0m \u001b[38;5;28;01melse\u001b[39;00m:\n\u001b[0;32m    526\u001b[0m     fit, \u001b[38;5;28mself\u001b[39m\u001b[38;5;241m.\u001b[39marima_res_ \u001b[38;5;241m=\u001b[39m _fit_wrapper()\n",
      "File \u001b[1;32m~\\anaconda3\\Lib\\site-packages\\pmdarima\\arima\\arima.py:510\u001b[0m, in \u001b[0;36mARIMA._fit.<locals>._fit_wrapper\u001b[1;34m()\u001b[0m\n\u001b[0;32m    507\u001b[0m _maxiter \u001b[38;5;241m=\u001b[39m fit_args\u001b[38;5;241m.\u001b[39mpop(\u001b[38;5;124m\"\u001b[39m\u001b[38;5;124mmaxiter\u001b[39m\u001b[38;5;124m\"\u001b[39m, _maxiter)\n\u001b[0;32m    509\u001b[0m disp \u001b[38;5;241m=\u001b[39m fit_args\u001b[38;5;241m.\u001b[39mpop(\u001b[38;5;124m\"\u001b[39m\u001b[38;5;124mdisp\u001b[39m\u001b[38;5;124m\"\u001b[39m, \u001b[38;5;241m0\u001b[39m)\n\u001b[1;32m--> 510\u001b[0m fitted \u001b[38;5;241m=\u001b[39m arima\u001b[38;5;241m.\u001b[39mfit(\n\u001b[0;32m    511\u001b[0m     start_params\u001b[38;5;241m=\u001b[39mstart_params,\n\u001b[0;32m    512\u001b[0m     method\u001b[38;5;241m=\u001b[39mmethod,\n\u001b[0;32m    513\u001b[0m     maxiter\u001b[38;5;241m=\u001b[39m_maxiter,\n\u001b[0;32m    514\u001b[0m     disp\u001b[38;5;241m=\u001b[39mdisp,\n\u001b[0;32m    515\u001b[0m     \u001b[38;5;241m*\u001b[39m\u001b[38;5;241m*\u001b[39mfit_args,\n\u001b[0;32m    516\u001b[0m )\n\u001b[0;32m    518\u001b[0m \u001b[38;5;28;01mreturn\u001b[39;00m arima, fitted\n",
      "File \u001b[1;32m~\\anaconda3\\Lib\\site-packages\\statsmodels\\tsa\\statespace\\mlemodel.py:703\u001b[0m, in \u001b[0;36mMLEModel.fit\u001b[1;34m(self, start_params, transformed, includes_fixed, cov_type, cov_kwds, method, maxiter, full_output, disp, callback, return_params, optim_score, optim_complex_step, optim_hessian, flags, low_memory, **kwargs)\u001b[0m\n\u001b[0;32m    701\u001b[0m         flags[\u001b[38;5;124m'\u001b[39m\u001b[38;5;124mhessian_method\u001b[39m\u001b[38;5;124m'\u001b[39m] \u001b[38;5;241m=\u001b[39m optim_hessian\n\u001b[0;32m    702\u001b[0m     fargs \u001b[38;5;241m=\u001b[39m (flags,)\n\u001b[1;32m--> 703\u001b[0m     mlefit \u001b[38;5;241m=\u001b[39m \u001b[38;5;28msuper\u001b[39m()\u001b[38;5;241m.\u001b[39mfit(start_params, method\u001b[38;5;241m=\u001b[39mmethod,\n\u001b[0;32m    704\u001b[0m                          fargs\u001b[38;5;241m=\u001b[39mfargs,\n\u001b[0;32m    705\u001b[0m                          maxiter\u001b[38;5;241m=\u001b[39mmaxiter,\n\u001b[0;32m    706\u001b[0m                          full_output\u001b[38;5;241m=\u001b[39mfull_output,\n\u001b[0;32m    707\u001b[0m                          disp\u001b[38;5;241m=\u001b[39mdisp, callback\u001b[38;5;241m=\u001b[39mcallback,\n\u001b[0;32m    708\u001b[0m                          skip_hessian\u001b[38;5;241m=\u001b[39m\u001b[38;5;28;01mTrue\u001b[39;00m, \u001b[38;5;241m*\u001b[39m\u001b[38;5;241m*\u001b[39mkwargs)\n\u001b[0;32m    710\u001b[0m \u001b[38;5;66;03m# Just return the fitted parameters if requested\u001b[39;00m\n\u001b[0;32m    711\u001b[0m \u001b[38;5;28;01mif\u001b[39;00m return_params:\n",
      "File \u001b[1;32m~\\anaconda3\\Lib\\site-packages\\statsmodels\\base\\model.py:566\u001b[0m, in \u001b[0;36mLikelihoodModel.fit\u001b[1;34m(self, start_params, method, maxiter, full_output, disp, fargs, callback, retall, skip_hessian, **kwargs)\u001b[0m\n\u001b[0;32m    563\u001b[0m     \u001b[38;5;28;01mdel\u001b[39;00m kwargs[\u001b[38;5;124m\"\u001b[39m\u001b[38;5;124muse_t\u001b[39m\u001b[38;5;124m\"\u001b[39m]\n\u001b[0;32m    565\u001b[0m optimizer \u001b[38;5;241m=\u001b[39m Optimizer()\n\u001b[1;32m--> 566\u001b[0m xopt, retvals, optim_settings \u001b[38;5;241m=\u001b[39m optimizer\u001b[38;5;241m.\u001b[39m_fit(f, score, start_params,\n\u001b[0;32m    567\u001b[0m                                                fargs, kwargs,\n\u001b[0;32m    568\u001b[0m                                                hessian\u001b[38;5;241m=\u001b[39mhess,\n\u001b[0;32m    569\u001b[0m                                                method\u001b[38;5;241m=\u001b[39mmethod,\n\u001b[0;32m    570\u001b[0m                                                disp\u001b[38;5;241m=\u001b[39mdisp,\n\u001b[0;32m    571\u001b[0m                                                maxiter\u001b[38;5;241m=\u001b[39mmaxiter,\n\u001b[0;32m    572\u001b[0m                                                callback\u001b[38;5;241m=\u001b[39mcallback,\n\u001b[0;32m    573\u001b[0m                                                retall\u001b[38;5;241m=\u001b[39mretall,\n\u001b[0;32m    574\u001b[0m                                                full_output\u001b[38;5;241m=\u001b[39mfull_output)\n\u001b[0;32m    575\u001b[0m \u001b[38;5;66;03m# Restore cov_type, cov_kwds and use_t\u001b[39;00m\n\u001b[0;32m    576\u001b[0m optim_settings\u001b[38;5;241m.\u001b[39mupdate(kwds)\n",
      "File \u001b[1;32m~\\anaconda3\\Lib\\site-packages\\statsmodels\\base\\optimizer.py:243\u001b[0m, in \u001b[0;36mOptimizer._fit\u001b[1;34m(self, objective, gradient, start_params, fargs, kwargs, hessian, method, maxiter, full_output, disp, callback, retall)\u001b[0m\n\u001b[0;32m    240\u001b[0m     fit_funcs\u001b[38;5;241m.\u001b[39mupdate(extra_fit_funcs)\n\u001b[0;32m    242\u001b[0m func \u001b[38;5;241m=\u001b[39m fit_funcs[method]\n\u001b[1;32m--> 243\u001b[0m xopt, retvals \u001b[38;5;241m=\u001b[39m func(objective, gradient, start_params, fargs, kwargs,\n\u001b[0;32m    244\u001b[0m                      disp\u001b[38;5;241m=\u001b[39mdisp, maxiter\u001b[38;5;241m=\u001b[39mmaxiter, callback\u001b[38;5;241m=\u001b[39mcallback,\n\u001b[0;32m    245\u001b[0m                      retall\u001b[38;5;241m=\u001b[39mretall, full_output\u001b[38;5;241m=\u001b[39mfull_output,\n\u001b[0;32m    246\u001b[0m                      hess\u001b[38;5;241m=\u001b[39mhessian)\n\u001b[0;32m    248\u001b[0m optim_settings \u001b[38;5;241m=\u001b[39m {\u001b[38;5;124m'\u001b[39m\u001b[38;5;124moptimizer\u001b[39m\u001b[38;5;124m'\u001b[39m: method, \u001b[38;5;124m'\u001b[39m\u001b[38;5;124mstart_params\u001b[39m\u001b[38;5;124m'\u001b[39m: start_params,\n\u001b[0;32m    249\u001b[0m                   \u001b[38;5;124m'\u001b[39m\u001b[38;5;124mmaxiter\u001b[39m\u001b[38;5;124m'\u001b[39m: maxiter, \u001b[38;5;124m'\u001b[39m\u001b[38;5;124mfull_output\u001b[39m\u001b[38;5;124m'\u001b[39m: full_output,\n\u001b[0;32m    250\u001b[0m                   \u001b[38;5;124m'\u001b[39m\u001b[38;5;124mdisp\u001b[39m\u001b[38;5;124m'\u001b[39m: disp, \u001b[38;5;124m'\u001b[39m\u001b[38;5;124mfargs\u001b[39m\u001b[38;5;124m'\u001b[39m: fargs, \u001b[38;5;124m'\u001b[39m\u001b[38;5;124mcallback\u001b[39m\u001b[38;5;124m'\u001b[39m: callback,\n\u001b[0;32m    251\u001b[0m                   \u001b[38;5;124m'\u001b[39m\u001b[38;5;124mretall\u001b[39m\u001b[38;5;124m'\u001b[39m: retall, \u001b[38;5;124m\"\u001b[39m\u001b[38;5;124mextra_fit_funcs\u001b[39m\u001b[38;5;124m\"\u001b[39m: extra_fit_funcs}\n\u001b[0;32m    252\u001b[0m optim_settings\u001b[38;5;241m.\u001b[39mupdate(kwargs)\n",
      "File \u001b[1;32m~\\anaconda3\\Lib\\site-packages\\statsmodels\\base\\optimizer.py:660\u001b[0m, in \u001b[0;36m_fit_lbfgs\u001b[1;34m(f, score, start_params, fargs, kwargs, disp, maxiter, callback, retall, full_output, hess)\u001b[0m\n\u001b[0;32m    657\u001b[0m \u001b[38;5;28;01melif\u001b[39;00m approx_grad:\n\u001b[0;32m    658\u001b[0m     func \u001b[38;5;241m=\u001b[39m f\n\u001b[1;32m--> 660\u001b[0m retvals \u001b[38;5;241m=\u001b[39m optimize\u001b[38;5;241m.\u001b[39mfmin_l_bfgs_b(func, start_params, maxiter\u001b[38;5;241m=\u001b[39mmaxiter,\n\u001b[0;32m    661\u001b[0m                                  callback\u001b[38;5;241m=\u001b[39mcallback, args\u001b[38;5;241m=\u001b[39mfargs,\n\u001b[0;32m    662\u001b[0m                                  bounds\u001b[38;5;241m=\u001b[39mbounds, disp\u001b[38;5;241m=\u001b[39mdisp,\n\u001b[0;32m    663\u001b[0m                                  \u001b[38;5;241m*\u001b[39m\u001b[38;5;241m*\u001b[39mextra_kwargs)\n\u001b[0;32m    665\u001b[0m \u001b[38;5;28;01mif\u001b[39;00m full_output:\n\u001b[0;32m    666\u001b[0m     xopt, fopt, d \u001b[38;5;241m=\u001b[39m retvals\n",
      "File \u001b[1;32m~\\anaconda3\\Lib\\site-packages\\scipy\\optimize\\_lbfgsb_py.py:237\u001b[0m, in \u001b[0;36mfmin_l_bfgs_b\u001b[1;34m(func, x0, fprime, args, approx_grad, bounds, m, factr, pgtol, epsilon, iprint, maxfun, maxiter, disp, callback, maxls)\u001b[0m\n\u001b[0;32m    225\u001b[0m callback \u001b[38;5;241m=\u001b[39m _wrap_callback(callback)\n\u001b[0;32m    226\u001b[0m opts \u001b[38;5;241m=\u001b[39m {\u001b[38;5;124m'\u001b[39m\u001b[38;5;124mdisp\u001b[39m\u001b[38;5;124m'\u001b[39m: disp,\n\u001b[0;32m    227\u001b[0m         \u001b[38;5;124m'\u001b[39m\u001b[38;5;124miprint\u001b[39m\u001b[38;5;124m'\u001b[39m: iprint,\n\u001b[0;32m    228\u001b[0m         \u001b[38;5;124m'\u001b[39m\u001b[38;5;124mmaxcor\u001b[39m\u001b[38;5;124m'\u001b[39m: m,\n\u001b[1;32m   (...)\u001b[0m\n\u001b[0;32m    234\u001b[0m         \u001b[38;5;124m'\u001b[39m\u001b[38;5;124mcallback\u001b[39m\u001b[38;5;124m'\u001b[39m: callback,\n\u001b[0;32m    235\u001b[0m         \u001b[38;5;124m'\u001b[39m\u001b[38;5;124mmaxls\u001b[39m\u001b[38;5;124m'\u001b[39m: maxls}\n\u001b[1;32m--> 237\u001b[0m res \u001b[38;5;241m=\u001b[39m _minimize_lbfgsb(fun, x0, args\u001b[38;5;241m=\u001b[39margs, jac\u001b[38;5;241m=\u001b[39mjac, bounds\u001b[38;5;241m=\u001b[39mbounds,\n\u001b[0;32m    238\u001b[0m                        \u001b[38;5;241m*\u001b[39m\u001b[38;5;241m*\u001b[39mopts)\n\u001b[0;32m    239\u001b[0m d \u001b[38;5;241m=\u001b[39m {\u001b[38;5;124m'\u001b[39m\u001b[38;5;124mgrad\u001b[39m\u001b[38;5;124m'\u001b[39m: res[\u001b[38;5;124m'\u001b[39m\u001b[38;5;124mjac\u001b[39m\u001b[38;5;124m'\u001b[39m],\n\u001b[0;32m    240\u001b[0m      \u001b[38;5;124m'\u001b[39m\u001b[38;5;124mtask\u001b[39m\u001b[38;5;124m'\u001b[39m: res[\u001b[38;5;124m'\u001b[39m\u001b[38;5;124mmessage\u001b[39m\u001b[38;5;124m'\u001b[39m],\n\u001b[0;32m    241\u001b[0m      \u001b[38;5;124m'\u001b[39m\u001b[38;5;124mfuncalls\u001b[39m\u001b[38;5;124m'\u001b[39m: res[\u001b[38;5;124m'\u001b[39m\u001b[38;5;124mnfev\u001b[39m\u001b[38;5;124m'\u001b[39m],\n\u001b[0;32m    242\u001b[0m      \u001b[38;5;124m'\u001b[39m\u001b[38;5;124mnit\u001b[39m\u001b[38;5;124m'\u001b[39m: res[\u001b[38;5;124m'\u001b[39m\u001b[38;5;124mnit\u001b[39m\u001b[38;5;124m'\u001b[39m],\n\u001b[0;32m    243\u001b[0m      \u001b[38;5;124m'\u001b[39m\u001b[38;5;124mwarnflag\u001b[39m\u001b[38;5;124m'\u001b[39m: res[\u001b[38;5;124m'\u001b[39m\u001b[38;5;124mstatus\u001b[39m\u001b[38;5;124m'\u001b[39m]}\n\u001b[0;32m    244\u001b[0m f \u001b[38;5;241m=\u001b[39m res[\u001b[38;5;124m'\u001b[39m\u001b[38;5;124mfun\u001b[39m\u001b[38;5;124m'\u001b[39m]\n",
      "File \u001b[1;32m~\\anaconda3\\Lib\\site-packages\\scipy\\optimize\\_lbfgsb_py.py:407\u001b[0m, in \u001b[0;36m_minimize_lbfgsb\u001b[1;34m(fun, x0, args, jac, bounds, disp, maxcor, ftol, gtol, eps, maxfun, maxiter, iprint, callback, maxls, finite_diff_rel_step, **unknown_options)\u001b[0m\n\u001b[0;32m    401\u001b[0m task_str \u001b[38;5;241m=\u001b[39m task\u001b[38;5;241m.\u001b[39mtobytes()\n\u001b[0;32m    402\u001b[0m \u001b[38;5;28;01mif\u001b[39;00m task_str\u001b[38;5;241m.\u001b[39mstartswith(\u001b[38;5;124mb\u001b[39m\u001b[38;5;124m'\u001b[39m\u001b[38;5;124mFG\u001b[39m\u001b[38;5;124m'\u001b[39m):\n\u001b[0;32m    403\u001b[0m     \u001b[38;5;66;03m# The minimization routine wants f and g at the current x.\u001b[39;00m\n\u001b[0;32m    404\u001b[0m     \u001b[38;5;66;03m# Note that interruptions due to maxfun are postponed\u001b[39;00m\n\u001b[0;32m    405\u001b[0m     \u001b[38;5;66;03m# until the completion of the current minimization iteration.\u001b[39;00m\n\u001b[0;32m    406\u001b[0m     \u001b[38;5;66;03m# Overwrite f and g:\u001b[39;00m\n\u001b[1;32m--> 407\u001b[0m     f, g \u001b[38;5;241m=\u001b[39m func_and_grad(x)\n\u001b[0;32m    408\u001b[0m \u001b[38;5;28;01melif\u001b[39;00m task_str\u001b[38;5;241m.\u001b[39mstartswith(\u001b[38;5;124mb\u001b[39m\u001b[38;5;124m'\u001b[39m\u001b[38;5;124mNEW_X\u001b[39m\u001b[38;5;124m'\u001b[39m):\n\u001b[0;32m    409\u001b[0m     \u001b[38;5;66;03m# new iteration\u001b[39;00m\n\u001b[0;32m    410\u001b[0m     n_iterations \u001b[38;5;241m+\u001b[39m\u001b[38;5;241m=\u001b[39m \u001b[38;5;241m1\u001b[39m\n",
      "File \u001b[1;32m~\\anaconda3\\Lib\\site-packages\\scipy\\optimize\\_differentiable_functions.py:297\u001b[0m, in \u001b[0;36mScalarFunction.fun_and_grad\u001b[1;34m(self, x)\u001b[0m\n\u001b[0;32m    295\u001b[0m     \u001b[38;5;28mself\u001b[39m\u001b[38;5;241m.\u001b[39m_update_x_impl(x)\n\u001b[0;32m    296\u001b[0m \u001b[38;5;28mself\u001b[39m\u001b[38;5;241m.\u001b[39m_update_fun()\n\u001b[1;32m--> 297\u001b[0m \u001b[38;5;28mself\u001b[39m\u001b[38;5;241m.\u001b[39m_update_grad()\n\u001b[0;32m    298\u001b[0m \u001b[38;5;28;01mreturn\u001b[39;00m \u001b[38;5;28mself\u001b[39m\u001b[38;5;241m.\u001b[39mf, \u001b[38;5;28mself\u001b[39m\u001b[38;5;241m.\u001b[39mg\n",
      "File \u001b[1;32m~\\anaconda3\\Lib\\site-packages\\scipy\\optimize\\_differentiable_functions.py:267\u001b[0m, in \u001b[0;36mScalarFunction._update_grad\u001b[1;34m(self)\u001b[0m\n\u001b[0;32m    265\u001b[0m \u001b[38;5;28;01mdef\u001b[39;00m \u001b[38;5;21m_update_grad\u001b[39m(\u001b[38;5;28mself\u001b[39m):\n\u001b[0;32m    266\u001b[0m     \u001b[38;5;28;01mif\u001b[39;00m \u001b[38;5;129;01mnot\u001b[39;00m \u001b[38;5;28mself\u001b[39m\u001b[38;5;241m.\u001b[39mg_updated:\n\u001b[1;32m--> 267\u001b[0m         \u001b[38;5;28mself\u001b[39m\u001b[38;5;241m.\u001b[39m_update_grad_impl()\n\u001b[0;32m    268\u001b[0m         \u001b[38;5;28mself\u001b[39m\u001b[38;5;241m.\u001b[39mg_updated \u001b[38;5;241m=\u001b[39m \u001b[38;5;28;01mTrue\u001b[39;00m\n",
      "File \u001b[1;32m~\\anaconda3\\Lib\\site-packages\\scipy\\optimize\\_differentiable_functions.py:181\u001b[0m, in \u001b[0;36mScalarFunction.__init__.<locals>.update_grad\u001b[1;34m()\u001b[0m\n\u001b[0;32m    179\u001b[0m \u001b[38;5;28mself\u001b[39m\u001b[38;5;241m.\u001b[39m_update_fun()\n\u001b[0;32m    180\u001b[0m \u001b[38;5;28mself\u001b[39m\u001b[38;5;241m.\u001b[39mngev \u001b[38;5;241m+\u001b[39m\u001b[38;5;241m=\u001b[39m \u001b[38;5;241m1\u001b[39m\n\u001b[1;32m--> 181\u001b[0m \u001b[38;5;28mself\u001b[39m\u001b[38;5;241m.\u001b[39mg \u001b[38;5;241m=\u001b[39m approx_derivative(fun_wrapped, \u001b[38;5;28mself\u001b[39m\u001b[38;5;241m.\u001b[39mx, f0\u001b[38;5;241m=\u001b[39m\u001b[38;5;28mself\u001b[39m\u001b[38;5;241m.\u001b[39mf,\n\u001b[0;32m    182\u001b[0m                            \u001b[38;5;241m*\u001b[39m\u001b[38;5;241m*\u001b[39mfinite_diff_options)\n",
      "File \u001b[1;32m~\\anaconda3\\Lib\\site-packages\\scipy\\optimize\\_numdiff.py:519\u001b[0m, in \u001b[0;36mapprox_derivative\u001b[1;34m(fun, x0, method, rel_step, abs_step, f0, bounds, sparsity, as_linear_operator, args, kwargs)\u001b[0m\n\u001b[0;32m    516\u001b[0m     use_one_sided \u001b[38;5;241m=\u001b[39m \u001b[38;5;28;01mFalse\u001b[39;00m\n\u001b[0;32m    518\u001b[0m \u001b[38;5;28;01mif\u001b[39;00m sparsity \u001b[38;5;129;01mis\u001b[39;00m \u001b[38;5;28;01mNone\u001b[39;00m:\n\u001b[1;32m--> 519\u001b[0m     \u001b[38;5;28;01mreturn\u001b[39;00m _dense_difference(fun_wrapped, x0, f0, h,\n\u001b[0;32m    520\u001b[0m                              use_one_sided, method)\n\u001b[0;32m    521\u001b[0m \u001b[38;5;28;01melse\u001b[39;00m:\n\u001b[0;32m    522\u001b[0m     \u001b[38;5;28;01mif\u001b[39;00m \u001b[38;5;129;01mnot\u001b[39;00m issparse(sparsity) \u001b[38;5;129;01mand\u001b[39;00m \u001b[38;5;28mlen\u001b[39m(sparsity) \u001b[38;5;241m==\u001b[39m \u001b[38;5;241m2\u001b[39m:\n",
      "File \u001b[1;32m~\\anaconda3\\Lib\\site-packages\\scipy\\optimize\\_numdiff.py:590\u001b[0m, in \u001b[0;36m_dense_difference\u001b[1;34m(fun, x0, f0, h, use_one_sided, method)\u001b[0m\n\u001b[0;32m    588\u001b[0m     x \u001b[38;5;241m=\u001b[39m x0 \u001b[38;5;241m+\u001b[39m h_vecs[i]\n\u001b[0;32m    589\u001b[0m     dx \u001b[38;5;241m=\u001b[39m x[i] \u001b[38;5;241m-\u001b[39m x0[i]  \u001b[38;5;66;03m# Recompute dx as exactly representable number.\u001b[39;00m\n\u001b[1;32m--> 590\u001b[0m     df \u001b[38;5;241m=\u001b[39m fun(x) \u001b[38;5;241m-\u001b[39m f0\n\u001b[0;32m    591\u001b[0m \u001b[38;5;28;01melif\u001b[39;00m method \u001b[38;5;241m==\u001b[39m \u001b[38;5;124m'\u001b[39m\u001b[38;5;124m3-point\u001b[39m\u001b[38;5;124m'\u001b[39m \u001b[38;5;129;01mand\u001b[39;00m use_one_sided[i]:\n\u001b[0;32m    592\u001b[0m     x1 \u001b[38;5;241m=\u001b[39m x0 \u001b[38;5;241m+\u001b[39m h_vecs[i]\n",
      "File \u001b[1;32m~\\anaconda3\\Lib\\site-packages\\scipy\\optimize\\_numdiff.py:470\u001b[0m, in \u001b[0;36mapprox_derivative.<locals>.fun_wrapped\u001b[1;34m(x)\u001b[0m\n\u001b[0;32m    467\u001b[0m \u001b[38;5;28;01mif\u001b[39;00m xp\u001b[38;5;241m.\u001b[39misdtype(x\u001b[38;5;241m.\u001b[39mdtype, \u001b[38;5;124m\"\u001b[39m\u001b[38;5;124mreal floating\u001b[39m\u001b[38;5;124m\"\u001b[39m):\n\u001b[0;32m    468\u001b[0m     x \u001b[38;5;241m=\u001b[39m xp\u001b[38;5;241m.\u001b[39mastype(x, x0\u001b[38;5;241m.\u001b[39mdtype)\n\u001b[1;32m--> 470\u001b[0m f \u001b[38;5;241m=\u001b[39m np\u001b[38;5;241m.\u001b[39matleast_1d(fun(x, \u001b[38;5;241m*\u001b[39margs, \u001b[38;5;241m*\u001b[39m\u001b[38;5;241m*\u001b[39mkwargs))\n\u001b[0;32m    471\u001b[0m \u001b[38;5;28;01mif\u001b[39;00m f\u001b[38;5;241m.\u001b[39mndim \u001b[38;5;241m>\u001b[39m \u001b[38;5;241m1\u001b[39m:\n\u001b[0;32m    472\u001b[0m     \u001b[38;5;28;01mraise\u001b[39;00m \u001b[38;5;167;01mRuntimeError\u001b[39;00m(\u001b[38;5;124m\"\u001b[39m\u001b[38;5;124m`fun` return value has \u001b[39m\u001b[38;5;124m\"\u001b[39m\n\u001b[0;32m    473\u001b[0m                        \u001b[38;5;124m\"\u001b[39m\u001b[38;5;124mmore than 1 dimension.\u001b[39m\u001b[38;5;124m\"\u001b[39m)\n",
      "File \u001b[1;32m~\\anaconda3\\Lib\\site-packages\\scipy\\optimize\\_differentiable_functions.py:145\u001b[0m, in \u001b[0;36mScalarFunction.__init__.<locals>.fun_wrapped\u001b[1;34m(x)\u001b[0m\n\u001b[0;32m    141\u001b[0m \u001b[38;5;28mself\u001b[39m\u001b[38;5;241m.\u001b[39mnfev \u001b[38;5;241m+\u001b[39m\u001b[38;5;241m=\u001b[39m \u001b[38;5;241m1\u001b[39m\n\u001b[0;32m    142\u001b[0m \u001b[38;5;66;03m# Send a copy because the user may overwrite it.\u001b[39;00m\n\u001b[0;32m    143\u001b[0m \u001b[38;5;66;03m# Overwriting results in undefined behaviour because\u001b[39;00m\n\u001b[0;32m    144\u001b[0m \u001b[38;5;66;03m# fun(self.x) will change self.x, with the two no longer linked.\u001b[39;00m\n\u001b[1;32m--> 145\u001b[0m fx \u001b[38;5;241m=\u001b[39m fun(np\u001b[38;5;241m.\u001b[39mcopy(x), \u001b[38;5;241m*\u001b[39margs)\n\u001b[0;32m    146\u001b[0m \u001b[38;5;66;03m# Make sure the function returns a true scalar\u001b[39;00m\n\u001b[0;32m    147\u001b[0m \u001b[38;5;28;01mif\u001b[39;00m \u001b[38;5;129;01mnot\u001b[39;00m np\u001b[38;5;241m.\u001b[39misscalar(fx):\n",
      "File \u001b[1;32m~\\anaconda3\\Lib\\site-packages\\statsmodels\\base\\model.py:534\u001b[0m, in \u001b[0;36mLikelihoodModel.fit.<locals>.f\u001b[1;34m(params, *args)\u001b[0m\n\u001b[0;32m    533\u001b[0m \u001b[38;5;28;01mdef\u001b[39;00m \u001b[38;5;21mf\u001b[39m(params, \u001b[38;5;241m*\u001b[39margs):\n\u001b[1;32m--> 534\u001b[0m     \u001b[38;5;28;01mreturn\u001b[39;00m \u001b[38;5;241m-\u001b[39m\u001b[38;5;28mself\u001b[39m\u001b[38;5;241m.\u001b[39mloglike(params, \u001b[38;5;241m*\u001b[39margs) \u001b[38;5;241m/\u001b[39m nobs\n",
      "File \u001b[1;32m~\\anaconda3\\Lib\\site-packages\\statsmodels\\tsa\\statespace\\mlemodel.py:938\u001b[0m, in \u001b[0;36mMLEModel.loglike\u001b[1;34m(self, params, *args, **kwargs)\u001b[0m\n\u001b[0;32m    935\u001b[0m \u001b[38;5;28;01mif\u001b[39;00m complex_step:\n\u001b[0;32m    936\u001b[0m     kwargs[\u001b[38;5;124m'\u001b[39m\u001b[38;5;124minversion_method\u001b[39m\u001b[38;5;124m'\u001b[39m] \u001b[38;5;241m=\u001b[39m INVERT_UNIVARIATE \u001b[38;5;241m|\u001b[39m SOLVE_LU\n\u001b[1;32m--> 938\u001b[0m loglike \u001b[38;5;241m=\u001b[39m \u001b[38;5;28mself\u001b[39m\u001b[38;5;241m.\u001b[39mssm\u001b[38;5;241m.\u001b[39mloglike(complex_step\u001b[38;5;241m=\u001b[39mcomplex_step, \u001b[38;5;241m*\u001b[39m\u001b[38;5;241m*\u001b[39mkwargs)\n\u001b[0;32m    940\u001b[0m \u001b[38;5;66;03m# Koopman, Shephard, and Doornik recommend maximizing the average\u001b[39;00m\n\u001b[0;32m    941\u001b[0m \u001b[38;5;66;03m# likelihood to avoid scale issues, but the averaging is done\u001b[39;00m\n\u001b[0;32m    942\u001b[0m \u001b[38;5;66;03m# automatically in the base model `fit` method\u001b[39;00m\n\u001b[0;32m    943\u001b[0m \u001b[38;5;28;01mreturn\u001b[39;00m loglike\n",
      "File \u001b[1;32m~\\anaconda3\\Lib\\site-packages\\statsmodels\\tsa\\statespace\\kalman_filter.py:1001\u001b[0m, in \u001b[0;36mKalmanFilter.loglike\u001b[1;34m(self, **kwargs)\u001b[0m\n\u001b[0;32m    985\u001b[0m \u001b[38;5;250m\u001b[39m\u001b[38;5;124mr\u001b[39m\u001b[38;5;124;03m\"\"\"\u001b[39;00m\n\u001b[0;32m    986\u001b[0m \u001b[38;5;124;03mCalculate the loglikelihood associated with the statespace model.\u001b[39;00m\n\u001b[0;32m    987\u001b[0m \n\u001b[1;32m   (...)\u001b[0m\n\u001b[0;32m    997\u001b[0m \u001b[38;5;124;03m    The joint loglikelihood.\u001b[39;00m\n\u001b[0;32m    998\u001b[0m \u001b[38;5;124;03m\"\"\"\u001b[39;00m\n\u001b[0;32m    999\u001b[0m kwargs\u001b[38;5;241m.\u001b[39msetdefault(\u001b[38;5;124m'\u001b[39m\u001b[38;5;124mconserve_memory\u001b[39m\u001b[38;5;124m'\u001b[39m,\n\u001b[0;32m   1000\u001b[0m                   MEMORY_CONSERVE \u001b[38;5;241m^\u001b[39m MEMORY_NO_LIKELIHOOD)\n\u001b[1;32m-> 1001\u001b[0m kfilter \u001b[38;5;241m=\u001b[39m \u001b[38;5;28mself\u001b[39m\u001b[38;5;241m.\u001b[39m_filter(\u001b[38;5;241m*\u001b[39m\u001b[38;5;241m*\u001b[39mkwargs)\n\u001b[0;32m   1002\u001b[0m loglikelihood_burn \u001b[38;5;241m=\u001b[39m kwargs\u001b[38;5;241m.\u001b[39mget(\u001b[38;5;124m'\u001b[39m\u001b[38;5;124mloglikelihood_burn\u001b[39m\u001b[38;5;124m'\u001b[39m,\n\u001b[0;32m   1003\u001b[0m                                 \u001b[38;5;28mself\u001b[39m\u001b[38;5;241m.\u001b[39mloglikelihood_burn)\n\u001b[0;32m   1004\u001b[0m \u001b[38;5;28;01mif\u001b[39;00m \u001b[38;5;129;01mnot\u001b[39;00m (kwargs[\u001b[38;5;124m'\u001b[39m\u001b[38;5;124mconserve_memory\u001b[39m\u001b[38;5;124m'\u001b[39m] \u001b[38;5;241m&\u001b[39m MEMORY_NO_LIKELIHOOD):\n",
      "\u001b[1;31mKeyboardInterrupt\u001b[0m: "
     ]
    }
   ],
   "source": [
    "from pmdarima import auto_arima\n",
    "arima_model=auto_arima(train,seasonal=True,m=7,\n",
    "                       max_p=3,max_q=3,\n",
    "                       max_P=2,maq_Q=2,\n",
    "                       max_d=1,max_D=1,stepwise=True,suppress_warnings=True) # fit auto arima model\n"
   ]
  },
  {
   "cell_type": "code",
   "execution_count": null,
   "id": "35462860-4c93-4587-81e9-58cf367b6b2d",
   "metadata": {},
   "outputs": [],
   "source": [
    "y_pred_arima=arima_model.predict(n_periods=len(test))"
   ]
  },
  {
   "cell_type": "code",
   "execution_count": null,
   "id": "71215994-6cf4-499c-baa6-74a67665d2ae",
   "metadata": {},
   "outputs": [],
   "source": [
    "# covert predictions to Dataframe evaluation\n",
    "y_pred_arima=pd.DataFrame(y_pred_arima,index=test.index,columns=['Predictions'])"
   ]
  },
  {
   "cell_type": "markdown",
   "id": "6647ffcd-4715-4533-b348-aab1d4706bf3",
   "metadata": {},
   "source": [
    "Couldn't run this model in this Jupyter because of the RAM issue.It would be better it could run in google's colab."
   ]
  },
  {
   "cell_type": "markdown",
   "id": "3f13c836-2ecd-43f4-8fd4-c52faeeff6da",
   "metadata": {},
   "source": [
    "### Model Evaluation"
   ]
  },
  {
   "cell_type": "markdown",
   "id": "fbb3e505-958b-4edd-956c-bc2275f68666",
   "metadata": {},
   "source": [
    "#### Compare RMSE and MAPE for different models"
   ]
  },
  {
   "cell_type": "markdown",
   "id": "642d21b0-5df5-46e0-a225-fef9404d0222",
   "metadata": {},
   "source": [
    "ARIMA"
   ]
  },
  {
   "cell_type": "code",
   "execution_count": 146,
   "id": "a21e640e-ab46-4f5d-8674-87d551895c5d",
   "metadata": {},
   "outputs": [
    {
     "ename": "NameError",
     "evalue": "name 'y_pred_arima' is not defined",
     "output_type": "error",
     "traceback": [
      "\u001b[1;31m---------------------------------------------------------------------------\u001b[0m",
      "\u001b[1;31mNameError\u001b[0m                                 Traceback (most recent call last)",
      "Cell \u001b[1;32mIn[146], line 3\u001b[0m\n\u001b[0;32m      1\u001b[0m \u001b[38;5;28;01mfrom\u001b[39;00m \u001b[38;5;21;01msklearn\u001b[39;00m\u001b[38;5;21;01m.\u001b[39;00m\u001b[38;5;21;01mmetrics\u001b[39;00m \u001b[38;5;28;01mimport\u001b[39;00m mean_absolute_error,mean_squared_error,r2_score\n\u001b[1;32m----> 3\u001b[0m rmse\u001b[38;5;241m=\u001b[39mmean_absolute_error(test,y_pred_arima)\n\u001b[0;32m      4\u001b[0m mse\u001b[38;5;241m=\u001b[39mmean_squared_error(test,y_pred_arima)\n\u001b[0;32m      5\u001b[0m rmse\u001b[38;5;241m=\u001b[39mnp\u001b[38;5;241m.\u001b[39msqrt(mse)\n",
      "\u001b[1;31mNameError\u001b[0m: name 'y_pred_arima' is not defined"
     ]
    }
   ],
   "source": [
    "from sklearn.metrics import mean_absolute_error,mean_squared_error,r2_score\n",
    "\n",
    "rmse=mean_absolute_error(test,y_pred_arima)\n",
    "mse=mean_squared_error(test,y_pred_arima)\n",
    "rmse=np.sqrt(mse)\n",
    "r2==r2_score(test,y_pred_arima)\n"
   ]
  },
  {
   "cell_type": "markdown",
   "id": "6d690ea0-93fa-4869-b51f-ec9e0aa4154a",
   "metadata": {},
   "source": [
    "### Churn Prediction Using Logistic Regression"
   ]
  },
  {
   "cell_type": "code",
   "execution_count": 66,
   "id": "dbe2e97e-638e-495d-ab49-cc16bccfb42f",
   "metadata": {},
   "outputs": [
    {
     "name": "stdout",
     "output_type": "stream",
     "text": [
      "[5 3 1 4]\n"
     ]
    }
   ],
   "source": [
    "print(preprocessed['Feedback'].unique())"
   ]
  },
  {
   "cell_type": "markdown",
   "id": "6a7a60c0-8ddb-4926-9a77-4b06b124b255",
   "metadata": {},
   "source": [
    "This  dataset has no column named churn ,So we are using Feedback for to predict churn.\n"
   ]
  },
  {
   "cell_type": "code",
   "execution_count": 70,
   "id": "d3a58600-0649-49e5-948f-9e55e9ad745d",
   "metadata": {},
   "outputs": [],
   "source": [
    "preprocessed['Churn']=preprocessed['Feedback'].apply(lambda x:0 if x==1 else 1)"
   ]
  },
  {
   "cell_type": "code",
   "execution_count": 76,
   "id": "646027c8-574c-4901-b4f6-d7855cb12e50",
   "metadata": {},
   "outputs": [
    {
     "data": {
      "text/plain": [
       "0         1\n",
       "1         1\n",
       "2         1\n",
       "3         1\n",
       "4         0\n",
       "         ..\n",
       "302005    0\n",
       "302006    1\n",
       "302007    1\n",
       "302008    1\n",
       "302009    1\n",
       "Name: Churn, Length: 297051, dtype: int64"
      ]
     },
     "execution_count": 76,
     "metadata": {},
     "output_type": "execute_result"
    }
   ],
   "source": [
    "preprocessed['Churn']"
   ]
  },
  {
   "cell_type": "code",
   "execution_count": 74,
   "id": "9e32eca6-0a67-4da4-8006-93f8d621bbe4",
   "metadata": {},
   "outputs": [
    {
     "name": "stdout",
     "output_type": "stream",
     "text": [
      "   Feedback  Churn\n",
      "0         5      1\n",
      "1         5      1\n",
      "2         3      1\n",
      "3         5      1\n",
      "4         1      0\n",
      "5         4      1\n",
      "6         1      0\n",
      "7         1      0\n",
      "8         1      0\n",
      "9         5      1\n"
     ]
    }
   ],
   "source": [
    "print(preprocessed[['Feedback','Churn']].head(10))"
   ]
  },
  {
   "cell_type": "markdown",
   "id": "0178161b-2bc7-48c0-8b91-ee5405dd1510",
   "metadata": {},
   "source": [
    "\n",
    "##### Define target and Features"
   ]
  },
  {
   "cell_type": "code",
   "execution_count": 78,
   "id": "c495bdd1-d6d7-4e1b-84fb-74f993e5fc26",
   "metadata": {},
   "outputs": [],
   "source": [
    "from sklearn.model_selection import train_test_split\n",
    "from sklearn.preprocessing import StandardScaler\n",
    "from sklearn.linear_model import LogisticRegression\n",
    "from sklearn.metrics import confusion_matrix, accuracy_score\n",
    "from sklearn.metrics import classification_report,accuracy_score,confusion_matrix"
   ]
  },
  {
   "cell_type": "code",
   "execution_count": 98,
   "id": "8571ec43-8fa0-4942-9b2a-f7add202c218",
   "metadata": {},
   "outputs": [],
   "source": [
    "features=['City', 'State', 'Age','Total_Purchases', 'Amount',\n",
    "       'Total_Amount', 'Product_Type', 'Feedback', 'Ratings', 'products',\n",
    "       'DayOfWeek', 'Quarter', 'Year', 'Month', 'Weekday', 'DayofYear',\n",
    "       'Gender_Male', 'Income_Low', 'Income_Medium',\n",
    "       'Customer_Segment_Premium', 'Customer_Segment_Regular',\n",
    "       'Product_Brand_Apple', 'Product_Brand_Bed Bath & Beyond',\n",
    "       'Product_Brand_BlueStar', 'Product_Brand_Coca-Cola',\n",
    "       'Product_Brand_HarperCollins', 'Product_Brand_Home Depot',\n",
    "       'Product_Brand_IKEA', 'Product_Brand_Mitsubhisi',\n",
    "       'Product_Brand_Nestle', 'Product_Brand_Nike',\n",
    "       'Product_Brand_Penguin Books', 'Product_Brand_Pepsi',\n",
    "       'Product_Brand_Random House', 'Product_Brand_Samsung',\n",
    "       'Product_Brand_Sony', 'Product_Brand_Whirepool', 'Product_Brand_Zara',\n",
    "       'Product_Category_Clothing', 'Product_Category_Electronics',\n",
    "       'Product_Category_Grocery', 'Product_Category_Home Decor',\n",
    "       'Shipping_Method_Same-Day', 'Shipping_Method_Standard',\n",
    "       'Payment_Method_Credit Card', 'Payment_Method_Debit Card',\n",
    "       'Payment_Method_PayPal', 'Order_Status_Pending',\n",
    "       'Order_Status_Processing', 'Order_Status_Shipped']"
   ]
  },
  {
   "cell_type": "code",
   "execution_count": 100,
   "id": "b6e265e9-5aea-424f-8e45-2ec7414147ac",
   "metadata": {},
   "outputs": [
    {
     "name": "stdout",
     "output_type": "stream",
     "text": [
      "        City  State   Age  Total_Purchases      Amount  Total_Amount  \\\n",
      "0         35      4  21.0              3.0  108.028757    324.086270   \n",
      "1         87      9  19.0              2.0  403.353907    806.707815   \n",
      "2         46     33  48.0              3.0  354.477600   1063.432799   \n",
      "3         40     39  56.0              7.0  352.407717   2466.854021   \n",
      "4         20      9  22.0              2.0  124.276524    248.553049   \n",
      "...      ...    ...   ...              ...         ...           ...   \n",
      "302005   118     33  31.0              5.0  194.792597    973.962984   \n",
      "302006    52      4  35.0              1.0  285.137301    285.137301   \n",
      "302007    18      9  41.0              3.0   60.701761    182.105285   \n",
      "302008    49     39  41.0              1.0  120.834784    120.834784   \n",
      "302009   119     51  28.0              7.0  340.319059   2382.233417   \n",
      "\n",
      "        Product_Type  Feedback  Ratings  products  ...  \\\n",
      "0                 23         5      5.0        86  ...   \n",
      "1                 28         5      4.0       164  ...   \n",
      "2                  3         3      2.0       268  ...   \n",
      "3                 31         5      4.0       301  ...   \n",
      "4                  4         1      1.0        58  ...   \n",
      "...              ...       ...      ...       ...  ...   \n",
      "302005             8         1      1.0       145  ...   \n",
      "302006            16         5      5.0       159  ...   \n",
      "302007            12         3      2.0       206  ...   \n",
      "302008            10         4      4.0       280  ...   \n",
      "302009             6         3      2.0        64  ...   \n",
      "\n",
      "        Product_Category_Grocery  Product_Category_Home Decor  \\\n",
      "0                          False                        False   \n",
      "1                          False                        False   \n",
      "2                          False                        False   \n",
      "3                          False                         True   \n",
      "4                           True                        False   \n",
      "...                          ...                          ...   \n",
      "302005                     False                        False   \n",
      "302006                     False                        False   \n",
      "302007                     False                        False   \n",
      "302008                     False                         True   \n",
      "302009                     False                         True   \n",
      "\n",
      "        Shipping_Method_Same-Day  Shipping_Method_Standard  \\\n",
      "0                           True                     False   \n",
      "1                          False                      True   \n",
      "2                           True                     False   \n",
      "3                          False                      True   \n",
      "4                          False                      True   \n",
      "...                          ...                       ...   \n",
      "302005                      True                     False   \n",
      "302006                      True                     False   \n",
      "302007                     False                     False   \n",
      "302008                     False                      True   \n",
      "302009                      True                     False   \n",
      "\n",
      "        Payment_Method_Credit Card  Payment_Method_Debit Card  \\\n",
      "0                            False                       True   \n",
      "1                             True                      False   \n",
      "2                             True                      False   \n",
      "3                            False                      False   \n",
      "4                            False                      False   \n",
      "...                            ...                        ...   \n",
      "302005                       False                      False   \n",
      "302006                       False                      False   \n",
      "302007                       False                      False   \n",
      "302008                       False                      False   \n",
      "302009                       False                      False   \n",
      "\n",
      "        Payment_Method_PayPal  Order_Status_Pending  Order_Status_Processing  \\\n",
      "0                       False                 False                    False   \n",
      "1                       False                 False                     True   \n",
      "2                       False                 False                     True   \n",
      "3                        True                 False                     True   \n",
      "4                       False                 False                    False   \n",
      "...                       ...                   ...                      ...   \n",
      "302005                  False                 False                     True   \n",
      "302006                  False                 False                     True   \n",
      "302007                  False                 False                    False   \n",
      "302008                  False                 False                    False   \n",
      "302009                  False                 False                    False   \n",
      "\n",
      "        Order_Status_Shipped  \n",
      "0                       True  \n",
      "1                      False  \n",
      "2                      False  \n",
      "3                      False  \n",
      "4                       True  \n",
      "...                      ...  \n",
      "302005                 False  \n",
      "302006                 False  \n",
      "302007                  True  \n",
      "302008                  True  \n",
      "302009                  True  \n",
      "\n",
      "[297051 rows x 50 columns]\n",
      "0         1\n",
      "1         1\n",
      "2         1\n",
      "3         1\n",
      "4         0\n",
      "         ..\n",
      "302005    0\n",
      "302006    1\n",
      "302007    1\n",
      "302008    1\n",
      "302009    1\n",
      "Name: Churn, Length: 297051, dtype: int64\n"
     ]
    }
   ],
   "source": [
    "X=preprocessed[features]\n",
    "y=preprocessed['Churn']\n",
    "print(X)\n",
    "print(y)"
   ]
  },
  {
   "cell_type": "markdown",
   "id": "0ac06f01-cda3-43fa-bcf8-c4896d009625",
   "metadata": {},
   "source": [
    "#### Split the data into test and train data"
   ]
  },
  {
   "cell_type": "code",
   "execution_count": 102,
   "id": "fe5fa999-a399-4eaa-8293-eaee442dc033",
   "metadata": {},
   "outputs": [],
   "source": [
    "X_train, X_test, y_train, y_test = train_test_split(X, y, test_size = 0.2, random_state = 42)"
   ]
  },
  {
   "cell_type": "markdown",
   "id": "c2fad7c5-0141-48a9-81d8-851a66eeda7b",
   "metadata": {},
   "source": [
    "##### Build and train the model"
   ]
  },
  {
   "cell_type": "code",
   "execution_count": 106,
   "id": "1e702aa9-6688-4b55-810e-080aa04bff68",
   "metadata": {},
   "outputs": [
    {
     "data": {
      "text/html": [
       "<style>#sk-container-id-1 {\n",
       "  /* Definition of color scheme common for light and dark mode */\n",
       "  --sklearn-color-text: black;\n",
       "  --sklearn-color-line: gray;\n",
       "  /* Definition of color scheme for unfitted estimators */\n",
       "  --sklearn-color-unfitted-level-0: #fff5e6;\n",
       "  --sklearn-color-unfitted-level-1: #f6e4d2;\n",
       "  --sklearn-color-unfitted-level-2: #ffe0b3;\n",
       "  --sklearn-color-unfitted-level-3: chocolate;\n",
       "  /* Definition of color scheme for fitted estimators */\n",
       "  --sklearn-color-fitted-level-0: #f0f8ff;\n",
       "  --sklearn-color-fitted-level-1: #d4ebff;\n",
       "  --sklearn-color-fitted-level-2: #b3dbfd;\n",
       "  --sklearn-color-fitted-level-3: cornflowerblue;\n",
       "\n",
       "  /* Specific color for light theme */\n",
       "  --sklearn-color-text-on-default-background: var(--sg-text-color, var(--theme-code-foreground, var(--jp-content-font-color1, black)));\n",
       "  --sklearn-color-background: var(--sg-background-color, var(--theme-background, var(--jp-layout-color0, white)));\n",
       "  --sklearn-color-border-box: var(--sg-text-color, var(--theme-code-foreground, var(--jp-content-font-color1, black)));\n",
       "  --sklearn-color-icon: #696969;\n",
       "\n",
       "  @media (prefers-color-scheme: dark) {\n",
       "    /* Redefinition of color scheme for dark theme */\n",
       "    --sklearn-color-text-on-default-background: var(--sg-text-color, var(--theme-code-foreground, var(--jp-content-font-color1, white)));\n",
       "    --sklearn-color-background: var(--sg-background-color, var(--theme-background, var(--jp-layout-color0, #111)));\n",
       "    --sklearn-color-border-box: var(--sg-text-color, var(--theme-code-foreground, var(--jp-content-font-color1, white)));\n",
       "    --sklearn-color-icon: #878787;\n",
       "  }\n",
       "}\n",
       "\n",
       "#sk-container-id-1 {\n",
       "  color: var(--sklearn-color-text);\n",
       "}\n",
       "\n",
       "#sk-container-id-1 pre {\n",
       "  padding: 0;\n",
       "}\n",
       "\n",
       "#sk-container-id-1 input.sk-hidden--visually {\n",
       "  border: 0;\n",
       "  clip: rect(1px 1px 1px 1px);\n",
       "  clip: rect(1px, 1px, 1px, 1px);\n",
       "  height: 1px;\n",
       "  margin: -1px;\n",
       "  overflow: hidden;\n",
       "  padding: 0;\n",
       "  position: absolute;\n",
       "  width: 1px;\n",
       "}\n",
       "\n",
       "#sk-container-id-1 div.sk-dashed-wrapped {\n",
       "  border: 1px dashed var(--sklearn-color-line);\n",
       "  margin: 0 0.4em 0.5em 0.4em;\n",
       "  box-sizing: border-box;\n",
       "  padding-bottom: 0.4em;\n",
       "  background-color: var(--sklearn-color-background);\n",
       "}\n",
       "\n",
       "#sk-container-id-1 div.sk-container {\n",
       "  /* jupyter's `normalize.less` sets `[hidden] { display: none; }`\n",
       "     but bootstrap.min.css set `[hidden] { display: none !important; }`\n",
       "     so we also need the `!important` here to be able to override the\n",
       "     default hidden behavior on the sphinx rendered scikit-learn.org.\n",
       "     See: https://github.com/scikit-learn/scikit-learn/issues/21755 */\n",
       "  display: inline-block !important;\n",
       "  position: relative;\n",
       "}\n",
       "\n",
       "#sk-container-id-1 div.sk-text-repr-fallback {\n",
       "  display: none;\n",
       "}\n",
       "\n",
       "div.sk-parallel-item,\n",
       "div.sk-serial,\n",
       "div.sk-item {\n",
       "  /* draw centered vertical line to link estimators */\n",
       "  background-image: linear-gradient(var(--sklearn-color-text-on-default-background), var(--sklearn-color-text-on-default-background));\n",
       "  background-size: 2px 100%;\n",
       "  background-repeat: no-repeat;\n",
       "  background-position: center center;\n",
       "}\n",
       "\n",
       "/* Parallel-specific style estimator block */\n",
       "\n",
       "#sk-container-id-1 div.sk-parallel-item::after {\n",
       "  content: \"\";\n",
       "  width: 100%;\n",
       "  border-bottom: 2px solid var(--sklearn-color-text-on-default-background);\n",
       "  flex-grow: 1;\n",
       "}\n",
       "\n",
       "#sk-container-id-1 div.sk-parallel {\n",
       "  display: flex;\n",
       "  align-items: stretch;\n",
       "  justify-content: center;\n",
       "  background-color: var(--sklearn-color-background);\n",
       "  position: relative;\n",
       "}\n",
       "\n",
       "#sk-container-id-1 div.sk-parallel-item {\n",
       "  display: flex;\n",
       "  flex-direction: column;\n",
       "}\n",
       "\n",
       "#sk-container-id-1 div.sk-parallel-item:first-child::after {\n",
       "  align-self: flex-end;\n",
       "  width: 50%;\n",
       "}\n",
       "\n",
       "#sk-container-id-1 div.sk-parallel-item:last-child::after {\n",
       "  align-self: flex-start;\n",
       "  width: 50%;\n",
       "}\n",
       "\n",
       "#sk-container-id-1 div.sk-parallel-item:only-child::after {\n",
       "  width: 0;\n",
       "}\n",
       "\n",
       "/* Serial-specific style estimator block */\n",
       "\n",
       "#sk-container-id-1 div.sk-serial {\n",
       "  display: flex;\n",
       "  flex-direction: column;\n",
       "  align-items: center;\n",
       "  background-color: var(--sklearn-color-background);\n",
       "  padding-right: 1em;\n",
       "  padding-left: 1em;\n",
       "}\n",
       "\n",
       "\n",
       "/* Toggleable style: style used for estimator/Pipeline/ColumnTransformer box that is\n",
       "clickable and can be expanded/collapsed.\n",
       "- Pipeline and ColumnTransformer use this feature and define the default style\n",
       "- Estimators will overwrite some part of the style using the `sk-estimator` class\n",
       "*/\n",
       "\n",
       "/* Pipeline and ColumnTransformer style (default) */\n",
       "\n",
       "#sk-container-id-1 div.sk-toggleable {\n",
       "  /* Default theme specific background. It is overwritten whether we have a\n",
       "  specific estimator or a Pipeline/ColumnTransformer */\n",
       "  background-color: var(--sklearn-color-background);\n",
       "}\n",
       "\n",
       "/* Toggleable label */\n",
       "#sk-container-id-1 label.sk-toggleable__label {\n",
       "  cursor: pointer;\n",
       "  display: block;\n",
       "  width: 100%;\n",
       "  margin-bottom: 0;\n",
       "  padding: 0.5em;\n",
       "  box-sizing: border-box;\n",
       "  text-align: center;\n",
       "}\n",
       "\n",
       "#sk-container-id-1 label.sk-toggleable__label-arrow:before {\n",
       "  /* Arrow on the left of the label */\n",
       "  content: \"▸\";\n",
       "  float: left;\n",
       "  margin-right: 0.25em;\n",
       "  color: var(--sklearn-color-icon);\n",
       "}\n",
       "\n",
       "#sk-container-id-1 label.sk-toggleable__label-arrow:hover:before {\n",
       "  color: var(--sklearn-color-text);\n",
       "}\n",
       "\n",
       "/* Toggleable content - dropdown */\n",
       "\n",
       "#sk-container-id-1 div.sk-toggleable__content {\n",
       "  max-height: 0;\n",
       "  max-width: 0;\n",
       "  overflow: hidden;\n",
       "  text-align: left;\n",
       "  /* unfitted */\n",
       "  background-color: var(--sklearn-color-unfitted-level-0);\n",
       "}\n",
       "\n",
       "#sk-container-id-1 div.sk-toggleable__content.fitted {\n",
       "  /* fitted */\n",
       "  background-color: var(--sklearn-color-fitted-level-0);\n",
       "}\n",
       "\n",
       "#sk-container-id-1 div.sk-toggleable__content pre {\n",
       "  margin: 0.2em;\n",
       "  border-radius: 0.25em;\n",
       "  color: var(--sklearn-color-text);\n",
       "  /* unfitted */\n",
       "  background-color: var(--sklearn-color-unfitted-level-0);\n",
       "}\n",
       "\n",
       "#sk-container-id-1 div.sk-toggleable__content.fitted pre {\n",
       "  /* unfitted */\n",
       "  background-color: var(--sklearn-color-fitted-level-0);\n",
       "}\n",
       "\n",
       "#sk-container-id-1 input.sk-toggleable__control:checked~div.sk-toggleable__content {\n",
       "  /* Expand drop-down */\n",
       "  max-height: 200px;\n",
       "  max-width: 100%;\n",
       "  overflow: auto;\n",
       "}\n",
       "\n",
       "#sk-container-id-1 input.sk-toggleable__control:checked~label.sk-toggleable__label-arrow:before {\n",
       "  content: \"▾\";\n",
       "}\n",
       "\n",
       "/* Pipeline/ColumnTransformer-specific style */\n",
       "\n",
       "#sk-container-id-1 div.sk-label input.sk-toggleable__control:checked~label.sk-toggleable__label {\n",
       "  color: var(--sklearn-color-text);\n",
       "  background-color: var(--sklearn-color-unfitted-level-2);\n",
       "}\n",
       "\n",
       "#sk-container-id-1 div.sk-label.fitted input.sk-toggleable__control:checked~label.sk-toggleable__label {\n",
       "  background-color: var(--sklearn-color-fitted-level-2);\n",
       "}\n",
       "\n",
       "/* Estimator-specific style */\n",
       "\n",
       "/* Colorize estimator box */\n",
       "#sk-container-id-1 div.sk-estimator input.sk-toggleable__control:checked~label.sk-toggleable__label {\n",
       "  /* unfitted */\n",
       "  background-color: var(--sklearn-color-unfitted-level-2);\n",
       "}\n",
       "\n",
       "#sk-container-id-1 div.sk-estimator.fitted input.sk-toggleable__control:checked~label.sk-toggleable__label {\n",
       "  /* fitted */\n",
       "  background-color: var(--sklearn-color-fitted-level-2);\n",
       "}\n",
       "\n",
       "#sk-container-id-1 div.sk-label label.sk-toggleable__label,\n",
       "#sk-container-id-1 div.sk-label label {\n",
       "  /* The background is the default theme color */\n",
       "  color: var(--sklearn-color-text-on-default-background);\n",
       "}\n",
       "\n",
       "/* On hover, darken the color of the background */\n",
       "#sk-container-id-1 div.sk-label:hover label.sk-toggleable__label {\n",
       "  color: var(--sklearn-color-text);\n",
       "  background-color: var(--sklearn-color-unfitted-level-2);\n",
       "}\n",
       "\n",
       "/* Label box, darken color on hover, fitted */\n",
       "#sk-container-id-1 div.sk-label.fitted:hover label.sk-toggleable__label.fitted {\n",
       "  color: var(--sklearn-color-text);\n",
       "  background-color: var(--sklearn-color-fitted-level-2);\n",
       "}\n",
       "\n",
       "/* Estimator label */\n",
       "\n",
       "#sk-container-id-1 div.sk-label label {\n",
       "  font-family: monospace;\n",
       "  font-weight: bold;\n",
       "  display: inline-block;\n",
       "  line-height: 1.2em;\n",
       "}\n",
       "\n",
       "#sk-container-id-1 div.sk-label-container {\n",
       "  text-align: center;\n",
       "}\n",
       "\n",
       "/* Estimator-specific */\n",
       "#sk-container-id-1 div.sk-estimator {\n",
       "  font-family: monospace;\n",
       "  border: 1px dotted var(--sklearn-color-border-box);\n",
       "  border-radius: 0.25em;\n",
       "  box-sizing: border-box;\n",
       "  margin-bottom: 0.5em;\n",
       "  /* unfitted */\n",
       "  background-color: var(--sklearn-color-unfitted-level-0);\n",
       "}\n",
       "\n",
       "#sk-container-id-1 div.sk-estimator.fitted {\n",
       "  /* fitted */\n",
       "  background-color: var(--sklearn-color-fitted-level-0);\n",
       "}\n",
       "\n",
       "/* on hover */\n",
       "#sk-container-id-1 div.sk-estimator:hover {\n",
       "  /* unfitted */\n",
       "  background-color: var(--sklearn-color-unfitted-level-2);\n",
       "}\n",
       "\n",
       "#sk-container-id-1 div.sk-estimator.fitted:hover {\n",
       "  /* fitted */\n",
       "  background-color: var(--sklearn-color-fitted-level-2);\n",
       "}\n",
       "\n",
       "/* Specification for estimator info (e.g. \"i\" and \"?\") */\n",
       "\n",
       "/* Common style for \"i\" and \"?\" */\n",
       "\n",
       ".sk-estimator-doc-link,\n",
       "a:link.sk-estimator-doc-link,\n",
       "a:visited.sk-estimator-doc-link {\n",
       "  float: right;\n",
       "  font-size: smaller;\n",
       "  line-height: 1em;\n",
       "  font-family: monospace;\n",
       "  background-color: var(--sklearn-color-background);\n",
       "  border-radius: 1em;\n",
       "  height: 1em;\n",
       "  width: 1em;\n",
       "  text-decoration: none !important;\n",
       "  margin-left: 1ex;\n",
       "  /* unfitted */\n",
       "  border: var(--sklearn-color-unfitted-level-1) 1pt solid;\n",
       "  color: var(--sklearn-color-unfitted-level-1);\n",
       "}\n",
       "\n",
       ".sk-estimator-doc-link.fitted,\n",
       "a:link.sk-estimator-doc-link.fitted,\n",
       "a:visited.sk-estimator-doc-link.fitted {\n",
       "  /* fitted */\n",
       "  border: var(--sklearn-color-fitted-level-1) 1pt solid;\n",
       "  color: var(--sklearn-color-fitted-level-1);\n",
       "}\n",
       "\n",
       "/* On hover */\n",
       "div.sk-estimator:hover .sk-estimator-doc-link:hover,\n",
       ".sk-estimator-doc-link:hover,\n",
       "div.sk-label-container:hover .sk-estimator-doc-link:hover,\n",
       ".sk-estimator-doc-link:hover {\n",
       "  /* unfitted */\n",
       "  background-color: var(--sklearn-color-unfitted-level-3);\n",
       "  color: var(--sklearn-color-background);\n",
       "  text-decoration: none;\n",
       "}\n",
       "\n",
       "div.sk-estimator.fitted:hover .sk-estimator-doc-link.fitted:hover,\n",
       ".sk-estimator-doc-link.fitted:hover,\n",
       "div.sk-label-container:hover .sk-estimator-doc-link.fitted:hover,\n",
       ".sk-estimator-doc-link.fitted:hover {\n",
       "  /* fitted */\n",
       "  background-color: var(--sklearn-color-fitted-level-3);\n",
       "  color: var(--sklearn-color-background);\n",
       "  text-decoration: none;\n",
       "}\n",
       "\n",
       "/* Span, style for the box shown on hovering the info icon */\n",
       ".sk-estimator-doc-link span {\n",
       "  display: none;\n",
       "  z-index: 9999;\n",
       "  position: relative;\n",
       "  font-weight: normal;\n",
       "  right: .2ex;\n",
       "  padding: .5ex;\n",
       "  margin: .5ex;\n",
       "  width: min-content;\n",
       "  min-width: 20ex;\n",
       "  max-width: 50ex;\n",
       "  color: var(--sklearn-color-text);\n",
       "  box-shadow: 2pt 2pt 4pt #999;\n",
       "  /* unfitted */\n",
       "  background: var(--sklearn-color-unfitted-level-0);\n",
       "  border: .5pt solid var(--sklearn-color-unfitted-level-3);\n",
       "}\n",
       "\n",
       ".sk-estimator-doc-link.fitted span {\n",
       "  /* fitted */\n",
       "  background: var(--sklearn-color-fitted-level-0);\n",
       "  border: var(--sklearn-color-fitted-level-3);\n",
       "}\n",
       "\n",
       ".sk-estimator-doc-link:hover span {\n",
       "  display: block;\n",
       "}\n",
       "\n",
       "/* \"?\"-specific style due to the `<a>` HTML tag */\n",
       "\n",
       "#sk-container-id-1 a.estimator_doc_link {\n",
       "  float: right;\n",
       "  font-size: 1rem;\n",
       "  line-height: 1em;\n",
       "  font-family: monospace;\n",
       "  background-color: var(--sklearn-color-background);\n",
       "  border-radius: 1rem;\n",
       "  height: 1rem;\n",
       "  width: 1rem;\n",
       "  text-decoration: none;\n",
       "  /* unfitted */\n",
       "  color: var(--sklearn-color-unfitted-level-1);\n",
       "  border: var(--sklearn-color-unfitted-level-1) 1pt solid;\n",
       "}\n",
       "\n",
       "#sk-container-id-1 a.estimator_doc_link.fitted {\n",
       "  /* fitted */\n",
       "  border: var(--sklearn-color-fitted-level-1) 1pt solid;\n",
       "  color: var(--sklearn-color-fitted-level-1);\n",
       "}\n",
       "\n",
       "/* On hover */\n",
       "#sk-container-id-1 a.estimator_doc_link:hover {\n",
       "  /* unfitted */\n",
       "  background-color: var(--sklearn-color-unfitted-level-3);\n",
       "  color: var(--sklearn-color-background);\n",
       "  text-decoration: none;\n",
       "}\n",
       "\n",
       "#sk-container-id-1 a.estimator_doc_link.fitted:hover {\n",
       "  /* fitted */\n",
       "  background-color: var(--sklearn-color-fitted-level-3);\n",
       "}\n",
       "</style><div id=\"sk-container-id-1\" class=\"sk-top-container\"><div class=\"sk-text-repr-fallback\"><pre>LogisticRegression()</pre><b>In a Jupyter environment, please rerun this cell to show the HTML representation or trust the notebook. <br />On GitHub, the HTML representation is unable to render, please try loading this page with nbviewer.org.</b></div><div class=\"sk-container\" hidden><div class=\"sk-item\"><div class=\"sk-estimator fitted sk-toggleable\"><input class=\"sk-toggleable__control sk-hidden--visually\" id=\"sk-estimator-id-1\" type=\"checkbox\" checked><label for=\"sk-estimator-id-1\" class=\"sk-toggleable__label fitted sk-toggleable__label-arrow fitted\">&nbsp;&nbsp;LogisticRegression<a class=\"sk-estimator-doc-link fitted\" rel=\"noreferrer\" target=\"_blank\" href=\"https://scikit-learn.org/1.4/modules/generated/sklearn.linear_model.LogisticRegression.html\">?<span>Documentation for LogisticRegression</span></a><span class=\"sk-estimator-doc-link fitted\">i<span>Fitted</span></span></label><div class=\"sk-toggleable__content fitted\"><pre>LogisticRegression()</pre></div> </div></div></div></div>"
      ],
      "text/plain": [
       "LogisticRegression()"
      ]
     },
     "execution_count": 106,
     "metadata": {},
     "output_type": "execute_result"
    }
   ],
   "source": [
    "model= LogisticRegression()\n",
    "model.fit(X_train, y_train)"
   ]
  },
  {
   "cell_type": "code",
   "execution_count": 108,
   "id": "a5292c40-83cb-4ed9-a266-10d78b34d1fc",
   "metadata": {},
   "outputs": [],
   "source": [
    "y_pred=model.predict(X_test)"
   ]
  },
  {
   "cell_type": "markdown",
   "id": "36f7265f-2bc2-4373-9277-6c9b17e382d4",
   "metadata": {},
   "source": [
    "#### Print the Accuracy score"
   ]
  },
  {
   "cell_type": "code",
   "execution_count": 110,
   "id": "401fca7a-66af-4f36-92b8-46eecf792653",
   "metadata": {},
   "outputs": [
    {
     "name": "stdout",
     "output_type": "stream",
     "text": [
      "Accuracy:0.97\n",
      "Confusion Metrix:\n",
      " [[ 7595   925]\n",
      " [  983 49908]]\n",
      "Classification Report:\n",
      "               precision    recall  f1-score   support\n",
      "\n",
      "           0       0.89      0.89      0.89      8520\n",
      "           1       0.98      0.98      0.98     50891\n",
      "\n",
      "    accuracy                           0.97     59411\n",
      "   macro avg       0.93      0.94      0.93     59411\n",
      "weighted avg       0.97      0.97      0.97     59411\n",
      "\n"
     ]
    }
   ],
   "source": [
    "accuracy=accuracy_score(y_test,y_pred)\n",
    "print(f'Accuracy:{accuracy:.2f}')\n",
    "print('Confusion Metrix:\\n',confusion_matrix(y_test,y_pred))\n",
    "print('Classification Report:\\n',classification_report(y_test,y_pred))"
   ]
  },
  {
   "cell_type": "markdown",
   "id": "61525991-0331-4889-b67f-b5635f0bc149",
   "metadata": {},
   "source": [
    "This  Logistic Regression Model shows 97% Accuracy."
   ]
  },
  {
   "cell_type": "markdown",
   "id": "f3981c79-68db-470b-aea7-c4fe108e23c1",
   "metadata": {},
   "source": [
    "## Thank You"
   ]
  },
  {
   "cell_type": "code",
   "execution_count": null,
   "id": "320310b7-6ec4-4117-9f22-a9c1a320a596",
   "metadata": {},
   "outputs": [],
   "source": []
  }
 ],
 "metadata": {
  "kernelspec": {
   "display_name": "Python 3 (ipykernel)",
   "language": "python",
   "name": "python3"
  },
  "language_info": {
   "codemirror_mode": {
    "name": "ipython",
    "version": 3
   },
   "file_extension": ".py",
   "mimetype": "text/x-python",
   "name": "python",
   "nbconvert_exporter": "python",
   "pygments_lexer": "ipython3",
   "version": "3.12.4"
  }
 },
 "nbformat": 4,
 "nbformat_minor": 5
}
